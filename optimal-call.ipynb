{
 "cells": [
  {
   "cell_type": "code",
   "execution_count": 84,
   "metadata": {},
   "outputs": [],
   "source": [
    "import pandas as pd\n",
    "import yfinance as yf\n",
    "from datetime import date\n",
    "from yfetch import get_stock_history, get_option_chains\n"
   ]
  },
  {
   "cell_type": "code",
   "execution_count": 85,
   "metadata": {},
   "outputs": [],
   "source": [
    "symbol = 'NVDA'\n",
    "expiry = '2026-09-18' \n"
   ]
  },
  {
   "cell_type": "code",
   "execution_count": 86,
   "metadata": {},
   "outputs": [],
   "source": [
    "ticker = yf.Ticker(symbol)\n",
    "if expiry not in ticker.options:\n",
    "  print(f'{symbol} expirations:')\n",
    "  for x in ticker.options:\n",
    "      print(x)\n",
    "  print('Pick one and set in expiry variable')"
   ]
  },
  {
   "cell_type": "code",
   "execution_count": 87,
   "metadata": {},
   "outputs": [
    {
     "name": "stdout",
     "output_type": "stream",
     "text": [
      "NVDA\n",
      "Last close: $178.19\n",
      "Median SMA dist: +33.37%\n",
      "Median change over 242d: 79.04%\n",
      "Expected price on 2026-09-18: $338.11 (+89.75%)\n"
     ]
    }
   ],
   "source": [
    "assert expiry in ticker.options, f'Invalid expiry {expiry} for {symbol}'\n",
    "calendar_days = (date.fromisoformat(expiry) - date.today()).days\n",
    "trading_days = round(calendar_days * 252 / 365)\n",
    "sma_days = trading_days\n",
    " \n",
    "history = get_stock_history(symbol, interval='1d')\n",
    "history['SMA'] = history['Close'].rolling(window=sma_days).mean()\n",
    "history['SMA_dist'] = history.Close / history.SMA - 1\n",
    "history['Change'] = history.Close.pct_change(periods=trading_days)\n",
    "\n",
    "last_close = history.Close.iloc[-1]\n",
    "last_sma = history.SMA.iloc[-1]\n",
    "median_dist = history.SMA_dist.median()\n",
    "norm_price = last_sma * (1 + median_dist)\n",
    "median_change = history.Change.median()\n",
    "future_price = norm_price * (1 + median_change)\n",
    "\n",
    "print(symbol)\n",
    "print(f'Last close: ${last_close:.2f}')\n",
    "# print(f'SMA {sma_days}d: ${last_sma:.2f}')\n",
    "print(f'Median SMA dist: {median_dist:+.2%}')\n",
    "# print(f'Norm price: ${norm_price:.2f}')\n",
    "print(f'Median change over {trading_days}d: {median_change:.2%}')\n",
    "print(f'Expected price on {expiry}: ${future_price:.2f} ({future_price/last_close-1:+.2%})')"
   ]
  },
  {
   "cell_type": "code",
   "execution_count": 88,
   "metadata": {},
   "outputs": [
    {
     "name": "stdout",
     "output_type": "stream",
     "text": [
      "Fetching option chain for NVDA expiring on 2026-09-18\n",
      "ticker.option_chain(2026-09-18) took 0.150 seconds\n",
      "NVDA price on 2025-10-02: $188.89\n",
      "OTM calls expiring on 2026-09-18:\n",
      "$190.00 - $33.90\n",
      "$195.00 - $31.45\n",
      "$200.00 - $29.30\n",
      "$210.00 - $25.32\n",
      "$220.00 - $21.82\n",
      "$230.00 - $18.75\n",
      "$240.00 - $16.10\n",
      "$250.00 - $13.75\n",
      "$260.00 - $11.77\n",
      "$270.00 - $10.07\n",
      "$280.00 - $8.62\n",
      "$290.00 - $7.42\n",
      "$300.00 - $6.30\n",
      "$310.00 - $5.42\n",
      "$320.00 - $4.70\n",
      "$330.00 - $4.03\n",
      "$340.00 - $3.50\n",
      "$350.00 - $3.05\n",
      "$360.00 - $2.64\n"
     ]
    }
   ],
   "source": [
    "chains = get_option_chains(symbol, expiry=expiry)\n",
    "print(f'{symbol} price on {chains.market_date}: ${chains.stock_price:.2f}')\n",
    "\n",
    "chain = chains.chains[expiry]\n",
    "calls = chain.get_otm_calls()\n",
    "print(f'OTM calls expiring on {expiry}:')\n",
    "for strike, call_price in calls:\n",
    "  print(f'${strike:.2f} - ${call_price:.2f}')"
   ]
  },
  {
   "cell_type": "code",
   "execution_count": 89,
   "metadata": {},
   "outputs": [
    {
     "data": {
      "application/vnd.microsoft.datawrangler.viewer.v0+json": {
       "columns": [
        {
         "name": "index",
         "rawType": "int64",
         "type": "integer"
        },
        {
         "name": "Strike",
         "rawType": "float64",
         "type": "float"
        },
        {
         "name": "Call Price",
         "rawType": "float64",
         "type": "float"
        },
        {
         "name": "ITM",
         "rawType": "float64",
         "type": "float"
        },
        {
         "name": "Profit",
         "rawType": "float64",
         "type": "float"
        }
       ],
       "ref": "fe79c565-dee4-4d13-8d57-d2809b1dcfba",
       "rows": [
        [
         "0",
         "190.0",
         "33.9",
         "148.11338941891796",
         "336.91265315315036"
        ],
        [
         "1",
         "195.0",
         "31.450000000000003",
         "143.11338941891796",
         "355.0505227946517"
        ],
        [
         "2",
         "200.0",
         "29.299999999999997",
         "138.11338941891796",
         "371.37675569596576"
        ],
        [
         "3",
         "210.0",
         "25.325",
         "128.11338941891796",
         "405.87715466502647"
        ],
        [
         "4",
         "220.0",
         "21.825",
         "118.11338941891796",
         "441.18391486331257"
        ],
        [
         "5",
         "230.0",
         "18.75",
         "108.11338941891796",
         "476.6047435675625"
        ],
        [
         "6",
         "240.0",
         "16.1",
         "98.11338941891796",
         "509.39993427899356"
        ],
        [
         "7",
         "250.0",
         "13.75",
         "88.11338941891796",
         "540.8246503194033"
        ],
        [
         "8",
         "260.0",
         "11.774999999999999",
         "78.11338941891796",
         "563.3833496298765"
        ],
        [
         "9",
         "270.0",
         "10.075",
         "68.11338941891796",
         "576.0634185500543"
        ],
        [
         "10",
         "280.0",
         "8.625",
         "58.11338941891796",
         "573.7784280454257"
        ],
        [
         "11",
         "290.0",
         "7.425",
         "48.11338941891796",
         "547.9917766857639"
        ],
        [
         "12",
         "300.0",
         "6.3",
         "38.11338941891796",
         "504.97443522092"
        ],
        [
         "13",
         "310.0",
         "5.425",
         "28.11338941891796",
         "418.2191597957228"
        ],
        [
         "14",
         "320.0",
         "4.7",
         "18.11338941891796",
         "285.39126423229703"
        ],
        [
         "15",
         "330.0",
         "4.025",
         "8.113389418917961",
         "101.5748923954773"
        ],
        [
         "16",
         "340.0",
         "3.5",
         "0.0",
         "-100.0"
        ],
        [
         "17",
         "350.0",
         "3.05",
         "0.0",
         "-100.0"
        ],
        [
         "18",
         "360.0",
         "2.64",
         "0.0",
         "-100.0"
        ]
       ],
       "shape": {
        "columns": 4,
        "rows": 19
       }
      },
      "text/html": [
       "<div>\n",
       "<style scoped>\n",
       "    .dataframe tbody tr th:only-of-type {\n",
       "        vertical-align: middle;\n",
       "    }\n",
       "\n",
       "    .dataframe tbody tr th {\n",
       "        vertical-align: top;\n",
       "    }\n",
       "\n",
       "    .dataframe thead th {\n",
       "        text-align: right;\n",
       "    }\n",
       "</style>\n",
       "<table border=\"1\" class=\"dataframe\">\n",
       "  <thead>\n",
       "    <tr style=\"text-align: right;\">\n",
       "      <th></th>\n",
       "      <th>Strike</th>\n",
       "      <th>Call Price</th>\n",
       "      <th>ITM</th>\n",
       "      <th>Profit</th>\n",
       "    </tr>\n",
       "  </thead>\n",
       "  <tbody>\n",
       "    <tr>\n",
       "      <th>0</th>\n",
       "      <td>190.0</td>\n",
       "      <td>33.900</td>\n",
       "      <td>148.113389</td>\n",
       "      <td>336.912653</td>\n",
       "    </tr>\n",
       "    <tr>\n",
       "      <th>1</th>\n",
       "      <td>195.0</td>\n",
       "      <td>31.450</td>\n",
       "      <td>143.113389</td>\n",
       "      <td>355.050523</td>\n",
       "    </tr>\n",
       "    <tr>\n",
       "      <th>2</th>\n",
       "      <td>200.0</td>\n",
       "      <td>29.300</td>\n",
       "      <td>138.113389</td>\n",
       "      <td>371.376756</td>\n",
       "    </tr>\n",
       "    <tr>\n",
       "      <th>3</th>\n",
       "      <td>210.0</td>\n",
       "      <td>25.325</td>\n",
       "      <td>128.113389</td>\n",
       "      <td>405.877155</td>\n",
       "    </tr>\n",
       "    <tr>\n",
       "      <th>4</th>\n",
       "      <td>220.0</td>\n",
       "      <td>21.825</td>\n",
       "      <td>118.113389</td>\n",
       "      <td>441.183915</td>\n",
       "    </tr>\n",
       "    <tr>\n",
       "      <th>5</th>\n",
       "      <td>230.0</td>\n",
       "      <td>18.750</td>\n",
       "      <td>108.113389</td>\n",
       "      <td>476.604744</td>\n",
       "    </tr>\n",
       "    <tr>\n",
       "      <th>6</th>\n",
       "      <td>240.0</td>\n",
       "      <td>16.100</td>\n",
       "      <td>98.113389</td>\n",
       "      <td>509.399934</td>\n",
       "    </tr>\n",
       "    <tr>\n",
       "      <th>7</th>\n",
       "      <td>250.0</td>\n",
       "      <td>13.750</td>\n",
       "      <td>88.113389</td>\n",
       "      <td>540.824650</td>\n",
       "    </tr>\n",
       "    <tr>\n",
       "      <th>8</th>\n",
       "      <td>260.0</td>\n",
       "      <td>11.775</td>\n",
       "      <td>78.113389</td>\n",
       "      <td>563.383350</td>\n",
       "    </tr>\n",
       "    <tr>\n",
       "      <th>9</th>\n",
       "      <td>270.0</td>\n",
       "      <td>10.075</td>\n",
       "      <td>68.113389</td>\n",
       "      <td>576.063419</td>\n",
       "    </tr>\n",
       "    <tr>\n",
       "      <th>10</th>\n",
       "      <td>280.0</td>\n",
       "      <td>8.625</td>\n",
       "      <td>58.113389</td>\n",
       "      <td>573.778428</td>\n",
       "    </tr>\n",
       "    <tr>\n",
       "      <th>11</th>\n",
       "      <td>290.0</td>\n",
       "      <td>7.425</td>\n",
       "      <td>48.113389</td>\n",
       "      <td>547.991777</td>\n",
       "    </tr>\n",
       "    <tr>\n",
       "      <th>12</th>\n",
       "      <td>300.0</td>\n",
       "      <td>6.300</td>\n",
       "      <td>38.113389</td>\n",
       "      <td>504.974435</td>\n",
       "    </tr>\n",
       "    <tr>\n",
       "      <th>13</th>\n",
       "      <td>310.0</td>\n",
       "      <td>5.425</td>\n",
       "      <td>28.113389</td>\n",
       "      <td>418.219160</td>\n",
       "    </tr>\n",
       "    <tr>\n",
       "      <th>14</th>\n",
       "      <td>320.0</td>\n",
       "      <td>4.700</td>\n",
       "      <td>18.113389</td>\n",
       "      <td>285.391264</td>\n",
       "    </tr>\n",
       "    <tr>\n",
       "      <th>15</th>\n",
       "      <td>330.0</td>\n",
       "      <td>4.025</td>\n",
       "      <td>8.113389</td>\n",
       "      <td>101.574892</td>\n",
       "    </tr>\n",
       "    <tr>\n",
       "      <th>16</th>\n",
       "      <td>340.0</td>\n",
       "      <td>3.500</td>\n",
       "      <td>0.000000</td>\n",
       "      <td>-100.000000</td>\n",
       "    </tr>\n",
       "    <tr>\n",
       "      <th>17</th>\n",
       "      <td>350.0</td>\n",
       "      <td>3.050</td>\n",
       "      <td>0.000000</td>\n",
       "      <td>-100.000000</td>\n",
       "    </tr>\n",
       "    <tr>\n",
       "      <th>18</th>\n",
       "      <td>360.0</td>\n",
       "      <td>2.640</td>\n",
       "      <td>0.000000</td>\n",
       "      <td>-100.000000</td>\n",
       "    </tr>\n",
       "  </tbody>\n",
       "</table>\n",
       "</div>"
      ],
      "text/plain": [
       "    Strike  Call Price         ITM      Profit\n",
       "0    190.0      33.900  148.113389  336.912653\n",
       "1    195.0      31.450  143.113389  355.050523\n",
       "2    200.0      29.300  138.113389  371.376756\n",
       "3    210.0      25.325  128.113389  405.877155\n",
       "4    220.0      21.825  118.113389  441.183915\n",
       "5    230.0      18.750  108.113389  476.604744\n",
       "6    240.0      16.100   98.113389  509.399934\n",
       "7    250.0      13.750   88.113389  540.824650\n",
       "8    260.0      11.775   78.113389  563.383350\n",
       "9    270.0      10.075   68.113389  576.063419\n",
       "10   280.0       8.625   58.113389  573.778428\n",
       "11   290.0       7.425   48.113389  547.991777\n",
       "12   300.0       6.300   38.113389  504.974435\n",
       "13   310.0       5.425   28.113389  418.219160\n",
       "14   320.0       4.700   18.113389  285.391264\n",
       "15   330.0       4.025    8.113389  101.574892\n",
       "16   340.0       3.500    0.000000 -100.000000\n",
       "17   350.0       3.050    0.000000 -100.000000\n",
       "18   360.0       2.640    0.000000 -100.000000"
      ]
     },
     "metadata": {},
     "output_type": "display_data"
    },
    {
     "data": {
      "text/plain": [
       "<Axes: title={'center': 'Projected NVDA Call Profit on 2026-09-18 at $338.11'}, xlabel='Strike Price', ylabel='Profit %'>"
      ]
     },
     "execution_count": 89,
     "metadata": {},
     "output_type": "execute_result"
    },
    {
     "data": {
      "image/png": "[encoded data removed]",
      "text/plain": [
       "<Figure size 640x480 with 1 Axes>"
      ]
     },
     "metadata": {},
     "output_type": "display_data"
    }
   ],
   "source": [
    "rows = []\n",
    "for strike, call_price in calls:\n",
    "  itm = max(0, future_price - strike)\n",
    "  profit = max(-1, itm / call_price - 1)\n",
    "  rows.append({\n",
    "    'Strike': strike,\n",
    "    'Call Price': call_price,\n",
    "    'ITM': itm,\n",
    "    'Profit': profit * 100,\n",
    "  })\n",
    "\n",
    "df = pd.DataFrame(rows)\n",
    "display(df)\n",
    "df[:-5].plot(\n",
    "  x='Strike', \n",
    "  y='Profit', \n",
    "  kind='line', \n",
    "  marker='o', \n",
    "  title=f'Projected {symbol} Call Profit on {expiry} at ${future_price:.2f}', \n",
    "  xlabel='Strike Price', \n",
    "  ylabel='Profit %', \n",
    "  grid=True)"
   ]
  }
 ],
 "metadata": {
  "kernelspec": {
   "display_name": ".venv (3.12.3)",
   "language": "python",
   "name": "python3"
  },
  "language_info": {
   "codemirror_mode": {
    "name": "ipython",
    "version": 3
   },
   "file_extension": ".py",
   "mimetype": "text/x-python",
   "name": "python",
   "nbconvert_exporter": "python",
   "pygments_lexer": "ipython3",
   "version": "3.12.3"
  }
 },
 "nbformat": 4,
 "nbformat_minor": 2
}

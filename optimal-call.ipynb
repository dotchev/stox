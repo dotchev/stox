{
 "cells": [
  {
   "cell_type": "code",
   "execution_count": 54,
   "metadata": {},
   "outputs": [],
   "source": [
    "import pandas as pd\n",
    "import yfinance as yf\n",
    "from datetime import date\n",
    "from yfetch import get_stock_history, get_option_chains\n"
   ]
  },
  {
   "cell_type": "code",
   "execution_count": 55,
   "metadata": {},
   "outputs": [],
   "source": [
    "symbol = 'NVDA'\n",
    "expiry = '2026-09-18' \n"
   ]
  },
  {
   "cell_type": "code",
   "execution_count": 56,
   "metadata": {},
   "outputs": [],
   "source": [
    "ticker = yf.Ticker(symbol)\n",
    "if expiry not in ticker.options:\n",
    "  print(f'{symbol} expirations:')\n",
    "  for x in ticker.options:\n",
    "      print(x)\n",
    "  print('Pick one and set in expiry variable')"
   ]
  },
  {
   "cell_type": "code",
   "execution_count": 57,
   "metadata": {},
   "outputs": [
    {
     "name": "stdout",
     "output_type": "stream",
     "text": [
      "NVDA\n",
      "Last close: $178.19\n",
      "Median SMA dist: +33.37%\n",
      "Median change over 242d: 79.04%\n",
      "Expected price on 2026-09-18: $338.11\n"
     ]
    }
   ],
   "source": [
    "assert expiry in ticker.options, f'Invalid expiry {expiry} for {symbol}'\n",
    "calendar_days = (date.fromisoformat(expiry) - date.today()).days\n",
    "trading_days = round(calendar_days * 252 / 365)\n",
    "sma_days = trading_days\n",
    " \n",
    "history = get_stock_history(symbol, interval='1d')\n",
    "history['SMA'] = history['Close'].rolling(window=sma_days).mean()\n",
    "history['SMA_dist'] = history.Close / history.SMA - 1\n",
    "history['Change'] = history.Close.pct_change(periods=trading_days)\n",
    "\n",
    "last_close = history.Close.iloc[-1]\n",
    "last_sma = history.SMA.iloc[-1]\n",
    "median_dist = history.SMA_dist.median()\n",
    "norm_price = last_sma * (1 + median_dist)\n",
    "median_change = history.Change.median()\n",
    "future_price = norm_price * (1 + median_change)\n",
    "\n",
    "print(symbol)\n",
    "print(f'Last close: ${last_close:.2f}')\n",
    "# print(f'SMA {sma_days}d: ${last_sma:.2f}')\n",
    "print(f'Median SMA dist: {median_dist:+.2%}')\n",
    "# print(f'Norm price: ${norm_price:.2f}')\n",
    "print(f'Median change over {trading_days}d: {median_change:.2%}')\n",
    "print(f'Expected price on {expiry}: ${future_price:.2f}')"
   ]
  },
  {
   "cell_type": "code",
   "execution_count": 58,
   "metadata": {},
   "outputs": [
    {
     "name": "stdout",
     "output_type": "stream",
     "text": [
      "NVDA price on 2025-10-02: $188.94\n",
      "OTM calls expiring on 2026-09-18:\n",
      "$190.00 - $33.83\n",
      "$195.00 - $31.57\n",
      "$200.00 - $29.40\n",
      "$210.00 - $25.45\n",
      "$220.00 - $21.90\n",
      "$230.00 - $18.85\n",
      "$240.00 - $16.18\n",
      "$250.00 - $13.88\n",
      "$260.00 - $11.88\n",
      "$270.00 - $10.12\n",
      "$280.00 - $8.68\n",
      "$290.00 - $7.45\n",
      "$300.00 - $6.40\n",
      "$310.00 - $5.53\n",
      "$320.00 - $4.75\n",
      "$330.00 - $4.10\n",
      "$340.00 - $3.55\n",
      "$350.00 - $3.08\n",
      "$360.00 - $2.68\n"
     ]
    }
   ],
   "source": [
    "chains = get_option_chains(symbol, expiry=expiry)\n",
    "print(f'{symbol} price on {chains.market_date}: ${chains.stock_price:.2f}')\n",
    "\n",
    "chain = chains.chains[expiry]\n",
    "calls = chain.get_otm_calls()\n",
    "print(f'OTM calls expiring on {expiry}:')\n",
    "for strike, call_price in calls:\n",
    "  print(f'${strike:.2f} - ${call_price:.2f}')"
   ]
  },
  {
   "cell_type": "code",
   "execution_count": 66,
   "metadata": {},
   "outputs": [
    {
     "data": {
      "application/vnd.microsoft.datawrangler.viewer.v0+json": {
       "columns": [
        {
         "name": "index",
         "rawType": "int64",
         "type": "integer"
        },
        {
         "name": "Strike",
         "rawType": "float64",
         "type": "float"
        },
        {
         "name": "Call Price",
         "rawType": "float64",
         "type": "float"
        },
        {
         "name": "ITM",
         "rawType": "float64",
         "type": "float"
        },
        {
         "name": "Profit",
         "rawType": "float64",
         "type": "float"
        }
       ],
       "ref": "2bcf7359-8a5b-488d-a23f-b1d950eeefb4",
       "rows": [
        [
         "0",
         "190.0",
         "33.825",
         "148.11338941891796",
         "337.88141735082917"
        ],
        [
         "1",
         "195.0",
         "31.575",
         "143.11338941891796",
         "353.24905595856836"
        ],
        [
         "2",
         "200.0",
         "29.4",
         "138.11338941891796",
         "369.77343339768015"
        ],
        [
         "3",
         "210.0",
         "25.450000000000003",
         "128.11338941891796",
         "403.39249280517856"
        ],
        [
         "4",
         "220.0",
         "21.9",
         "118.11338941891796",
         "439.33054529186285"
        ],
        [
         "5",
         "230.0",
         "18.85",
         "108.11338941891796",
         "473.5458324611032"
        ],
        [
         "6",
         "240.0",
         "16.175",
         "98.11338941891796",
         "506.5742777058297"
        ],
        [
         "7",
         "250.0",
         "13.875",
         "88.11338941891796",
         "535.0514552714808"
        ],
        [
         "8",
         "260.0",
         "11.875",
         "78.11338941891796",
         "557.7969635277302"
        ],
        [
         "9",
         "270.0",
         "10.125",
         "68.11338941891796",
         "572.7248337670909"
        ],
        [
         "10",
         "280.0",
         "8.675",
         "58.11338941891796",
         "569.894978892426"
        ],
        [
         "11",
         "290.0",
         "7.45",
         "48.11338941891796",
         "545.8173076364827"
        ],
        [
         "12",
         "300.0",
         "6.4",
         "38.11338941891796",
         "495.52170967059317"
        ],
        [
         "13",
         "310.0",
         "5.525",
         "28.11338941891796",
         "408.83962749172775"
        ],
        [
         "14",
         "320.0",
         "4.75",
         "18.11338941891796",
         "281.3345140824834"
        ],
        [
         "15",
         "330.0",
         "4.1",
         "8.113389418917961",
         "97.88754680287713"
        ],
        [
         "16",
         "340.0",
         "3.55",
         "0.0",
         "-100.0"
        ],
        [
         "17",
         "350.0",
         "3.075",
         "0.0",
         "-100.0"
        ],
        [
         "18",
         "360.0",
         "2.68",
         "0.0",
         "-100.0"
        ]
       ],
       "shape": {
        "columns": 4,
        "rows": 19
       }
      },
      "text/html": [
       "<div>\n",
       "<style scoped>\n",
       "    .dataframe tbody tr th:only-of-type {\n",
       "        vertical-align: middle;\n",
       "    }\n",
       "\n",
       "    .dataframe tbody tr th {\n",
       "        vertical-align: top;\n",
       "    }\n",
       "\n",
       "    .dataframe thead th {\n",
       "        text-align: right;\n",
       "    }\n",
       "</style>\n",
       "<table border=\"1\" class=\"dataframe\">\n",
       "  <thead>\n",
       "    <tr style=\"text-align: right;\">\n",
       "      <th></th>\n",
       "      <th>Strike</th>\n",
       "      <th>Call Price</th>\n",
       "      <th>ITM</th>\n",
       "      <th>Profit</th>\n",
       "    </tr>\n",
       "  </thead>\n",
       "  <tbody>\n",
       "    <tr>\n",
       "      <th>0</th>\n",
       "      <td>190.0</td>\n",
       "      <td>33.825</td>\n",
       "      <td>148.113389</td>\n",
       "      <td>337.881417</td>\n",
       "    </tr>\n",
       "    <tr>\n",
       "      <th>1</th>\n",
       "      <td>195.0</td>\n",
       "      <td>31.575</td>\n",
       "      <td>143.113389</td>\n",
       "      <td>353.249056</td>\n",
       "    </tr>\n",
       "    <tr>\n",
       "      <th>2</th>\n",
       "      <td>200.0</td>\n",
       "      <td>29.400</td>\n",
       "      <td>138.113389</td>\n",
       "      <td>369.773433</td>\n",
       "    </tr>\n",
       "    <tr>\n",
       "      <th>3</th>\n",
       "      <td>210.0</td>\n",
       "      <td>25.450</td>\n",
       "      <td>128.113389</td>\n",
       "      <td>403.392493</td>\n",
       "    </tr>\n",
       "    <tr>\n",
       "      <th>4</th>\n",
       "      <td>220.0</td>\n",
       "      <td>21.900</td>\n",
       "      <td>118.113389</td>\n",
       "      <td>439.330545</td>\n",
       "    </tr>\n",
       "    <tr>\n",
       "      <th>5</th>\n",
       "      <td>230.0</td>\n",
       "      <td>18.850</td>\n",
       "      <td>108.113389</td>\n",
       "      <td>473.545832</td>\n",
       "    </tr>\n",
       "    <tr>\n",
       "      <th>6</th>\n",
       "      <td>240.0</td>\n",
       "      <td>16.175</td>\n",
       "      <td>98.113389</td>\n",
       "      <td>506.574278</td>\n",
       "    </tr>\n",
       "    <tr>\n",
       "      <th>7</th>\n",
       "      <td>250.0</td>\n",
       "      <td>13.875</td>\n",
       "      <td>88.113389</td>\n",
       "      <td>535.051455</td>\n",
       "    </tr>\n",
       "    <tr>\n",
       "      <th>8</th>\n",
       "      <td>260.0</td>\n",
       "      <td>11.875</td>\n",
       "      <td>78.113389</td>\n",
       "      <td>557.796964</td>\n",
       "    </tr>\n",
       "    <tr>\n",
       "      <th>9</th>\n",
       "      <td>270.0</td>\n",
       "      <td>10.125</td>\n",
       "      <td>68.113389</td>\n",
       "      <td>572.724834</td>\n",
       "    </tr>\n",
       "    <tr>\n",
       "      <th>10</th>\n",
       "      <td>280.0</td>\n",
       "      <td>8.675</td>\n",
       "      <td>58.113389</td>\n",
       "      <td>569.894979</td>\n",
       "    </tr>\n",
       "    <tr>\n",
       "      <th>11</th>\n",
       "      <td>290.0</td>\n",
       "      <td>7.450</td>\n",
       "      <td>48.113389</td>\n",
       "      <td>545.817308</td>\n",
       "    </tr>\n",
       "    <tr>\n",
       "      <th>12</th>\n",
       "      <td>300.0</td>\n",
       "      <td>6.400</td>\n",
       "      <td>38.113389</td>\n",
       "      <td>495.521710</td>\n",
       "    </tr>\n",
       "    <tr>\n",
       "      <th>13</th>\n",
       "      <td>310.0</td>\n",
       "      <td>5.525</td>\n",
       "      <td>28.113389</td>\n",
       "      <td>408.839627</td>\n",
       "    </tr>\n",
       "    <tr>\n",
       "      <th>14</th>\n",
       "      <td>320.0</td>\n",
       "      <td>4.750</td>\n",
       "      <td>18.113389</td>\n",
       "      <td>281.334514</td>\n",
       "    </tr>\n",
       "    <tr>\n",
       "      <th>15</th>\n",
       "      <td>330.0</td>\n",
       "      <td>4.100</td>\n",
       "      <td>8.113389</td>\n",
       "      <td>97.887547</td>\n",
       "    </tr>\n",
       "    <tr>\n",
       "      <th>16</th>\n",
       "      <td>340.0</td>\n",
       "      <td>3.550</td>\n",
       "      <td>0.000000</td>\n",
       "      <td>-100.000000</td>\n",
       "    </tr>\n",
       "    <tr>\n",
       "      <th>17</th>\n",
       "      <td>350.0</td>\n",
       "      <td>3.075</td>\n",
       "      <td>0.000000</td>\n",
       "      <td>-100.000000</td>\n",
       "    </tr>\n",
       "    <tr>\n",
       "      <th>18</th>\n",
       "      <td>360.0</td>\n",
       "      <td>2.680</td>\n",
       "      <td>0.000000</td>\n",
       "      <td>-100.000000</td>\n",
       "    </tr>\n",
       "  </tbody>\n",
       "</table>\n",
       "</div>"
      ],
      "text/plain": [
       "    Strike  Call Price         ITM      Profit\n",
       "0    190.0      33.825  148.113389  337.881417\n",
       "1    195.0      31.575  143.113389  353.249056\n",
       "2    200.0      29.400  138.113389  369.773433\n",
       "3    210.0      25.450  128.113389  403.392493\n",
       "4    220.0      21.900  118.113389  439.330545\n",
       "5    230.0      18.850  108.113389  473.545832\n",
       "6    240.0      16.175   98.113389  506.574278\n",
       "7    250.0      13.875   88.113389  535.051455\n",
       "8    260.0      11.875   78.113389  557.796964\n",
       "9    270.0      10.125   68.113389  572.724834\n",
       "10   280.0       8.675   58.113389  569.894979\n",
       "11   290.0       7.450   48.113389  545.817308\n",
       "12   300.0       6.400   38.113389  495.521710\n",
       "13   310.0       5.525   28.113389  408.839627\n",
       "14   320.0       4.750   18.113389  281.334514\n",
       "15   330.0       4.100    8.113389   97.887547\n",
       "16   340.0       3.550    0.000000 -100.000000\n",
       "17   350.0       3.075    0.000000 -100.000000\n",
       "18   360.0       2.680    0.000000 -100.000000"
      ]
     },
     "metadata": {},
     "output_type": "display_data"
    },
    {
     "data": {
      "text/plain": [
       "<Axes: title={'center': 'Projected NVDA Call Profit on 2026-09-18 at $338.11'}, xlabel='Strike Price', ylabel='Profit %'>"
      ]
     },
     "execution_count": 66,
     "metadata": {},
     "output_type": "execute_result"
    },
    {
     "data": {
      "image/png": "[encoded data removed]",
      "text/plain": [
       "<Figure size 640x480 with 1 Axes>"
      ]
     },
     "metadata": {},
     "output_type": "display_data"
    }
   ],
   "source": [
    "rows = []\n",
    "for strike, call_price in calls:\n",
    "  itm = max(0, future_price - strike)\n",
    "  profit = max(-1, itm / call_price - 1)\n",
    "  rows.append({\n",
    "    'Strike': strike,\n",
    "    'Call Price': call_price,\n",
    "    'ITM': itm,\n",
    "    'Profit': profit * 100,\n",
    "  })\n",
    "\n",
    "df = pd.DataFrame(rows)\n",
    "display(df)\n",
    "df[:-5].plot(\n",
    "  x='Strike', \n",
    "  y='Profit', \n",
    "  kind='line', \n",
    "  marker='o', \n",
    "  title=f'Projected {symbol} Call Profit on {expiry} at ${future_price:.2f}', \n",
    "  xlabel='Strike Price', \n",
    "  ylabel='Profit %', \n",
    "  grid=True)"
   ]
  }
 ],
 "metadata": {
  "kernelspec": {
   "display_name": ".venv (3.12.3)",
   "language": "python",
   "name": "python3"
  },
  "language_info": {
   "codemirror_mode": {
    "name": "ipython",
    "version": 3
   },
   "file_extension": ".py",
   "mimetype": "text/x-python",
   "name": "python",
   "nbconvert_exporter": "python",
   "pygments_lexer": "ipython3",
   "version": "3.12.3"
  }
 },
 "nbformat": 4,
 "nbformat_minor": 2
}

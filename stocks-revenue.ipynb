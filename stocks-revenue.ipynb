{
 "cells": [
  {
   "cell_type": "code",
   "execution_count": 3,
   "metadata": {},
   "outputs": [],
   "source": [
    "import yfinance as yf\n",
    "import pandas as pd\n",
    "from time import sleep\n",
    "from symbols import my_picks\n",
    "from datetime import datetime\n"
   ]
  },
  {
   "cell_type": "code",
   "execution_count": 4,
   "metadata": {},
   "outputs": [
    {
     "name": "stdout",
     "output_type": "stream",
     "text": [
      "Skipping SPY, not an equity symbol\n",
      "Skipping QQQ, not an equity symbol\n",
      "Skipping TOPT, not an equity symbol\n",
      "Skipping QTOP, not an equity symbol\n",
      "Fetching revenue for BRK-B...\n",
      "Fetching revenue for AJG...\n",
      "Fetching revenue for RSG...\n",
      "Skipping SPMO, not an equity symbol\n",
      "Skipping MAGS, not an equity symbol\n",
      "Skipping FNGS, not an equity symbol\n",
      "Skipping UFO, not an equity symbol\n",
      "Skipping QTUM, not an equity symbol\n",
      "Skipping NUKZ, not an equity symbol\n",
      "Skipping SMH, not an equity symbol\n",
      "Skipping USD, not an equity symbol\n",
      "Fetching revenue for NVDA...\n",
      "Fetching revenue for AVGO...\n",
      "Fetching revenue for TSLA...\n",
      "Fetching revenue for MSFT...\n",
      "Fetching revenue for GOOG...\n",
      "Fetching revenue for AAPL...\n",
      "Fetching revenue for AMZN...\n",
      "Fetching revenue for META...\n",
      "Fetching revenue for CRM...\n",
      "Fetching revenue for NFLX...\n",
      "Fetching revenue for SHOP...\n",
      "Fetching revenue for NET...\n",
      "Fetching revenue for PLTR...\n",
      "Fetching revenue for NOW...\n",
      "Fetching revenue for SNOW...\n",
      "Fetching revenue for WDAY...\n",
      "Fetching revenue for BKNG...\n",
      "Fetching revenue for ISRG...\n",
      "Skipping PPA, not an equity symbol\n",
      "Skipping EHF1.DE, not an equity symbol\n",
      "Skipping BTC-USD, not an equity symbol\n",
      "Skipping GC=F, not an equity symbol\n"
     ]
    }
   ],
   "source": [
    "rows = []\n",
    "for symbol in my_picks:\n",
    "    sleep(1)  # Avoid hitting API rate limits\n",
    "    stock = yf.Ticker(symbol)\n",
    "    info = stock.info\n",
    "    if info['quoteType'] != 'EQUITY':\n",
    "        print(f\"Skipping {symbol}, not an equity symbol\")\n",
    "        continue  # Skip non-equity symbols\n",
    "    print(f\"Fetching revenue for {symbol}...\")\n",
    "    # rev = stock.quarterly_income_stmt.loc['Total Revenue'].dropna()\n",
    "    # if len(rev) < 5:\n",
    "    #     print(f\"Not enough quarterly income data for {symbol}\")\n",
    "    #     continue\n",
    "    # rev_growth = rev.iloc[0] / rev.iloc[4] - 1\n",
    "    rev_growth = info['revenueGrowth']\n",
    "    earn_date = datetime.fromtimestamp(info['earningsTimestamp']).date() #.isoformat()\n",
    "    rows.append({\n",
    "        'symbol': symbol,\n",
    "        'revenue growth': rev_growth,\n",
    "        'date': earn_date,\n",
    "    })\n",
    "\n",
    "df = pd.DataFrame(rows)\n",
    "df.to_csv(f'data/stocks-revenue-growth.csv', index=False)"
   ]
  },
  {
   "cell_type": "code",
   "execution_count": 5,
   "metadata": {},
   "outputs": [
    {
     "data": {
      "application/vnd.microsoft.datawrangler.viewer.v0+json": {
       "columns": [
        {
         "name": "index",
         "rawType": "int64",
         "type": "integer"
        },
        {
         "name": "symbol",
         "rawType": "object",
         "type": "string"
        },
        {
         "name": "revenue growth",
         "rawType": "object",
         "type": "string"
        },
        {
         "name": "date",
         "rawType": "object",
         "type": "unknown"
        }
       ],
       "ref": "36ef8cd4-af8c-4ee0-9c54-1db012b36516",
       "rows": [
        [
         "3",
         "NVDA",
         "69.20%",
         "2025-08-27"
        ],
        [
         "15",
         "PLTR",
         "48.00%",
         "2025-08-04"
        ],
        [
         "13",
         "SHOP",
         "31.10%",
         "2025-08-06"
        ],
        [
         "14",
         "NET",
         "27.80%",
         "2025-07-31"
        ],
        [
         "17",
         "SNOW",
         "25.70%",
         "2025-08-27"
        ],
        [
         "16",
         "NOW",
         "22.40%",
         "2025-07-23"
        ],
        [
         "10",
         "META",
         "21.60%",
         "2025-07-30"
        ],
        [
         "20",
         "ISRG",
         "21.40%",
         "2025-07-22"
        ],
        [
         "6",
         "MSFT",
         "18.10%",
         "2025-07-30"
        ],
        [
         "4",
         "AVGO",
         "16.40%",
         "2025-06-05"
        ],
        [
         "19",
         "BKNG",
         "16.00%",
         "2025-07-29"
        ],
        [
         "12",
         "NFLX",
         "15.90%",
         "2025-07-17"
        ],
        [
         "7",
         "GOOG",
         "13.80%",
         "2025-07-23"
        ],
        [
         "9",
         "AMZN",
         "13.30%",
         "2025-07-31"
        ],
        [
         "18",
         "WDAY",
         "12.60%",
         "2025-08-21"
        ],
        [
         "1",
         "AJG",
         "11.70%",
         "2025-07-31"
        ],
        [
         "8",
         "AAPL",
         "9.60%",
         "2025-07-31"
        ],
        [
         "11",
         "CRM",
         "7.60%",
         "2025-09-03"
        ],
        [
         "2",
         "RSG",
         "4.60%",
         "2025-07-29"
        ],
        [
         "0",
         "BRK-B",
         "-1.20%",
         "2025-08-02"
        ],
        [
         "5",
         "TSLA",
         "-11.80%",
         "2025-07-23"
        ]
       ],
       "shape": {
        "columns": 3,
        "rows": 21
       }
      },
      "text/html": [
       "<div>\n",
       "<style scoped>\n",
       "    .dataframe tbody tr th:only-of-type {\n",
       "        vertical-align: middle;\n",
       "    }\n",
       "\n",
       "    .dataframe tbody tr th {\n",
       "        vertical-align: top;\n",
       "    }\n",
       "\n",
       "    .dataframe thead th {\n",
       "        text-align: right;\n",
       "    }\n",
       "</style>\n",
       "<table border=\"1\" class=\"dataframe\">\n",
       "  <thead>\n",
       "    <tr style=\"text-align: right;\">\n",
       "      <th></th>\n",
       "      <th>symbol</th>\n",
       "      <th>revenue growth</th>\n",
       "      <th>date</th>\n",
       "    </tr>\n",
       "  </thead>\n",
       "  <tbody>\n",
       "    <tr>\n",
       "      <th>3</th>\n",
       "      <td>NVDA</td>\n",
       "      <td>69.20%</td>\n",
       "      <td>2025-08-27</td>\n",
       "    </tr>\n",
       "    <tr>\n",
       "      <th>15</th>\n",
       "      <td>PLTR</td>\n",
       "      <td>48.00%</td>\n",
       "      <td>2025-08-04</td>\n",
       "    </tr>\n",
       "    <tr>\n",
       "      <th>13</th>\n",
       "      <td>SHOP</td>\n",
       "      <td>31.10%</td>\n",
       "      <td>2025-08-06</td>\n",
       "    </tr>\n",
       "    <tr>\n",
       "      <th>14</th>\n",
       "      <td>NET</td>\n",
       "      <td>27.80%</td>\n",
       "      <td>2025-07-31</td>\n",
       "    </tr>\n",
       "    <tr>\n",
       "      <th>17</th>\n",
       "      <td>SNOW</td>\n",
       "      <td>25.70%</td>\n",
       "      <td>2025-08-27</td>\n",
       "    </tr>\n",
       "    <tr>\n",
       "      <th>16</th>\n",
       "      <td>NOW</td>\n",
       "      <td>22.40%</td>\n",
       "      <td>2025-07-23</td>\n",
       "    </tr>\n",
       "    <tr>\n",
       "      <th>10</th>\n",
       "      <td>META</td>\n",
       "      <td>21.60%</td>\n",
       "      <td>2025-07-30</td>\n",
       "    </tr>\n",
       "    <tr>\n",
       "      <th>20</th>\n",
       "      <td>ISRG</td>\n",
       "      <td>21.40%</td>\n",
       "      <td>2025-07-22</td>\n",
       "    </tr>\n",
       "    <tr>\n",
       "      <th>6</th>\n",
       "      <td>MSFT</td>\n",
       "      <td>18.10%</td>\n",
       "      <td>2025-07-30</td>\n",
       "    </tr>\n",
       "    <tr>\n",
       "      <th>4</th>\n",
       "      <td>AVGO</td>\n",
       "      <td>16.40%</td>\n",
       "      <td>2025-06-05</td>\n",
       "    </tr>\n",
       "    <tr>\n",
       "      <th>19</th>\n",
       "      <td>BKNG</td>\n",
       "      <td>16.00%</td>\n",
       "      <td>2025-07-29</td>\n",
       "    </tr>\n",
       "    <tr>\n",
       "      <th>12</th>\n",
       "      <td>NFLX</td>\n",
       "      <td>15.90%</td>\n",
       "      <td>2025-07-17</td>\n",
       "    </tr>\n",
       "    <tr>\n",
       "      <th>7</th>\n",
       "      <td>GOOG</td>\n",
       "      <td>13.80%</td>\n",
       "      <td>2025-07-23</td>\n",
       "    </tr>\n",
       "    <tr>\n",
       "      <th>9</th>\n",
       "      <td>AMZN</td>\n",
       "      <td>13.30%</td>\n",
       "      <td>2025-07-31</td>\n",
       "    </tr>\n",
       "    <tr>\n",
       "      <th>18</th>\n",
       "      <td>WDAY</td>\n",
       "      <td>12.60%</td>\n",
       "      <td>2025-08-21</td>\n",
       "    </tr>\n",
       "    <tr>\n",
       "      <th>1</th>\n",
       "      <td>AJG</td>\n",
       "      <td>11.70%</td>\n",
       "      <td>2025-07-31</td>\n",
       "    </tr>\n",
       "    <tr>\n",
       "      <th>8</th>\n",
       "      <td>AAPL</td>\n",
       "      <td>9.60%</td>\n",
       "      <td>2025-07-31</td>\n",
       "    </tr>\n",
       "    <tr>\n",
       "      <th>11</th>\n",
       "      <td>CRM</td>\n",
       "      <td>7.60%</td>\n",
       "      <td>2025-09-03</td>\n",
       "    </tr>\n",
       "    <tr>\n",
       "      <th>2</th>\n",
       "      <td>RSG</td>\n",
       "      <td>4.60%</td>\n",
       "      <td>2025-07-29</td>\n",
       "    </tr>\n",
       "    <tr>\n",
       "      <th>0</th>\n",
       "      <td>BRK-B</td>\n",
       "      <td>-1.20%</td>\n",
       "      <td>2025-08-02</td>\n",
       "    </tr>\n",
       "    <tr>\n",
       "      <th>5</th>\n",
       "      <td>TSLA</td>\n",
       "      <td>-11.80%</td>\n",
       "      <td>2025-07-23</td>\n",
       "    </tr>\n",
       "  </tbody>\n",
       "</table>\n",
       "</div>"
      ],
      "text/plain": [
       "   symbol revenue growth        date\n",
       "3    NVDA         69.20%  2025-08-27\n",
       "15   PLTR         48.00%  2025-08-04\n",
       "13   SHOP         31.10%  2025-08-06\n",
       "14    NET         27.80%  2025-07-31\n",
       "17   SNOW         25.70%  2025-08-27\n",
       "16    NOW         22.40%  2025-07-23\n",
       "10   META         21.60%  2025-07-30\n",
       "20   ISRG         21.40%  2025-07-22\n",
       "6    MSFT         18.10%  2025-07-30\n",
       "4    AVGO         16.40%  2025-06-05\n",
       "19   BKNG         16.00%  2025-07-29\n",
       "12   NFLX         15.90%  2025-07-17\n",
       "7    GOOG         13.80%  2025-07-23\n",
       "9    AMZN         13.30%  2025-07-31\n",
       "18   WDAY         12.60%  2025-08-21\n",
       "1     AJG         11.70%  2025-07-31\n",
       "8    AAPL          9.60%  2025-07-31\n",
       "11    CRM          7.60%  2025-09-03\n",
       "2     RSG          4.60%  2025-07-29\n",
       "0   BRK-B         -1.20%  2025-08-02\n",
       "5    TSLA        -11.80%  2025-07-23"
      ]
     },
     "metadata": {},
     "output_type": "display_data"
    }
   ],
   "source": [
    "df = df.sort_values('revenue growth', ascending=False)\n",
    "for col in ['revenue growth']:\n",
    "    df[col] = df[col].map('{:.2%}'.format)\n",
    "\n",
    "display(df)\n"
   ]
  }
 ],
 "metadata": {
  "kernelspec": {
   "display_name": ".venv (3.12.3)",
   "language": "python",
   "name": "python3"
  },
  "language_info": {
   "codemirror_mode": {
    "name": "ipython",
    "version": 3
   },
   "file_extension": ".py",
   "mimetype": "text/x-python",
   "name": "python",
   "nbconvert_exporter": "python",
   "pygments_lexer": "ipython3",
   "version": "3.12.3"
  }
 },
 "nbformat": 4,
 "nbformat_minor": 2
}

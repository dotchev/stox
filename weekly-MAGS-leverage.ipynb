{
 "cells": [
  {
   "cell_type": "code",
   "execution_count": 17,
   "metadata": {},
   "outputs": [],
   "source": [
    "import pandas as pd\n",
    "import numpy as np\n",
    "import yfinance as yf\n",
    "import matplotlib.pyplot as plt\n",
    "from statistics import mean\n",
    "from datetime import date"
   ]
  },
  {
   "cell_type": "code",
   "execution_count": 18,
   "metadata": {},
   "outputs": [
    {
     "name": "stdout",
     "output_type": "stream",
     "text": [
      "MAGS history: 105w\n",
      "MAGX history: 59w\n",
      "MAG7.L history: 53w\n"
     ]
    }
   ],
   "source": [
    "# start_date = '2021-1-1' # start of previuos cycle\n",
    "# start_date = '2022-1-1' # start of downtrend\n",
    "start_date = '2023-1-1' # start of uptrend\n",
    "# start_date = '2023-4-10' # start of MAGS history\n",
    "hm = {}\n",
    "for symbol in ['MAGS','MAGX','MAG7.L']:\n",
    "    tickerData = yf.Ticker(symbol)\n",
    "    history = tickerData.history(interval='1wk', start=start_date, end=date.today()) # prices are adjusted for splits\n",
    "    history.index = history.index.date\n",
    "    print(f'{symbol} history: {len(history)}w')\n",
    "    hm[symbol] = history"
   ]
  },
  {
   "cell_type": "code",
   "execution_count": 20,
   "metadata": {},
   "outputs": [
    {
     "name": "stdout",
     "output_type": "stream",
     "text": [
      "MAG7/MAGS: 4.655477050970977\n",
      " positive: 4.338303414274673\n",
      " negative: 5.298318639520672\n",
      "\n",
      "MAGX/MAGS: 2.052128689236718\n",
      " positive: 1.907686422090187\n",
      " negative: 2.096026936956544\n"
     ]
    }
   ],
   "source": [
    "weeks = 1\n",
    "\n",
    "MAGS = hm['MAGS']\n",
    "MAGX = hm['MAGX']\n",
    "MAG7 = hm['MAG7.L']\n",
    "\n",
    "df = pd.DataFrame({\n",
    "    'MAGS': MAGS['Close'],\n",
    "    'MAGX': MAGX['Close'],\n",
    "    'MAG7': MAG7['Close']\n",
    "})\n",
    "df = df.pct_change(periods=weeks).dropna()\n",
    "positive = df.MAGS >= 0\n",
    "negative = df.MAGS < 0\n",
    "df['MX'] = np.log(1+df['MAGX']) / np.log(1+df['MAGS'])\n",
    "df['M7'] = np.log(1+df['MAG7']) / np.log(1+df['MAGS'])\n",
    "\n",
    "print(f'MAG7/MAGS: {df.M7.median()}')\n",
    "print(f' positive: {df.M7[positive].median()}')\n",
    "print(f' negative: {df.M7[negative].median()}')\n",
    "print()\n",
    "print(f'MAGX/MAGS: {df.MX.median()}')\n",
    "print(f' positive: {df.MX[positive].median()}')\n",
    "print(f' negative: {df.MX[negative].median()}')"
   ]
  }
 ],
 "metadata": {
  "kernelspec": {
   "display_name": ".venv",
   "language": "python",
   "name": "python3"
  },
  "language_info": {
   "codemirror_mode": {
    "name": "ipython",
    "version": 3
   },
   "file_extension": ".py",
   "mimetype": "text/x-python",
   "name": "python",
   "nbconvert_exporter": "python",
   "pygments_lexer": "ipython3",
   "version": "3.12.3"
  }
 },
 "nbformat": 4,
 "nbformat_minor": 2
}

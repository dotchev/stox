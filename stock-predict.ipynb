{
 "cells": [
  {
   "cell_type": "code",
   "execution_count": 4,
   "metadata": {},
   "outputs": [],
   "source": [
    "import pandas as pd\n",
    "import yfinance as yf\n",
    "from datetime import date"
   ]
  },
  {
   "cell_type": "code",
   "execution_count": 5,
   "metadata": {},
   "outputs": [],
   "source": [
    "symbol = 'BRK-B'\n",
    "calendar_days = 401\n",
    "\n",
    "start_date = '2023-1-1' # start of uptrend\n",
    "end_date = date.today()\n",
    "# end_date = '2024-9-1'\n",
    "\n",
    "trading_days = round(calendar_days * 252 / 365)\n",
    "sma_days = trading_days\n",
    " \n",
    "tickerData = yf.Ticker(symbol)\n",
    "history = tickerData.history(interval='1d', start=start_date, end=end_date) # prices are adjusted for splits\n",
    "history['SMA'] = history['Close'].rolling(window=sma_days).mean()\n",
    "history['SMA_dist'] = history.Close / history.SMA - 1\n",
    "history['Change'] = history.Close.pct_change(periods=trading_days)\n",
    "\n",
    "# display(history)"
   ]
  },
  {
   "cell_type": "code",
   "execution_count": 6,
   "metadata": {},
   "outputs": [
    {
     "name": "stdout",
     "output_type": "stream",
     "text": [
      "BRK-B\n",
      "Last close: $464.73\n",
      "SMA 277d: $474.61\n",
      "Median SMA dist: +13.09%\n",
      "Norm price: $536.74\n",
      "Median change over 277d: 28.65%\n",
      "Price after 401d: $690.51\n"
     ]
    }
   ],
   "source": [
    "last_close = history.Close.iloc[-1]\n",
    "last_sma = history.SMA.iloc[-1]\n",
    "median_dist = history.SMA_dist.median()\n",
    "norm_price = last_sma * (1 + median_dist)\n",
    "median_change = history.Change.median()\n",
    "future_price = norm_price * (1 + median_change)\n",
    "\n",
    "print(symbol)\n",
    "print(f'Last close: ${last_close:.2f}')\n",
    "print(f'SMA {sma_days}d: ${last_sma:.2f}')\n",
    "print(f'Median SMA dist: {median_dist:+.2%}')\n",
    "print(f'Norm price: ${norm_price:.2f}')\n",
    "print(f'Median change over {trading_days}d: {median_change:.2%}')\n",
    "print(f'Price after {calendar_days}d: ${future_price:.2f}')"
   ]
  }
 ],
 "metadata": {
  "kernelspec": {
   "display_name": ".venv (3.12.3)",
   "language": "python",
   "name": "python3"
  },
  "language_info": {
   "codemirror_mode": {
    "name": "ipython",
    "version": 3
   },
   "file_extension": ".py",
   "mimetype": "text/x-python",
   "name": "python",
   "nbconvert_exporter": "python",
   "pygments_lexer": "ipython3",
   "version": "3.12.3"
  }
 },
 "nbformat": 4,
 "nbformat_minor": 2
}

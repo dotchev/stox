{
 "cells": [
  {
   "cell_type": "code",
   "execution_count": 8,
   "metadata": {},
   "outputs": [],
   "source": [
    "import pandas as pd\n",
    "import yfinance as yf\n",
    "from statistics import mean\n",
    "from datetime import date"
   ]
  },
  {
   "cell_type": "code",
   "execution_count": 9,
   "metadata": {},
   "outputs": [
    {
     "name": "stdout",
     "output_type": "stream",
     "text": [
      "NVDA history: 118w\n",
      "NVDL history: 118w\n",
      "NVD3.L history: 118w\n"
     ]
    }
   ],
   "source": [
    "start_date = '2023-1-1'\n",
    "hm = {}\n",
    "for symbol in ['NVDA','NVDL','NVD3.L']:\n",
    "    tickerData = yf.Ticker(symbol)\n",
    "    history = tickerData.history(interval='1wk', start=start_date, end=date.today()) # prices are adjusted for splits\n",
    "    history.index = history.index.date\n",
    "    print(f'{symbol} history: {len(history)}w')\n",
    "    hm[symbol] = history"
   ]
  },
  {
   "cell_type": "code",
   "execution_count": 14,
   "metadata": {},
   "outputs": [
    {
     "name": "stdout",
     "output_type": "stream",
     "text": [
      "NVDL/NVDA: 1.5493303558910272\n",
      " positive: 1.5065929042433834\n",
      " negative: 2.913817847828881\n",
      "\n",
      "NVD3/NVDA: 2.707703216562713\n",
      " positive: 2.6530746751768963\n",
      " negative: 4.546295953871281\n"
     ]
    }
   ],
   "source": [
    "weeks = 26\n",
    "\n",
    "NVDA = hm['NVDA']\n",
    "NVDL = hm['NVDL']\n",
    "NVD3 = hm['NVD3.L']\n",
    "\n",
    "df = pd.DataFrame({\n",
    "    'NVDA': NVDA['Close'],\n",
    "    'NVDL': NVDL['Close'],\n",
    "    'NVD3': NVD3['Close']\n",
    "})\n",
    "df = df.pct_change(periods=weeks)\n",
    "positive = df.NVDA >= 0\n",
    "negative = df.NVDA < 0\n",
    "df['NL'] = df['NVDL'] / df['NVDA']\n",
    "df['N3'] = df['NVD3'] / df['NVDA']\n",
    "\n",
    "print(f'NVDL/NVDA: {df.NL.median()}')\n",
    "print(f' positive: {df.NL[positive].median()}')\n",
    "print(f' negative: {df.NL[negative].median()}')\n",
    "print()\n",
    "print(f'NVD3/NVDA: {df.N3.median()}')\n",
    "print(f' positive: {df.N3[positive].median()}')\n",
    "print(f' negative: {df.N3[negative].median()}')\n"
   ]
  }
 ],
 "metadata": {
  "kernelspec": {
   "display_name": ".venv (3.12.3)",
   "language": "python",
   "name": "python3"
  },
  "language_info": {
   "codemirror_mode": {
    "name": "ipython",
    "version": 3
   },
   "file_extension": ".py",
   "mimetype": "text/x-python",
   "name": "python",
   "nbconvert_exporter": "python",
   "pygments_lexer": "ipython3",
   "version": "3.12.3"
  }
 },
 "nbformat": 4,
 "nbformat_minor": 2
}

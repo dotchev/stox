{
 "cells": [
  {
   "cell_type": "code",
   "execution_count": 2,
   "metadata": {},
   "outputs": [],
   "source": [
    "from statistics import mean\n"
   ]
  },
  {
   "cell_type": "code",
   "execution_count": 3,
   "metadata": {},
   "outputs": [],
   "source": [
    "smh_option_prices = {\n",
    "    # 1: [210/2.21, 220/2.93, 220/2.36], # very negative\n",
    "    2: [210/3.72, 220/4.25, 220/3.92],\n",
    "    3: [210/4.7, 220/5.43, 220/6.05],\n",
    "    4: [210/5.6, 220/7.45, 220/6.72],\n",
    "    5: [210/7.5, 220/7.9, 220/7.55],\n",
    "    6: [210/7.85, 220/8.9, 220/8.55],\n",
    "    7: [220/9.23],\n",
    "    8: [220/10.27],\n",
    "    9: [210/9.82],\n",
    "    11: [220/11.85],\n",
    "    12: [220/12.82],\n",
    "    13: [210/12.05],\n",
    "    15: [220/14.27],\n",
    "    16: [220/15.12],\n",
    "    17: [210/14.35],\n",
    "    20: [220/17.02],\n",
    "    21: [220/17.4],\n",
    "    22: [210/16.75],\n",
    "    28: [220/21.72],\n",
    "    29: [220/21.52],\n",
    "    30: [210/20.37],\n",
    "    33: [220/23.87],\n",
    "    34: [220/24.25],\n",
    "    35: [210/22.45],\n",
    "    37: [220/24.32],\n",
    "    38: [220/25.05],\n",
    "    39: [210/23.17]\n",
    "}"
   ]
  },
  {
   "cell_type": "code",
   "execution_count": 4,
   "metadata": {},
   "outputs": [],
   "source": [
    "usd_option_prices = {\n",
    "    2: [90/4.05],\n",
    "    3: [91/5.15],\n",
    "    4: [81/5.4, 74/5.1],\n",
    "    7: [90/8.25],\n",
    "    8: [91/8.05],\n",
    "    9: [81/8.45],\n",
    "    15: [90/11.15],\n",
    "    16: [91/12.75],\n",
    "    17: [81/11.3, 74/10.4],\n",
    "    28: [90/16.9],\n",
    "    29: [91/17.55],\n",
    "    30: [81/14.95]\n",
    "}"
   ]
  },
  {
   "cell_type": "code",
   "execution_count": 7,
   "metadata": {},
   "outputs": [
    {
     "name": "stdout",
     "output_type": "stream",
     "text": [
      "  SMH  USD   SMH:USD\n",
      "   2w  54.8  22.2 2.5:1\n",
      "   3w  40.5  17.7 2.3:1\n",
      "   4w  33.3  14.8 2.3:1\n",
      "   7w  23.8  10.9 2.2:1\n",
      "   8w  21.4  11.3 1.9:1\n",
      "   9w  21.4   9.6 2.2:1\n",
      "  15w  15.4   8.1 1.9:1\n",
      "  16w  14.6   7.1 2.0:1\n",
      "  17w  14.6   7.1 2.0:1\n",
      "  28w  10.1   5.3 1.9:1\n",
      "  29w  10.2   5.2 2.0:1\n",
      "  30w  10.3   5.4 1.9:1\n"
     ]
    }
   ],
   "source": [
    "print('  SMH  USD   SMH:USD')\n",
    "for w in usd_option_prices:\n",
    "    if w in smh_option_prices:\n",
    "        smh = mean(smh_option_prices[w])\n",
    "        usd = mean(usd_option_prices[w])\n",
    "        print(f'{w:4d}w {smh:5.1f} {usd:5.1f} {smh/usd:.1f}:1')"
   ]
  }
 ],
 "metadata": {
  "kernelspec": {
   "display_name": "Python 3",
   "language": "python",
   "name": "python3"
  },
  "language_info": {
   "codemirror_mode": {
    "name": "ipython",
    "version": 3
   },
   "file_extension": ".py",
   "mimetype": "text/x-python",
   "name": "python",
   "nbconvert_exporter": "python",
   "pygments_lexer": "ipython3",
   "version": "3.10.12"
  }
 },
 "nbformat": 4,
 "nbformat_minor": 2
}

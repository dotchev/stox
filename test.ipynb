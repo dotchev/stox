{
 "cells": [
  {
   "cell_type": "code",
   "execution_count": 1,
   "metadata": {},
   "outputs": [
    {
     "data": {
      "text/plain": [
       "{'USD': {1: 39.78571428571429,\n",
       "  2: 26.896551724137932,\n",
       "  3: 19.767441860465116,\n",
       "  4: 18.01948051948052,\n",
       "  5: 15.074595055413472,\n",
       "  6: 13.310023310023311,\n",
       "  7: 13.772609819121445,\n",
       "  8: 10.511111111111111,\n",
       "  9: 9.433673255277183,\n",
       "  13: 7.6290760869565215,\n",
       "  14: 8.90995260663507,\n",
       "  15: 8.071748878923767,\n",
       "  16: 7.137254901960785,\n",
       "  17: 7.141763104152484,\n",
       "  26: 5.390835579514825,\n",
       "  27: 5.11552952176663,\n",
       "  28: 5.325443786982249,\n",
       "  29: 5.185185185185185,\n",
       "  30: 5.418060200668896}}"
      ]
     },
     "execution_count": 1,
     "metadata": {},
     "output_type": "execute_result"
    }
   ],
   "source": [
    "import pandas as pd\n",
    "import file\n",
    "\n",
    "file.load_all_option_leverage()\n"
   ]
  }
 ],
 "metadata": {
  "kernelspec": {
   "display_name": "Python 3",
   "language": "python",
   "name": "python3"
  },
  "language_info": {
   "codemirror_mode": {
    "name": "ipython",
    "version": 3
   },
   "file_extension": ".py",
   "mimetype": "text/x-python",
   "name": "python",
   "nbconvert_exporter": "python",
   "pygments_lexer": "ipython3",
   "version": "3.10.12"
  }
 },
 "nbformat": 4,
 "nbformat_minor": 2
}

{
 "cells": [
  {
   "cell_type": "code",
   "execution_count": 1,
   "id": "7f176083",
   "metadata": {},
   "outputs": [],
   "source": [
    "import yfinance as yf\n",
    "import pandas as pd\n",
    "from datetime import date\n",
    "from time import sleep\n",
    "from glob import glob\n",
    "import os\n",
    "import json\n",
    "import matplotlib.pyplot as plt\n",
    "from yfetch import get_stock_history"
   ]
  },
  {
   "cell_type": "code",
   "execution_count": 2,
   "id": "1f98f7b7",
   "metadata": {},
   "outputs": [],
   "source": [
    "def load_call(symbol, expiration):\n",
    "    dir = f'data/options/{symbol}/{expiration}'\n",
    "\n",
    "    with open(f'{dir}/underlying.json', 'r') as f:\n",
    "        underlying = json.load(f)\n",
    "    stock_price = underlying.get('regularMarketPrice')\n",
    "    assert stock_price, f'Invalid stock price data for {symbol} on {expiration}'\n",
    "\n",
    "    calls_file = f'{dir}/calls.csv'\n",
    "    calls = pd.read_csv(calls_file)\n",
    "    itm = calls[calls['inTheMoney'] == True]\n",
    "    assert not itm.empty, f'No ITM calls for {symbol} on {expiration}'\n",
    "    otm = calls[calls['inTheMoney'] == False]\n",
    "    assert not otm.empty, f'No OTM calls for {symbol} on {expiration}'\n",
    "    assert itm.iloc[-1].strike <= stock_price <= otm.iloc[0].strike, \\\n",
    "        f'Last stock price {stock_price} for {symbol} is not between ITM and OTM strikes on {expiration}'\n",
    "\n",
    "    call = otm.iloc[0]  # Get the first OTM call strike\n",
    "    call_price = max(call.lastPrice, (call.bid + call.ask) / 2)\n",
    "    assert call_price, f'Invalid call price data for {symbol} on {expiration}'\n",
    "    assert call.strike, f'Invalid call strike data for {symbol} on {expiration}'\n",
    "\n",
    "    return underlying['longName'], stock_price, call.strike, call_price\n",
    "\n",
    "def test_options(symbol, expiration):\n",
    "    stock_name, stock_price, call_strike, call_price = load_call(symbol, expiration)\n",
    "    rcp = call_price / call_strike  # relative call price\n",
    "    gap = call_strike / stock_price - 1\n",
    "\n",
    "    history = get_stock_history(symbol, period='5y', interval='1wk').tail(114)\n",
    "    change = history['Close'].pct_change(periods=1).dropna()\n",
    "    history['change'] = change\n",
    "    call_profit = ((change - gap) / rcp - 1).clip(lower=-1)\n",
    "    history['call_profit'] = call_profit\n",
    "\n",
    "    return {\n",
    "        'symbol': symbol,\n",
    "        'name': stock_name,\n",
    "        'expiration': expiration,\n",
    "        'weeks': len(history),\n",
    "        'gap': gap,\n",
    "        'rcp': rcp,\n",
    "        'mean_profit': call_profit.mean(),\n",
    "        'median_profit': call_profit.median(),\n",
    "        'mean_change': change.mean(),\n",
    "        'median_change': change.median(),\n",
    "        'history': history,\n",
    "        'call_profit': call_profit,\n",
    "    }"
   ]
  },
  {
   "cell_type": "code",
   "execution_count": 3,
   "id": "a173da38",
   "metadata": {},
   "outputs": [],
   "source": [
    "expirations = [\n",
    "  '2025-05-30', \n",
    "  '2025-06-06', \n",
    "  '2025-06-13', \n",
    "  '2025-06-20', \n",
    "  '2025-06-27', \n",
    "  '2025-07-03', \n",
    "  '2025-07-11', \n",
    "  '2025-07-18', \n",
    "  '2025-07-25'\n",
    "]"
   ]
  },
  {
   "cell_type": "code",
   "execution_count": 4,
   "id": "69a92ea5",
   "metadata": {},
   "outputs": [],
   "source": [
    "# results = [ test_options('TQQQ', x) for x in expirations ]\n",
    "# df = pd.DataFrame(results)#.sort_values('mean_profit', ascending=False).reset_index(drop=True)\n",
    "# # df.index += 1\n",
    "# for col in ['rcp', 'gap', 'mean_profit', 'median_profit', 'mean_change', 'median_change']:\n",
    "#     df[col] = df[col].map('{:.2%}'.format)\n",
    "# display(df)\n"
   ]
  },
  {
   "cell_type": "code",
   "execution_count": 5,
   "id": "10fc9f21",
   "metadata": {},
   "outputs": [],
   "source": [
    "from itertools import pairwise\n",
    "\n",
    "def list_real_calls(symbol):\n",
    "    rows = []\n",
    "    for start, end in pairwise(expirations):\n",
    "        stock_name, start_stock_price, call_strike, start_call_price = load_call(symbol, start)\n",
    "        _, end_stock_price, _, _ = load_call(symbol, end)\n",
    "\n",
    "        stock_change = end_stock_price / start_stock_price - 1\n",
    "        end_call_price = max(0, end_stock_price - call_strike)\n",
    "        call_profit = end_call_price / start_call_price - 1\n",
    "        rcp = start_call_price / call_strike  # relative call price\n",
    "        gap = call_strike / start_stock_price - 1\n",
    "        rows.append({\n",
    "            'date': start,\n",
    "            'stock_change': stock_change,\n",
    "            'call_profit': call_profit,\n",
    "            'rcp': rcp,\n",
    "            'gap': gap,\n",
    "        })\n",
    "    return pd.DataFrame(rows).set_index('date')\n",
    "\n",
    "def display_real_calls(symbol):\n",
    "    df = list_real_calls(symbol)\n",
    "    for col in ['rcp', 'gap', 'stock_change', 'call_profit']:\n",
    "        df[col] = df[col].map('{:.2%}'.format)\n",
    "    display(df)\n"
   ]
  },
  {
   "cell_type": "code",
   "execution_count": 6,
   "id": "1d36231b",
   "metadata": {},
   "outputs": [
    {
     "data": {
      "application/vnd.microsoft.datawrangler.viewer.v0+json": {
       "columns": [
        {
         "name": "symbol",
         "rawType": "object",
         "type": "string"
        },
        {
         "name": "mean_call_profit",
         "rawType": "object",
         "type": "string"
        },
        {
         "name": "median_call_profit",
         "rawType": "object",
         "type": "string"
        },
        {
         "name": "mean_stock_change",
         "rawType": "object",
         "type": "string"
        },
        {
         "name": "median_stock_change",
         "rawType": "object",
         "type": "string"
        },
        {
         "name": "MM",
         "rawType": "object",
         "type": "string"
        }
       ],
       "ref": "1bd6d1ba-f2ce-4ea5-99e1-a68e75488928",
       "rows": [
        [
         "JETS",
         "69.42%",
         "62.50%",
         "1.73%",
         "2.99%",
         "175.30%"
        ],
        [
         "XLK",
         "61.83%",
         "43.86%",
         "1.78%",
         "1.89%",
         "132.81%"
        ],
        [
         "QQQ",
         "38.97%",
         "59.08%",
         "1.23%",
         "1.38%",
         "121.08%"
        ],
        [
         "TQQQ",
         "42.97%",
         "47.79%",
         "3.51%",
         "3.89%",
         "111.30%"
        ],
        [
         "ARKK",
         "91.16%",
         "-0.80%",
         "4.20%",
         "2.45%",
         "89.64%"
        ],
        [
         "SVIX",
         "42.59%",
         "31.95%",
         "2.95%",
         "3.58%",
         "88.15%"
        ],
        [
         "SPY",
         "39.34%",
         "32.92%",
         "1.02%",
         "1.14%",
         "85.21%"
        ],
        [
         "UPRO",
         "40.56%",
         "23.51%",
         "2.93%",
         "3.22%",
         "73.61%"
        ],
        [
         "SVXY",
         "23.17%",
         "34.00%",
         "1.61%",
         "1.93%",
         "65.04%"
        ],
        [
         "VOO",
         "47.17%",
         "11.38%",
         "1.02%",
         "1.05%",
         "63.92%"
        ],
        [
         "SPXL",
         "34.95%",
         "11.70%",
         "2.93%",
         "3.22%",
         "50.74%"
        ],
        [
         "VTI",
         "43.36%",
         "-1.58%",
         "1.03%",
         "1.12%",
         "41.10%"
        ],
        [
         "IGV",
         "11.98%",
         "5.88%",
         "1.10%",
         "1.97%",
         "18.56%"
        ],
        [
         "IVV",
         "25.46%",
         "-12.91%",
         "1.02%",
         "1.17%",
         "9.26%"
        ],
        [
         "EEM",
         "34.13%",
         "-24.67%",
         "0.77%",
         "0.90%",
         "1.04%"
        ],
        [
         "SMH",
         "48.25%",
         "-32.24%",
         "2.57%",
         "1.53%",
         "0.45%"
        ],
        [
         "DIA",
         "37.72%",
         "-29.21%",
         "0.80%",
         "0.62%",
         "-2.51%"
        ],
        [
         "SOXL",
         "35.31%",
         "-28.09%",
         "7.35%",
         "4.87%",
         "-2.70%"
        ],
        [
         "USO",
         "71.89%",
         "-43.42%",
         "1.61%",
         "2.70%",
         "-2.74%"
        ],
        [
         "XOP",
         "20.28%",
         "-29.10%",
         "0.93%",
         "1.44%",
         "-14.72%"
        ],
        [
         "XLF",
         "27.21%",
         "-36.82%",
         "0.63%",
         "0.76%",
         "-19.63%"
        ],
        [
         "FAS",
         "15.44%",
         "-39.98%",
         "1.78%",
         "2.04%",
         "-30.72%"
        ],
        [
         "IWM",
         "21.94%",
         "-48.98%",
         "1.19%",
         "0.76%",
         "-37.79%"
        ],
        [
         "XLV",
         "-24.41%",
         "-22.28%",
         "0.16%",
         "1.09%",
         "-41.25%"
        ],
        [
         "KRE",
         "11.05%",
         "-51.97%",
         "1.48%",
         "1.07%",
         "-46.66%"
        ],
        [
         "SILJ",
         "168.37%",
         "-82.35%",
         "2.08%",
         "0.89%",
         "-52.64%"
        ],
        [
         "MAGS",
         "0.85%",
         "-55.00%",
         "1.42%",
         "0.76%",
         "-54.62%"
        ],
        [
         "ASHR",
         "-14.92%",
         "-53.02%",
         "0.72%",
         "1.41%",
         "-60.03%"
        ],
        [
         "TNA",
         "22.52%",
         "-70.00%",
         "3.36%",
         "2.18%",
         "-63.24%"
        ],
        [
         "ARKG",
         "11.24%",
         "-70.00%",
         "2.28%",
         "1.11%",
         "-66.63%"
        ],
        [
         "ITB",
         "-16.61%",
         "-60.74%",
         "0.75%",
         "0.52%",
         "-67.26%"
        ],
        [
         "GDXJ",
         "-0.23%",
         "-71.78%",
         "0.36%",
         "0.79%",
         "-71.84%"
        ],
        [
         "EWZ",
         "-0.99%",
         "-74.07%",
         "-0.32%",
         "-0.04%",
         "-74.33%"
        ],
        [
         "SSO",
         "-8.20%",
         "-75.79%",
         "1.97%",
         "2.18%",
         "-77.78%"
        ],
        [
         "XBI",
         "5.17%",
         "-81.59%",
         "1.13%",
         "0.48%",
         "-80.64%"
        ],
        [
         "GLD",
         "-10.30%",
         "-80.33%",
         "-0.03%",
         "0.14%",
         "-82.36%"
        ],
        [
         "ETHA",
         "51.76%",
         "-88.52%",
         "4.50%",
         "1.16%",
         "-82.58%"
        ],
        [
         "YINN",
         "28.66%",
         "-88.52%",
         "2.50%",
         "0.34%",
         "-85.23%"
        ],
        [
         "RSP",
         "-52.36%",
         "-71.83%",
         "0.69%",
         "0.69%",
         "-86.58%"
        ],
        [
         "IEF",
         "-23.01%",
         "-84.62%",
         "0.09%",
         "0.21%",
         "-88.16%"
        ],
        [
         "IBIT",
         "-6.32%",
         "-88.57%",
         "1.01%",
         "0.24%",
         "-89.29%"
        ],
        [
         "FBTC",
         "-15.56%",
         "-91.47%",
         "1.01%",
         "0.23%",
         "-92.80%"
        ],
        [
         "FEZ",
         "-64.28%",
         "-92.73%",
         "0.10%",
         "0.47%",
         "-97.40%"
        ],
        [
         "EFA",
         "-47.78%",
         "-98.99%",
         "0.06%",
         "-0.18%",
         "-99.47%"
        ],
        [
         "NUGT",
         "-7.79%",
         "-99.58%",
         "0.23%",
         "-0.95%",
         "-99.61%"
        ],
        [
         "SLV",
         "55.13%",
         "-100.00%",
         "1.67%",
         "0.28%",
         "-100.00%"
        ],
        [
         "BITX",
         "-9.75%",
         "-100.00%",
         "1.35%",
         "-0.13%",
         "-100.00%"
        ],
        [
         "SCHD",
         "37.78%",
         "-100.00%",
         "0.55%",
         "0.50%",
         "-100.00%"
        ],
        [
         "KWEB",
         "21.78%",
         "-100.00%",
         "0.92%",
         "-0.01%",
         "-100.00%"
        ],
        [
         "AGQ",
         "79.93%",
         "-100.00%",
         "3.32%",
         "0.04%",
         "-100.00%"
        ]
       ],
       "shape": {
        "columns": 5,
        "rows": 61
       }
      },
      "text/html": [
       "<div>\n",
       "<style scoped>\n",
       "    .dataframe tbody tr th:only-of-type {\n",
       "        vertical-align: middle;\n",
       "    }\n",
       "\n",
       "    .dataframe tbody tr th {\n",
       "        vertical-align: top;\n",
       "    }\n",
       "\n",
       "    .dataframe thead th {\n",
       "        text-align: right;\n",
       "    }\n",
       "</style>\n",
       "<table border=\"1\" class=\"dataframe\">\n",
       "  <thead>\n",
       "    <tr style=\"text-align: right;\">\n",
       "      <th></th>\n",
       "      <th>mean_call_profit</th>\n",
       "      <th>median_call_profit</th>\n",
       "      <th>mean_stock_change</th>\n",
       "      <th>median_stock_change</th>\n",
       "      <th>MM</th>\n",
       "    </tr>\n",
       "    <tr>\n",
       "      <th>symbol</th>\n",
       "      <th></th>\n",
       "      <th></th>\n",
       "      <th></th>\n",
       "      <th></th>\n",
       "      <th></th>\n",
       "    </tr>\n",
       "  </thead>\n",
       "  <tbody>\n",
       "    <tr>\n",
       "      <th>JETS</th>\n",
       "      <td>69.42%</td>\n",
       "      <td>62.50%</td>\n",
       "      <td>1.73%</td>\n",
       "      <td>2.99%</td>\n",
       "      <td>175.30%</td>\n",
       "    </tr>\n",
       "    <tr>\n",
       "      <th>XLK</th>\n",
       "      <td>61.83%</td>\n",
       "      <td>43.86%</td>\n",
       "      <td>1.78%</td>\n",
       "      <td>1.89%</td>\n",
       "      <td>132.81%</td>\n",
       "    </tr>\n",
       "    <tr>\n",
       "      <th>QQQ</th>\n",
       "      <td>38.97%</td>\n",
       "      <td>59.08%</td>\n",
       "      <td>1.23%</td>\n",
       "      <td>1.38%</td>\n",
       "      <td>121.08%</td>\n",
       "    </tr>\n",
       "    <tr>\n",
       "      <th>TQQQ</th>\n",
       "      <td>42.97%</td>\n",
       "      <td>47.79%</td>\n",
       "      <td>3.51%</td>\n",
       "      <td>3.89%</td>\n",
       "      <td>111.30%</td>\n",
       "    </tr>\n",
       "    <tr>\n",
       "      <th>ARKK</th>\n",
       "      <td>91.16%</td>\n",
       "      <td>-0.80%</td>\n",
       "      <td>4.20%</td>\n",
       "      <td>2.45%</td>\n",
       "      <td>89.64%</td>\n",
       "    </tr>\n",
       "    <tr>\n",
       "      <th>...</th>\n",
       "      <td>...</td>\n",
       "      <td>...</td>\n",
       "      <td>...</td>\n",
       "      <td>...</td>\n",
       "      <td>...</td>\n",
       "    </tr>\n",
       "    <tr>\n",
       "      <th>TSLL</th>\n",
       "      <td>-37.52%</td>\n",
       "      <td>-100.00%</td>\n",
       "      <td>-0.93%</td>\n",
       "      <td>-1.45%</td>\n",
       "      <td>-100.00%</td>\n",
       "    </tr>\n",
       "    <tr>\n",
       "      <th>SPXU</th>\n",
       "      <td>-98.61%</td>\n",
       "      <td>-100.00%</td>\n",
       "      <td>-2.93%</td>\n",
       "      <td>-3.12%</td>\n",
       "      <td>-100.00%</td>\n",
       "    </tr>\n",
       "    <tr>\n",
       "      <th>IAU</th>\n",
       "      <td>-17.87%</td>\n",
       "      <td>-100.00%</td>\n",
       "      <td>-0.03%</td>\n",
       "      <td>0.12%</td>\n",
       "      <td>-100.00%</td>\n",
       "    </tr>\n",
       "    <tr>\n",
       "      <th>XLY</th>\n",
       "      <td>-45.10%</td>\n",
       "      <td>-100.00%</td>\n",
       "      <td>0.68%</td>\n",
       "      <td>0.22%</td>\n",
       "      <td>-100.00%</td>\n",
       "    </tr>\n",
       "    <tr>\n",
       "      <th>TMF</th>\n",
       "      <td>-43.96%</td>\n",
       "      <td>-100.00%</td>\n",
       "      <td>0.22%</td>\n",
       "      <td>0.03%</td>\n",
       "      <td>-100.00%</td>\n",
       "    </tr>\n",
       "  </tbody>\n",
       "</table>\n",
       "<p>61 rows × 5 columns</p>\n",
       "</div>"
      ],
      "text/plain": [
       "       mean_call_profit median_call_profit mean_stock_change  \\\n",
       "symbol                                                         \n",
       "JETS             69.42%             62.50%             1.73%   \n",
       "XLK              61.83%             43.86%             1.78%   \n",
       "QQQ              38.97%             59.08%             1.23%   \n",
       "TQQQ             42.97%             47.79%             3.51%   \n",
       "ARKK             91.16%             -0.80%             4.20%   \n",
       "...                 ...                ...               ...   \n",
       "TSLL            -37.52%           -100.00%            -0.93%   \n",
       "SPXU            -98.61%           -100.00%            -2.93%   \n",
       "IAU             -17.87%           -100.00%            -0.03%   \n",
       "XLY             -45.10%           -100.00%             0.68%   \n",
       "TMF             -43.96%           -100.00%             0.22%   \n",
       "\n",
       "       median_stock_change        MM  \n",
       "symbol                                \n",
       "JETS                 2.99%   175.30%  \n",
       "XLK                  1.89%   132.81%  \n",
       "QQQ                  1.38%   121.08%  \n",
       "TQQQ                 3.89%   111.30%  \n",
       "ARKK                 2.45%    89.64%  \n",
       "...                    ...       ...  \n",
       "TSLL                -1.45%  -100.00%  \n",
       "SPXU                -3.12%  -100.00%  \n",
       "IAU                  0.12%  -100.00%  \n",
       "XLY                  0.22%  -100.00%  \n",
       "TMF                  0.03%  -100.00%  \n",
       "\n",
       "[61 rows x 5 columns]"
      ]
     },
     "metadata": {},
     "output_type": "display_data"
    }
   ],
   "source": [
    "from symbols import etfs_with_weekly_options\n",
    "\n",
    "rows = []\n",
    "for symbol in etfs_with_weekly_options:\n",
    "  df = list_real_calls(symbol)\n",
    "  rows.append({\n",
    "      'symbol': symbol,\n",
    "      'mean_call_profit': df['call_profit'].mean(),\n",
    "      'median_call_profit': df['call_profit'].median(),\n",
    "      'mean_stock_change': df['stock_change'].mean(),\n",
    "      'median_stock_change': df['stock_change'].median(),\n",
    "  })\n",
    "df = pd.DataFrame(rows).set_index('symbol')\n",
    "df['MM'] = (df['mean_call_profit']+1) * (df['median_call_profit']+1) - 1\n",
    "df = df.sort_values('MM', ascending=False)\n",
    "for col in ['mean_call_profit', 'median_call_profit', 'mean_stock_change', 'median_stock_change', 'MM']:\n",
    "    df[col] = df[col].map('{:.2%}'.format)\n",
    "display(df)"
   ]
  },
  {
   "cell_type": "code",
   "execution_count": 7,
   "id": "4141a1e4",
   "metadata": {},
   "outputs": [
    {
     "data": {
      "text/plain": [
       "<Axes: title={'center': '1w Call Performance'}, xlabel='date'>"
      ]
     },
     "execution_count": 7,
     "metadata": {},
     "output_type": "execute_result"
    },
    {
     "data": {
      "image/png": "[encoded data removed]",
      "text/plain": [
       "<Figure size 1200x600 with 1 Axes>"
      ]
     },
     "metadata": {},
     "output_type": "display_data"
    }
   ],
   "source": [
    "df = pd.DataFrame()\n",
    "for symbol in ['MAGS', 'XLF', 'TQQQ', 'SMH', 'SPY', 'VOO']:\n",
    "    df[symbol] = list_real_calls(symbol)['call_profit'].cumsum() * 100  # Convert to percentage\n",
    "df.plot(title='1w Call Performance', figsize=(12, 6), marker='.', grid=True)"
   ]
  },
  {
   "cell_type": "code",
   "execution_count": 8,
   "id": "d1504a4d",
   "metadata": {},
   "outputs": [
    {
     "data": {
      "application/vnd.microsoft.datawrangler.viewer.v0+json": {
       "columns": [
        {
         "name": "date",
         "rawType": "object",
         "type": "string"
        },
        {
         "name": "stock_change",
         "rawType": "object",
         "type": "string"
        },
        {
         "name": "call_profit",
         "rawType": "object",
         "type": "string"
        },
        {
         "name": "rcp",
         "rawType": "object",
         "type": "string"
        },
        {
         "name": "gap",
         "rawType": "object",
         "type": "string"
        }
       ],
       "ref": "e334b116-cad3-41b4-b421-736a0e7d9824",
       "rows": [
        [
         "2025-05-30",
         "2.37%",
         "21.43%",
         "1.36%",
         "0.70%"
        ],
        [
         "2025-06-06",
         "0.67%",
         "-70.37%",
         "1.29%",
         "0.29%"
        ],
        [
         "2025-06-13",
         "0.85%",
         "-70.00%",
         "0.94%",
         "0.57%"
        ],
        [
         "2025-06-20",
         "-0.55%",
         "-100.00%",
         "0.65%",
         "1.60%"
        ],
        [
         "2025-06-27",
         "5.15%",
         "268.57%",
         "1.32%",
         "0.26%"
        ],
        [
         "2025-07-03",
         "0.63%",
         "-100.00%",
         "0.49%",
         "0.76%"
        ],
        [
         "2025-07-11",
         "0.55%",
         "-40.00%",
         "0.71%",
         "0.13%"
        ],
        [
         "2025-07-18",
         "1.69%",
         "97.14%",
         "0.62%",
         "0.46%"
        ]
       ],
       "shape": {
        "columns": 4,
        "rows": 8
       }
      },
      "text/html": [
       "<div>\n",
       "<style scoped>\n",
       "    .dataframe tbody tr th:only-of-type {\n",
       "        vertical-align: middle;\n",
       "    }\n",
       "\n",
       "    .dataframe tbody tr th {\n",
       "        vertical-align: top;\n",
       "    }\n",
       "\n",
       "    .dataframe thead th {\n",
       "        text-align: right;\n",
       "    }\n",
       "</style>\n",
       "<table border=\"1\" class=\"dataframe\">\n",
       "  <thead>\n",
       "    <tr style=\"text-align: right;\">\n",
       "      <th></th>\n",
       "      <th>stock_change</th>\n",
       "      <th>call_profit</th>\n",
       "      <th>rcp</th>\n",
       "      <th>gap</th>\n",
       "    </tr>\n",
       "    <tr>\n",
       "      <th>date</th>\n",
       "      <th></th>\n",
       "      <th></th>\n",
       "      <th></th>\n",
       "      <th></th>\n",
       "    </tr>\n",
       "  </thead>\n",
       "  <tbody>\n",
       "    <tr>\n",
       "      <th>2025-05-30</th>\n",
       "      <td>2.37%</td>\n",
       "      <td>21.43%</td>\n",
       "      <td>1.36%</td>\n",
       "      <td>0.70%</td>\n",
       "    </tr>\n",
       "    <tr>\n",
       "      <th>2025-06-06</th>\n",
       "      <td>0.67%</td>\n",
       "      <td>-70.37%</td>\n",
       "      <td>1.29%</td>\n",
       "      <td>0.29%</td>\n",
       "    </tr>\n",
       "    <tr>\n",
       "      <th>2025-06-13</th>\n",
       "      <td>0.85%</td>\n",
       "      <td>-70.00%</td>\n",
       "      <td>0.94%</td>\n",
       "      <td>0.57%</td>\n",
       "    </tr>\n",
       "    <tr>\n",
       "      <th>2025-06-20</th>\n",
       "      <td>-0.55%</td>\n",
       "      <td>-100.00%</td>\n",
       "      <td>0.65%</td>\n",
       "      <td>1.60%</td>\n",
       "    </tr>\n",
       "    <tr>\n",
       "      <th>2025-06-27</th>\n",
       "      <td>5.15%</td>\n",
       "      <td>268.57%</td>\n",
       "      <td>1.32%</td>\n",
       "      <td>0.26%</td>\n",
       "    </tr>\n",
       "    <tr>\n",
       "      <th>2025-07-03</th>\n",
       "      <td>0.63%</td>\n",
       "      <td>-100.00%</td>\n",
       "      <td>0.49%</td>\n",
       "      <td>0.76%</td>\n",
       "    </tr>\n",
       "    <tr>\n",
       "      <th>2025-07-11</th>\n",
       "      <td>0.55%</td>\n",
       "      <td>-40.00%</td>\n",
       "      <td>0.71%</td>\n",
       "      <td>0.13%</td>\n",
       "    </tr>\n",
       "    <tr>\n",
       "      <th>2025-07-18</th>\n",
       "      <td>1.69%</td>\n",
       "      <td>97.14%</td>\n",
       "      <td>0.62%</td>\n",
       "      <td>0.46%</td>\n",
       "    </tr>\n",
       "  </tbody>\n",
       "</table>\n",
       "</div>"
      ],
      "text/plain": [
       "           stock_change call_profit    rcp    gap\n",
       "date                                             \n",
       "2025-05-30        2.37%      21.43%  1.36%  0.70%\n",
       "2025-06-06        0.67%     -70.37%  1.29%  0.29%\n",
       "2025-06-13        0.85%     -70.00%  0.94%  0.57%\n",
       "2025-06-20       -0.55%    -100.00%  0.65%  1.60%\n",
       "2025-06-27        5.15%     268.57%  1.32%  0.26%\n",
       "2025-07-03        0.63%    -100.00%  0.49%  0.76%\n",
       "2025-07-11        0.55%     -40.00%  0.71%  0.13%\n",
       "2025-07-18        1.69%      97.14%  0.62%  0.46%"
      ]
     },
     "metadata": {},
     "output_type": "display_data"
    }
   ],
   "source": [
    "display_real_calls('MAGS')"
   ]
  },
  {
   "cell_type": "code",
   "execution_count": 9,
   "id": "4f03fa92",
   "metadata": {},
   "outputs": [
    {
     "data": {
      "application/vnd.microsoft.datawrangler.viewer.v0+json": {
       "columns": [
        {
         "name": "date",
         "rawType": "object",
         "type": "string"
        },
        {
         "name": "stock_change",
         "rawType": "object",
         "type": "string"
        },
        {
         "name": "call_profit",
         "rawType": "object",
         "type": "string"
        },
        {
         "name": "rcp",
         "rawType": "object",
         "type": "string"
        },
        {
         "name": "gap",
         "rawType": "object",
         "type": "string"
        }
       ],
       "ref": "b39164db-934f-4d45-816f-78e70fb7c33b",
       "rows": [
        [
         "2025-05-30",
         "1.82%",
         "48.39%",
         "0.61%",
         "0.90%"
        ],
        [
         "2025-06-06",
         "0.63%",
         "-31.71%",
         "0.80%",
         "0.08%"
        ],
        [
         "2025-06-13",
         "-2.57%",
         "-100.00%",
         "0.66%",
         "0.43%"
        ],
        [
         "2025-06-20",
         "0.80%",
         "-41.94%",
         "1.24%",
         "0.08%"
        ],
        [
         "2025-06-27",
         "3.14%",
         "336.36%",
         "0.65%",
         "0.28%"
        ],
        [
         "2025-07-03",
         "2.41%",
         "197.50%",
         "0.77%",
         "0.12%"
        ],
        [
         "2025-07-11",
         "-1.94%",
         "-100.00%",
         "0.62%",
         "0.58%"
        ],
        [
         "2025-07-18",
         "0.73%",
         "-90.91%",
         "0.84%",
         "0.65%"
        ]
       ],
       "shape": {
        "columns": 4,
        "rows": 8
       }
      },
      "text/html": [
       "<div>\n",
       "<style scoped>\n",
       "    .dataframe tbody tr th:only-of-type {\n",
       "        vertical-align: middle;\n",
       "    }\n",
       "\n",
       "    .dataframe tbody tr th {\n",
       "        vertical-align: top;\n",
       "    }\n",
       "\n",
       "    .dataframe thead th {\n",
       "        text-align: right;\n",
       "    }\n",
       "</style>\n",
       "<table border=\"1\" class=\"dataframe\">\n",
       "  <thead>\n",
       "    <tr style=\"text-align: right;\">\n",
       "      <th></th>\n",
       "      <th>stock_change</th>\n",
       "      <th>call_profit</th>\n",
       "      <th>rcp</th>\n",
       "      <th>gap</th>\n",
       "    </tr>\n",
       "    <tr>\n",
       "      <th>date</th>\n",
       "      <th></th>\n",
       "      <th></th>\n",
       "      <th></th>\n",
       "      <th></th>\n",
       "    </tr>\n",
       "  </thead>\n",
       "  <tbody>\n",
       "    <tr>\n",
       "      <th>2025-05-30</th>\n",
       "      <td>1.82%</td>\n",
       "      <td>48.39%</td>\n",
       "      <td>0.61%</td>\n",
       "      <td>0.90%</td>\n",
       "    </tr>\n",
       "    <tr>\n",
       "      <th>2025-06-06</th>\n",
       "      <td>0.63%</td>\n",
       "      <td>-31.71%</td>\n",
       "      <td>0.80%</td>\n",
       "      <td>0.08%</td>\n",
       "    </tr>\n",
       "    <tr>\n",
       "      <th>2025-06-13</th>\n",
       "      <td>-2.57%</td>\n",
       "      <td>-100.00%</td>\n",
       "      <td>0.66%</td>\n",
       "      <td>0.43%</td>\n",
       "    </tr>\n",
       "    <tr>\n",
       "      <th>2025-06-20</th>\n",
       "      <td>0.80%</td>\n",
       "      <td>-41.94%</td>\n",
       "      <td>1.24%</td>\n",
       "      <td>0.08%</td>\n",
       "    </tr>\n",
       "    <tr>\n",
       "      <th>2025-06-27</th>\n",
       "      <td>3.14%</td>\n",
       "      <td>336.36%</td>\n",
       "      <td>0.65%</td>\n",
       "      <td>0.28%</td>\n",
       "    </tr>\n",
       "    <tr>\n",
       "      <th>2025-07-03</th>\n",
       "      <td>2.41%</td>\n",
       "      <td>197.50%</td>\n",
       "      <td>0.77%</td>\n",
       "      <td>0.12%</td>\n",
       "    </tr>\n",
       "    <tr>\n",
       "      <th>2025-07-11</th>\n",
       "      <td>-1.94%</td>\n",
       "      <td>-100.00%</td>\n",
       "      <td>0.62%</td>\n",
       "      <td>0.58%</td>\n",
       "    </tr>\n",
       "    <tr>\n",
       "      <th>2025-07-18</th>\n",
       "      <td>0.73%</td>\n",
       "      <td>-90.91%</td>\n",
       "      <td>0.84%</td>\n",
       "      <td>0.65%</td>\n",
       "    </tr>\n",
       "  </tbody>\n",
       "</table>\n",
       "</div>"
      ],
      "text/plain": [
       "           stock_change call_profit    rcp    gap\n",
       "date                                             \n",
       "2025-05-30        1.82%      48.39%  0.61%  0.90%\n",
       "2025-06-06        0.63%     -31.71%  0.80%  0.08%\n",
       "2025-06-13       -2.57%    -100.00%  0.66%  0.43%\n",
       "2025-06-20        0.80%     -41.94%  1.24%  0.08%\n",
       "2025-06-27        3.14%     336.36%  0.65%  0.28%\n",
       "2025-07-03        2.41%     197.50%  0.77%  0.12%\n",
       "2025-07-11       -1.94%    -100.00%  0.62%  0.58%\n",
       "2025-07-18        0.73%     -90.91%  0.84%  0.65%"
      ]
     },
     "metadata": {},
     "output_type": "display_data"
    }
   ],
   "source": [
    "display_real_calls('XLF')"
   ]
  },
  {
   "cell_type": "code",
   "execution_count": 10,
   "id": "c600fcbe",
   "metadata": {},
   "outputs": [
    {
     "data": {
      "application/vnd.microsoft.datawrangler.viewer.v0+json": {
       "columns": [
        {
         "name": "date",
         "rawType": "object",
         "type": "string"
        },
        {
         "name": "stock_change",
         "rawType": "object",
         "type": "string"
        },
        {
         "name": "call_profit",
         "rawType": "object",
         "type": "string"
        },
        {
         "name": "rcp",
         "rawType": "object",
         "type": "string"
        },
        {
         "name": "gap",
         "rawType": "object",
         "type": "string"
        }
       ],
       "ref": "b20e1932-e024-4525-b961-e84434b5f8a1",
       "rows": [
        [
         "2025-05-30",
         "5.55%",
         "38.89%",
         "3.22%",
         "1.03%"
        ],
        [
         "2025-06-06",
         "6.01%",
         "86.28%",
         "3.23%",
         "0.00%"
        ],
        [
         "2025-06-13",
         "-1.86%",
         "-100.00%",
         "2.23%",
         "1.06%"
        ],
        [
         "2025-06-20",
         "-0.52%",
         "-100.00%",
         "3.05%",
         "0.23%"
        ],
        [
         "2025-06-27",
         "12.38%",
         "362.64%",
         "2.49%",
         "0.76%"
        ],
        [
         "2025-07-03",
         "4.16%",
         "99.29%",
         "1.72%",
         "0.71%"
        ],
        [
         "2025-07-11",
         "-1.29%",
         "-100.00%",
         "2.41%",
         "0.22%"
        ],
        [
         "2025-07-18",
         "3.62%",
         "56.70%",
         "2.09%",
         "0.33%"
        ]
       ],
       "shape": {
        "columns": 4,
        "rows": 8
       }
      },
      "text/html": [
       "<div>\n",
       "<style scoped>\n",
       "    .dataframe tbody tr th:only-of-type {\n",
       "        vertical-align: middle;\n",
       "    }\n",
       "\n",
       "    .dataframe tbody tr th {\n",
       "        vertical-align: top;\n",
       "    }\n",
       "\n",
       "    .dataframe thead th {\n",
       "        text-align: right;\n",
       "    }\n",
       "</style>\n",
       "<table border=\"1\" class=\"dataframe\">\n",
       "  <thead>\n",
       "    <tr style=\"text-align: right;\">\n",
       "      <th></th>\n",
       "      <th>stock_change</th>\n",
       "      <th>call_profit</th>\n",
       "      <th>rcp</th>\n",
       "      <th>gap</th>\n",
       "    </tr>\n",
       "    <tr>\n",
       "      <th>date</th>\n",
       "      <th></th>\n",
       "      <th></th>\n",
       "      <th></th>\n",
       "      <th></th>\n",
       "    </tr>\n",
       "  </thead>\n",
       "  <tbody>\n",
       "    <tr>\n",
       "      <th>2025-05-30</th>\n",
       "      <td>5.55%</td>\n",
       "      <td>38.89%</td>\n",
       "      <td>3.22%</td>\n",
       "      <td>1.03%</td>\n",
       "    </tr>\n",
       "    <tr>\n",
       "      <th>2025-06-06</th>\n",
       "      <td>6.01%</td>\n",
       "      <td>86.28%</td>\n",
       "      <td>3.23%</td>\n",
       "      <td>0.00%</td>\n",
       "    </tr>\n",
       "    <tr>\n",
       "      <th>2025-06-13</th>\n",
       "      <td>-1.86%</td>\n",
       "      <td>-100.00%</td>\n",
       "      <td>2.23%</td>\n",
       "      <td>1.06%</td>\n",
       "    </tr>\n",
       "    <tr>\n",
       "      <th>2025-06-20</th>\n",
       "      <td>-0.52%</td>\n",
       "      <td>-100.00%</td>\n",
       "      <td>3.05%</td>\n",
       "      <td>0.23%</td>\n",
       "    </tr>\n",
       "    <tr>\n",
       "      <th>2025-06-27</th>\n",
       "      <td>12.38%</td>\n",
       "      <td>362.64%</td>\n",
       "      <td>2.49%</td>\n",
       "      <td>0.76%</td>\n",
       "    </tr>\n",
       "    <tr>\n",
       "      <th>2025-07-03</th>\n",
       "      <td>4.16%</td>\n",
       "      <td>99.29%</td>\n",
       "      <td>1.72%</td>\n",
       "      <td>0.71%</td>\n",
       "    </tr>\n",
       "    <tr>\n",
       "      <th>2025-07-11</th>\n",
       "      <td>-1.29%</td>\n",
       "      <td>-100.00%</td>\n",
       "      <td>2.41%</td>\n",
       "      <td>0.22%</td>\n",
       "    </tr>\n",
       "    <tr>\n",
       "      <th>2025-07-18</th>\n",
       "      <td>3.62%</td>\n",
       "      <td>56.70%</td>\n",
       "      <td>2.09%</td>\n",
       "      <td>0.33%</td>\n",
       "    </tr>\n",
       "  </tbody>\n",
       "</table>\n",
       "</div>"
      ],
      "text/plain": [
       "           stock_change call_profit    rcp    gap\n",
       "date                                             \n",
       "2025-05-30        5.55%      38.89%  3.22%  1.03%\n",
       "2025-06-06        6.01%      86.28%  3.23%  0.00%\n",
       "2025-06-13       -1.86%    -100.00%  2.23%  1.06%\n",
       "2025-06-20       -0.52%    -100.00%  3.05%  0.23%\n",
       "2025-06-27       12.38%     362.64%  2.49%  0.76%\n",
       "2025-07-03        4.16%      99.29%  1.72%  0.71%\n",
       "2025-07-11       -1.29%    -100.00%  2.41%  0.22%\n",
       "2025-07-18        3.62%      56.70%  2.09%  0.33%"
      ]
     },
     "metadata": {},
     "output_type": "display_data"
    }
   ],
   "source": [
    "display_real_calls('TQQQ')"
   ]
  }
 ],
 "metadata": {
  "kernelspec": {
   "display_name": ".venv (3.12.3)",
   "language": "python",
   "name": "python3"
  },
  "language_info": {
   "codemirror_mode": {
    "name": "ipython",
    "version": 3
   },
   "file_extension": ".py",
   "mimetype": "text/x-python",
   "name": "python",
   "nbconvert_exporter": "python",
   "pygments_lexer": "ipython3",
   "version": "3.12.3"
  }
 },
 "nbformat": 4,
 "nbformat_minor": 5
}

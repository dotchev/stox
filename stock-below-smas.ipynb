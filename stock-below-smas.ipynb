{
 "cells": [
  {
   "cell_type": "code",
   "execution_count": 1,
   "metadata": {},
   "outputs": [],
   "source": [
    "from itertools import groupby\n",
    "from datetime import date\n",
    "import pandas as pd\n",
    "import yfinance as yf"
   ]
  },
  {
   "cell_type": "code",
   "execution_count": 2,
   "metadata": {},
   "outputs": [
    {
     "name": "stdout",
     "output_type": "stream",
     "text": [
      "MAGS history: 457d\n",
      "FNGS history: 524d\n",
      "USD history: 524d\n",
      "TQQQ history: 524d\n"
     ]
    }
   ],
   "source": [
    "start_date = '2023-1-1'\n",
    "\n",
    "history_map = {}\n",
    "symbols=[\n",
    "    'MAGS','FNGS','USD','TQQQ',\n",
    "    # 'AAPL'\n",
    "    # 'SPY', 'QQQ', 'IGM', 'XLKS.MI',\n",
    "    # 'MAGX', 'MAG7.L',\n",
    "    # 'FNGU',\n",
    "    # 'SMH', 'NVDA',\n",
    "    # 'TSLA', 'MSFT', 'GOOG', 'AAPL', 'AMZN', 'CRM', 'NFLX', 'SHOP', 'NET', 'NOW',    \n",
    "    ]\n",
    "for symbol in symbols:\n",
    "    tickerData = yf.Ticker(symbol)\n",
    "    history = tickerData.history(interval='1d', start=start_date, end=date.today())\n",
    "    print(f'{symbol} history: {len(history)}d')\n",
    "    history_map[symbol] = history"
   ]
  },
  {
   "cell_type": "code",
   "execution_count": 3,
   "metadata": {},
   "outputs": [
    {
     "name": "stdout",
     "output_type": "stream",
     "text": [
      "\n",
      "MAGS Last close: $55.68\n",
      "SMA 10 - 14 cal days\n",
      "\n",
      "FNGS Last close: $59.53\n",
      "FNGS is above all SMA\n",
      "\n",
      "USD Last close: $54.55\n",
      "SMA 5..285 - 7..399 cal days\n",
      "\n",
      "TQQQ Last close: $83.65\n",
      "SMA 10 - 14 cal days\n"
     ]
    }
   ],
   "source": [
    "for symbol, history in history_map.items():\n",
    "    print()\n",
    "    last_close = history['Close'].iloc[-1]\n",
    "    print(f'{symbol} Last close: ${last_close:.2f}')\n",
    "\n",
    "    weeks = []\n",
    "    for w in range(1, 101):\n",
    "        m = history.Close[-(w*5):].mean()\n",
    "        if last_close < m:\n",
    "            weeks.append(w)\n",
    "\n",
    "    if not weeks:\n",
    "        print(f'{symbol} is above all SMA')\n",
    "        continue\n",
    "\n",
    "    for _, group in groupby(enumerate(weeks), lambda x: x[1] - x[0]):\n",
    "        group = list(group)\n",
    "        start, end = group[0][1], group[-1][1]\n",
    "        if start == end:\n",
    "            print(f'SMA {start*5} - {start*7} cal days')\n",
    "        else:\n",
    "            print(f'SMA {start*5}..{end*5} - {start*7}..{end*7} cal days')"
   ]
  }
 ],
 "metadata": {
  "kernelspec": {
   "display_name": ".venv",
   "language": "python",
   "name": "python3"
  },
  "language_info": {
   "codemirror_mode": {
    "name": "ipython",
    "version": 3
   },
   "file_extension": ".py",
   "mimetype": "text/x-python",
   "name": "python",
   "nbconvert_exporter": "python",
   "pygments_lexer": "ipython3",
   "version": "3.12.3"
  }
 },
 "nbformat": 4,
 "nbformat_minor": 2
}

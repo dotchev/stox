{
 "cells": [
  {
   "cell_type": "code",
   "execution_count": 3,
   "metadata": {},
   "outputs": [],
   "source": [
    "from itertools import groupby\n",
    "from datetime import date\n",
    "import pandas as pd\n",
    "import yfinance as yf"
   ]
  },
  {
   "cell_type": "code",
   "execution_count": 4,
   "metadata": {},
   "outputs": [
    {
     "name": "stdout",
     "output_type": "stream",
     "text": [
      "SPY history: 536d\n",
      "QQQ history: 536d\n",
      "TQQQ history: 536d\n",
      "IGM history: 536d\n",
      "XLKS.MI history: 544d\n",
      "MAGS history: 469d\n",
      "MAGX history: 246d\n",
      "MAG7.L history: 224d\n",
      "FNGS history: 536d\n",
      "FNGU history: 536d\n",
      "SMH history: 536d\n"
     ]
    },
    {
     "name": "stderr",
     "output_type": "stream",
     "text": [
      "$USD: possibly delisted; no price data found  (1d 2023-1-1 -> 2025-02-23)\n"
     ]
    },
    {
     "name": "stdout",
     "output_type": "stream",
     "text": [
      "Loading USD history from file\n",
      "USD history: 536d\n",
      "NVDA history: 536d\n",
      "TSLA history: 536d\n",
      "MSFT history: 536d\n",
      "GOOG history: 536d\n",
      "AAPL history: 536d\n",
      "AMZN history: 536d\n",
      "CRM history: 536d\n",
      "NFLX history: 536d\n",
      "SHOP history: 536d\n",
      "NET history: 536d\n",
      "NOW history: 536d\n",
      "SNOW history: 536d\n"
     ]
    }
   ],
   "source": [
    "start_date = '2023-1-1'\n",
    "\n",
    "history_map = {}\n",
    "symbols=[\n",
    "    'SPY', 'QQQ', 'TQQQ', 'IGM', 'XLKS.MI',\n",
    "    'MAGS', 'MAGX', 'MAG7.L',\n",
    "    'FNGS', 'FNGU',\n",
    "    'SMH', 'USD', 'NVDA',\n",
    "    'TSLA', 'MSFT', 'GOOG', 'AAPL', 'AMZN', 'CRM', 'NFLX', 'SHOP', 'NET', 'NOW','SNOW'\n",
    "]\n",
    "for symbol in symbols:\n",
    "    tickerData = yf.Ticker(symbol)\n",
    "    history = tickerData.history(interval='1d', start=start_date, end=date.today())\n",
    "    if symbol == 'USD':\n",
    "        print('Loading USD history from file')\n",
    "        history = pd.read_csv('data/USD-daily.csv').set_index('Date')\n",
    "    print(f'{symbol} history: {len(history)}d')\n",
    "    if len(history) > 0:\n",
    "        history_map[symbol] = history"
   ]
  },
  {
   "cell_type": "code",
   "execution_count": 5,
   "metadata": {},
   "outputs": [
    {
     "name": "stdout",
     "output_type": "stream",
     "text": [
      "\n",
      "SPY Last close: $599.94\n",
      "SMA 5..30 - 7..42 cal days\n",
      "\n",
      "QQQ Last close: $526.08\n",
      "SMA 5..25 - 7..35 cal days\n",
      "\n",
      "TQQQ Last close: $83.71\n",
      "SMA 5..30 - 7..42 cal days\n",
      "SMA 40..60 - 56..84 cal days\n",
      "\n",
      "IGM Last close: $104.41\n",
      "SMA 5..60 - 7..84 cal days\n",
      "\n",
      "XLKS.MI Last close: $669.48\n",
      "SMA 5 - 7 cal days\n",
      "\n",
      "MAGS Last close: $53.61\n",
      "SMA 5..80 - 7..112 cal days\n",
      "\n",
      "MAGX Last close: $43.89\n",
      "SMA 5..90 - 7..126 cal days\n",
      "\n",
      "MAG7.L Last close: $37.97\n",
      "SMA 5..115 - 7..161 cal days\n",
      "\n",
      "FNGS Last close: $57.75\n",
      "SMA 5..60 - 7..84 cal days\n",
      "\n",
      "FNGU Last close: $591.82\n",
      "SMA 5..70 - 7..98 cal days\n",
      "\n",
      "SMH Last close: $249.99\n",
      "SMA 5..10 - 7..14 cal days\n",
      "SMA 25..40 - 35..56 cal days\n",
      "\n",
      "USD Last close: $62.81\n",
      "SMA 5..10 - 7..14 cal days\n",
      "SMA 25..135 - 35..189 cal days\n",
      "SMA 155..200 - 217..280 cal days\n",
      "\n",
      "NVDA Last close: $134.43\n",
      "SMA 5..10 - 7..14 cal days\n",
      "SMA 40 - 56 cal days\n",
      "SMA 50..110 - 70..154 cal days\n",
      "\n",
      "TSLA Last close: $337.80\n",
      "SMA 5..105 - 7..147 cal days\n",
      "\n",
      "MSFT Last close: $408.21\n",
      "SMA 5..340 - 7..476 cal days\n",
      "\n",
      "GOOG Last close: $181.58\n",
      "SMA 5..100 - 7..140 cal days\n",
      "\n",
      "AAPL Last close: $245.55\n",
      "AAPL is above all SMA!\n",
      "\n",
      "AMZN Last close: $216.58\n",
      "SMA 5..85 - 7..119 cal days\n",
      "\n",
      "CRM Last close: $309.80\n",
      "SMA 5..120 - 7..168 cal days\n",
      "\n",
      "NFLX Last close: $1003.15\n",
      "SMA 5..20 - 7..28 cal days\n",
      "\n",
      "SHOP Last close: $115.56\n",
      "SMA 5..25 - 7..35 cal days\n",
      "\n",
      "NET Last close: $151.96\n",
      "SMA 5..15 - 7..21 cal days\n",
      "\n",
      "NOW Last close: $938.41\n",
      "SMA 5..165 - 7..231 cal days\n",
      "\n",
      "SNOW Last close: $177.89\n",
      "SMA 5..30 - 7..42 cal days\n"
     ]
    }
   ],
   "source": [
    "for symbol, history in history_map.items():\n",
    "    print()\n",
    "    last_close = history['Close'].iloc[-1]\n",
    "    print(f'{symbol} Last close: ${last_close:.2f}')\n",
    "\n",
    "    weeks = []\n",
    "    for w in range(1, 101):\n",
    "        m = history.Close[-(w*5):].mean()\n",
    "        if last_close < m:\n",
    "            weeks.append(w)\n",
    "\n",
    "    if not weeks:\n",
    "        print(f'{symbol} is above all SMA!')\n",
    "        continue\n",
    "\n",
    "    for _, group in groupby(enumerate(weeks), lambda x: x[1] - x[0]):\n",
    "        group = list(group)\n",
    "        start, end = group[0][1], group[-1][1]\n",
    "        if start == end:\n",
    "            print(f'SMA {start*5} - {start*7} cal days')\n",
    "        else:\n",
    "            print(f'SMA {start*5}..{end*5} - {start*7}..{end*7} cal days')"
   ]
  }
 ],
 "metadata": {
  "kernelspec": {
   "display_name": ".venv",
   "language": "python",
   "name": "python3"
  },
  "language_info": {
   "codemirror_mode": {
    "name": "ipython",
    "version": 3
   },
   "file_extension": ".py",
   "mimetype": "text/x-python",
   "name": "python",
   "nbconvert_exporter": "python",
   "pygments_lexer": "ipython3",
   "version": "3.12.3"
  }
 },
 "nbformat": 4,
 "nbformat_minor": 2
}

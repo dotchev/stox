{
 "cells": [
  {
   "cell_type": "code",
   "execution_count": 6,
   "metadata": {},
   "outputs": [],
   "source": [
    "import pandas as pd\n",
    "import yfinance as yf\n",
    "from datetime import date"
   ]
  },
  {
   "cell_type": "code",
   "execution_count": 7,
   "metadata": {},
   "outputs": [
    {
     "name": "stderr",
     "output_type": "stream",
     "text": [
      "$USD: possibly delisted; no price data found  (1d 2020-02-23 -> 2025-02-23)\n"
     ]
    },
    {
     "name": "stdout",
     "output_type": "stream",
     "text": [
      "Loading USD history from file\n"
     ]
    }
   ],
   "source": [
    "# start_date = '2023-4-10' # start of MAGS history\n",
    "# start_date = '2023-1-1' # start of uptrend\n",
    "start_date = date.today().replace(year=date.today().year - 5)\n",
    "\n",
    "\n",
    "def temperature(series):\n",
    "    series = series.dropna()\n",
    "    if len(series) == 0:\n",
    "        return None\n",
    "    return (series <= series.iloc[-1]).mean()\n",
    "\n",
    "\n",
    "rows = []\n",
    "for symbol in [\n",
    "    'SPY', 'QQQ', 'TQQQ', 'IGM', 'XLKS.MI',\n",
    "    'MAGS', 'MAGX', 'MAG7.L',\n",
    "    'FNGS', 'FNGU',\n",
    "    'SMH', 'USD', 'NVDA',\n",
    "    'TSLA', 'MSFT', 'GOOG', 'AAPL', 'AMZN', 'CRM', 'NFLX', 'SHOP', 'NET', 'NOW','SNOW'\n",
    "]:\n",
    "    tickerData = yf.Ticker(symbol)\n",
    "    # prices are adjusted for splits\n",
    "    history = tickerData.history(interval='1d', start=start_date, end=date.today())\n",
    "    if symbol == 'USD':\n",
    "        print('Loading USD history from file')\n",
    "        history = pd.read_csv('data/USD-daily.csv').set_index('Date')\n",
    "    history['SMA200'] = history['Close'].rolling(window=200).mean()\n",
    "    history['SMA200_distance'] = history.Close / history.SMA200 - 1\n",
    "    history['SMA50'] = history['Close'].rolling(window=50).mean()\n",
    "    history['SMA50_distance'] = history.Close / history.SMA50 - 1\n",
    "    # display(history)\n",
    "    rows.append({\n",
    "        'symbol': symbol,\n",
    "        'days': len(history),\n",
    "        'SMA50': temperature(history.SMA50_distance),\n",
    "        'SMA200': temperature(history.SMA200_distance),\n",
    "    })"
   ]
  },
  {
   "cell_type": "code",
   "execution_count": 8,
   "metadata": {},
   "outputs": [
    {
     "data": {
      "application/vnd.microsoft.datawrangler.viewer.v0+json": {
       "columns": [
        {
         "name": "index",
         "rawType": "int64",
         "type": "integer"
        },
        {
         "name": "symbol",
         "rawType": "object",
         "type": "string"
        },
        {
         "name": "days",
         "rawType": "int64",
         "type": "integer"
        },
        {
         "name": "SMA50",
         "rawType": "float64",
         "type": "float"
        },
        {
         "name": "SMA200",
         "rawType": "float64",
         "type": "float"
        }
       ],
       "conversionMethod": "pd.DataFrame",
       "ref": "757ae4d6-3143-40b5-a1e8-47b6f9b6ca4f",
       "rows": [
        [
         "0",
         "SPY",
         "1257",
         "0.2740066225165563",
         "0.3742911153119093"
        ],
        [
         "1",
         "QQQ",
         "1257",
         "0.30960264900662254",
         "0.3771266540642722"
        ],
        [
         "2",
         "TQQQ",
         "1257",
         "0.3162251655629139",
         "0.3752362948960302"
        ],
        [
         "3",
         "IGM",
         "1257",
         "0.2706953642384106",
         "0.3553875236294896"
        ],
        [
         "4",
         "XLKS.MI",
         "1274",
         "0.3306122448979592",
         "0.40837209302325583"
        ],
        [
         "5",
         "MAGS",
         "469",
         "0.05476190476190476",
         "0.05185185185185185"
        ],
        [
         "6",
         "MAGX",
         "246",
         "0.07614213197969544",
         "0.02127659574468085"
        ],
        [
         "7",
         "MAG7.L",
         "224",
         "0.1657142857142857",
         "0.04"
        ],
        [
         "8",
         "FNGS",
         "1257",
         "0.23178807947019867",
         "0.4773156899810964"
        ],
        [
         "9",
         "FNGU",
         "1257",
         "0.27897350993377484",
         "0.497164461247637"
        ],
        [
         "10",
         "SMH",
         "1257",
         "0.3402317880794702",
         "0.2495274102079395"
        ],
        [
         "11",
         "USD",
         "536",
         "0.22381930184804927",
         "0.04747774480712166"
        ],
        [
         "12",
         "NVDA",
         "1257",
         "0.29387417218543044",
         "0.24763705103969755"
        ],
        [
         "13",
         "TSLA",
         "1257",
         "0.11092715231788079",
         "0.6937618147448015"
        ],
        [
         "14",
         "MSFT",
         "1257",
         "0.13327814569536423",
         "0.1843100189035917"
        ],
        [
         "15",
         "GOOG",
         "1257",
         "0.1076158940397351",
         "0.3052930056710775"
        ],
        [
         "16",
         "AAPL",
         "1257",
         "0.4735099337748344",
         "0.5482041587901701"
        ],
        [
         "17",
         "AMZN",
         "1257",
         "0.1597682119205298",
         "0.6068052930056711"
        ],
        [
         "18",
         "CRM",
         "1257",
         "0.1597682119205298",
         "0.552930056710775"
        ],
        [
         "19",
         "NFLX",
         "1257",
         "0.6481788079470199",
         "0.8742911153119093"
        ],
        [
         "20",
         "SHOP",
         "1257",
         "0.47433774834437087",
         "0.8648393194706995"
        ],
        [
         "21",
         "NET",
         "1257",
         "0.7897350993377483",
         "0.9149338374291115"
        ],
        [
         "22",
         "NOW",
         "1257",
         "0.048013245033112585",
         "0.3534971644612476"
        ],
        [
         "23",
         "SNOW",
         "1114",
         "0.5793427230046948",
         "0.9103825136612022"
        ]
       ],
       "shape": {
        "columns": 4,
        "rows": 24
       }
      },
      "text/html": [
       "<div>\n",
       "<style scoped>\n",
       "    .dataframe tbody tr th:only-of-type {\n",
       "        vertical-align: middle;\n",
       "    }\n",
       "\n",
       "    .dataframe tbody tr th {\n",
       "        vertical-align: top;\n",
       "    }\n",
       "\n",
       "    .dataframe thead th {\n",
       "        text-align: right;\n",
       "    }\n",
       "</style>\n",
       "<table border=\"1\" class=\"dataframe\">\n",
       "  <thead>\n",
       "    <tr style=\"text-align: right;\">\n",
       "      <th></th>\n",
       "      <th>symbol</th>\n",
       "      <th>days</th>\n",
       "      <th>SMA50</th>\n",
       "      <th>SMA200</th>\n",
       "    </tr>\n",
       "  </thead>\n",
       "  <tbody>\n",
       "    <tr>\n",
       "      <th>0</th>\n",
       "      <td>SPY</td>\n",
       "      <td>1257</td>\n",
       "      <td>0.274007</td>\n",
       "      <td>0.374291</td>\n",
       "    </tr>\n",
       "    <tr>\n",
       "      <th>1</th>\n",
       "      <td>QQQ</td>\n",
       "      <td>1257</td>\n",
       "      <td>0.309603</td>\n",
       "      <td>0.377127</td>\n",
       "    </tr>\n",
       "    <tr>\n",
       "      <th>2</th>\n",
       "      <td>TQQQ</td>\n",
       "      <td>1257</td>\n",
       "      <td>0.316225</td>\n",
       "      <td>0.375236</td>\n",
       "    </tr>\n",
       "    <tr>\n",
       "      <th>3</th>\n",
       "      <td>IGM</td>\n",
       "      <td>1257</td>\n",
       "      <td>0.270695</td>\n",
       "      <td>0.355388</td>\n",
       "    </tr>\n",
       "    <tr>\n",
       "      <th>4</th>\n",
       "      <td>XLKS.MI</td>\n",
       "      <td>1274</td>\n",
       "      <td>0.330612</td>\n",
       "      <td>0.408372</td>\n",
       "    </tr>\n",
       "    <tr>\n",
       "      <th>5</th>\n",
       "      <td>MAGS</td>\n",
       "      <td>469</td>\n",
       "      <td>0.054762</td>\n",
       "      <td>0.051852</td>\n",
       "    </tr>\n",
       "    <tr>\n",
       "      <th>6</th>\n",
       "      <td>MAGX</td>\n",
       "      <td>246</td>\n",
       "      <td>0.076142</td>\n",
       "      <td>0.021277</td>\n",
       "    </tr>\n",
       "    <tr>\n",
       "      <th>7</th>\n",
       "      <td>MAG7.L</td>\n",
       "      <td>224</td>\n",
       "      <td>0.165714</td>\n",
       "      <td>0.040000</td>\n",
       "    </tr>\n",
       "    <tr>\n",
       "      <th>8</th>\n",
       "      <td>FNGS</td>\n",
       "      <td>1257</td>\n",
       "      <td>0.231788</td>\n",
       "      <td>0.477316</td>\n",
       "    </tr>\n",
       "    <tr>\n",
       "      <th>9</th>\n",
       "      <td>FNGU</td>\n",
       "      <td>1257</td>\n",
       "      <td>0.278974</td>\n",
       "      <td>0.497164</td>\n",
       "    </tr>\n",
       "    <tr>\n",
       "      <th>10</th>\n",
       "      <td>SMH</td>\n",
       "      <td>1257</td>\n",
       "      <td>0.340232</td>\n",
       "      <td>0.249527</td>\n",
       "    </tr>\n",
       "    <tr>\n",
       "      <th>11</th>\n",
       "      <td>USD</td>\n",
       "      <td>536</td>\n",
       "      <td>0.223819</td>\n",
       "      <td>0.047478</td>\n",
       "    </tr>\n",
       "    <tr>\n",
       "      <th>12</th>\n",
       "      <td>NVDA</td>\n",
       "      <td>1257</td>\n",
       "      <td>0.293874</td>\n",
       "      <td>0.247637</td>\n",
       "    </tr>\n",
       "    <tr>\n",
       "      <th>13</th>\n",
       "      <td>TSLA</td>\n",
       "      <td>1257</td>\n",
       "      <td>0.110927</td>\n",
       "      <td>0.693762</td>\n",
       "    </tr>\n",
       "    <tr>\n",
       "      <th>14</th>\n",
       "      <td>MSFT</td>\n",
       "      <td>1257</td>\n",
       "      <td>0.133278</td>\n",
       "      <td>0.184310</td>\n",
       "    </tr>\n",
       "    <tr>\n",
       "      <th>15</th>\n",
       "      <td>GOOG</td>\n",
       "      <td>1257</td>\n",
       "      <td>0.107616</td>\n",
       "      <td>0.305293</td>\n",
       "    </tr>\n",
       "    <tr>\n",
       "      <th>16</th>\n",
       "      <td>AAPL</td>\n",
       "      <td>1257</td>\n",
       "      <td>0.473510</td>\n",
       "      <td>0.548204</td>\n",
       "    </tr>\n",
       "    <tr>\n",
       "      <th>17</th>\n",
       "      <td>AMZN</td>\n",
       "      <td>1257</td>\n",
       "      <td>0.159768</td>\n",
       "      <td>0.606805</td>\n",
       "    </tr>\n",
       "    <tr>\n",
       "      <th>18</th>\n",
       "      <td>CRM</td>\n",
       "      <td>1257</td>\n",
       "      <td>0.159768</td>\n",
       "      <td>0.552930</td>\n",
       "    </tr>\n",
       "    <tr>\n",
       "      <th>19</th>\n",
       "      <td>NFLX</td>\n",
       "      <td>1257</td>\n",
       "      <td>0.648179</td>\n",
       "      <td>0.874291</td>\n",
       "    </tr>\n",
       "    <tr>\n",
       "      <th>20</th>\n",
       "      <td>SHOP</td>\n",
       "      <td>1257</td>\n",
       "      <td>0.474338</td>\n",
       "      <td>0.864839</td>\n",
       "    </tr>\n",
       "    <tr>\n",
       "      <th>21</th>\n",
       "      <td>NET</td>\n",
       "      <td>1257</td>\n",
       "      <td>0.789735</td>\n",
       "      <td>0.914934</td>\n",
       "    </tr>\n",
       "    <tr>\n",
       "      <th>22</th>\n",
       "      <td>NOW</td>\n",
       "      <td>1257</td>\n",
       "      <td>0.048013</td>\n",
       "      <td>0.353497</td>\n",
       "    </tr>\n",
       "    <tr>\n",
       "      <th>23</th>\n",
       "      <td>SNOW</td>\n",
       "      <td>1114</td>\n",
       "      <td>0.579343</td>\n",
       "      <td>0.910383</td>\n",
       "    </tr>\n",
       "  </tbody>\n",
       "</table>\n",
       "</div>"
      ],
      "text/plain": [
       "     symbol  days     SMA50    SMA200\n",
       "0       SPY  1257  0.274007  0.374291\n",
       "1       QQQ  1257  0.309603  0.377127\n",
       "2      TQQQ  1257  0.316225  0.375236\n",
       "3       IGM  1257  0.270695  0.355388\n",
       "4   XLKS.MI  1274  0.330612  0.408372\n",
       "5      MAGS   469  0.054762  0.051852\n",
       "6      MAGX   246  0.076142  0.021277\n",
       "7    MAG7.L   224  0.165714  0.040000\n",
       "8      FNGS  1257  0.231788  0.477316\n",
       "9      FNGU  1257  0.278974  0.497164\n",
       "10      SMH  1257  0.340232  0.249527\n",
       "11      USD   536  0.223819  0.047478\n",
       "12     NVDA  1257  0.293874  0.247637\n",
       "13     TSLA  1257  0.110927  0.693762\n",
       "14     MSFT  1257  0.133278  0.184310\n",
       "15     GOOG  1257  0.107616  0.305293\n",
       "16     AAPL  1257  0.473510  0.548204\n",
       "17     AMZN  1257  0.159768  0.606805\n",
       "18      CRM  1257  0.159768  0.552930\n",
       "19     NFLX  1257  0.648179  0.874291\n",
       "20     SHOP  1257  0.474338  0.864839\n",
       "21      NET  1257  0.789735  0.914934\n",
       "22      NOW  1257  0.048013  0.353497\n",
       "23     SNOW  1114  0.579343  0.910383"
      ]
     },
     "metadata": {},
     "output_type": "display_data"
    }
   ],
   "source": [
    "df = pd.DataFrame(rows)\n",
    "display(df)\n",
    "df.to_csv('data/stocks-temperature.csv', index=False)"
   ]
  }
 ],
 "metadata": {
  "kernelspec": {
   "display_name": ".venv",
   "language": "python",
   "name": "python3"
  },
  "language_info": {
   "codemirror_mode": {
    "name": "ipython",
    "version": 3
   },
   "file_extension": ".py",
   "mimetype": "text/x-python",
   "name": "python",
   "nbconvert_exporter": "python",
   "pygments_lexer": "ipython3",
   "version": "3.12.3"
  }
 },
 "nbformat": 4,
 "nbformat_minor": 2
}

{
 "cells": [
  {
   "cell_type": "code",
   "execution_count": 46,
   "metadata": {},
   "outputs": [],
   "source": [
    "import pandas as pd\n",
    "import yfinance as yf\n",
    "from datetime import date"
   ]
  },
  {
   "cell_type": "code",
   "execution_count": 47,
   "metadata": {},
   "outputs": [
    {
     "name": "stdout",
     "output_type": "stream",
     "text": [
      "SOXL Last close: $32.65\n"
     ]
    }
   ],
   "source": [
    "symbol = 'SOXL'\n",
    "\n",
    "start_date = '2023-1-1'\n",
    "sma_days = 200\n",
    "\n",
    "tickerData = yf.Ticker(symbol)\n",
    "history = tickerData.history(interval='1d', start=start_date, end=date.today())\n",
    "last_close = history['Close'].iloc[-1]\n",
    "print(f'{symbol} Last close: ${last_close:.2f}')"
   ]
  },
  {
   "cell_type": "code",
   "execution_count": 48,
   "metadata": {},
   "outputs": [
    {
     "name": "stdout",
     "output_type": "stream",
     "text": [
      "SMA 5 - 7 cal days\n",
      "SMA 125..420 - 175..588 cal days\n"
     ]
    }
   ],
   "source": [
    "from itertools import groupby\n",
    "weeks = []\n",
    "for w in range(1, 101):\n",
    "    m = history.Close[-(w*5):].mean()\n",
    "    if last_close < m:\n",
    "        weeks.append(w)\n",
    "\n",
    "for _, group in groupby(enumerate(weeks), lambda x: x[1] - x[0]):\n",
    "    group = list(group)\n",
    "    start, end = group[0][1], group[-1][1]\n",
    "    if start == end:\n",
    "        print(f'SMA {start*5} - {start*7} cal days')\n",
    "    else:\n",
    "        print(f'SMA {start*5}..{end*5} - {start*7}..{end*7} cal days')"
   ]
  }
 ],
 "metadata": {
  "kernelspec": {
   "display_name": ".venv",
   "language": "python",
   "name": "python3"
  },
  "language_info": {
   "codemirror_mode": {
    "name": "ipython",
    "version": 3
   },
   "file_extension": ".py",
   "mimetype": "text/x-python",
   "name": "python",
   "nbconvert_exporter": "python",
   "pygments_lexer": "ipython3",
   "version": "3.12.3"
  }
 },
 "nbformat": 4,
 "nbformat_minor": 2
}

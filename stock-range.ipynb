{
 "cells": [
  {
   "cell_type": "code",
   "execution_count": 1,
   "metadata": {},
   "outputs": [],
   "source": [
    "import pandas as pd\n",
    "import yfinance as yf\n",
    "from datetime import date"
   ]
  },
  {
   "cell_type": "code",
   "execution_count": 2,
   "metadata": {},
   "outputs": [],
   "source": [
    "symbol = 'MAGS'\n",
    "\n",
    "start_date = '2021-1-1'\n",
    "sma_days = 200\n",
    "\n",
    "\n",
    "tickerData = yf.Ticker(symbol)\n",
    "history = tickerData.history(interval='1d', start=start_date, end=date.today())\n",
    "history['SMA'] = history['Close'].rolling(window=sma_days).mean()\n",
    "history['SMA_dist'] = history.Close / history.SMA - 1\n",
    "\n",
    "# display(history)"
   ]
  },
  {
   "cell_type": "code",
   "execution_count": 3,
   "metadata": {},
   "outputs": [
    {
     "name": "stdout",
     "output_type": "stream",
     "text": [
      "MAGS\n",
      "Start:   2023-04-11\n",
      "Price:   $56.22 (P69%)\n",
      "SMA 200d: $46.44\n",
      "P   50%: $55.39 (SMA200+19.3%)\n",
      "P   25%: $53.76 (SMA200+15.8%)\n",
      "P   10%: $52.41 (SMA200+12.9%)\n",
      "P    5%: $51.78 (SMA200+11.5%)\n"
     ]
    }
   ],
   "source": [
    "last_sma = history.SMA.iloc[-1]\n",
    "price = (tickerData.info['bid'] + tickerData.info['ask']) / 2\n",
    "\n",
    "sma_dist = history.SMA_dist.dropna()\n",
    "sma_range = (sma_dist <= price/last_sma-1).mean()\n",
    "\n",
    "print(symbol)\n",
    "print(f'Start:   {history.index[0].date()}')\n",
    "print(f'Price:   ${price:.2f} (P{sma_range:.0%})')\n",
    "print(f'SMA {sma_days}d: ${last_sma:.2f}')\n",
    "\n",
    "for q in [0.5, 0.25, 0.1, 0.05]:\n",
    "  dist = history.SMA_dist.quantile(q)\n",
    "  price = last_sma * (1 + dist)\n",
    "  print(f'P   {q:3.0%}: ${price:5.2f} (SMA{sma_days}{dist:+.1%})')\n"
   ]
  }
 ],
 "metadata": {
  "kernelspec": {
   "display_name": ".venv",
   "language": "python",
   "name": "python3"
  },
  "language_info": {
   "codemirror_mode": {
    "name": "ipython",
    "version": 3
   },
   "file_extension": ".py",
   "mimetype": "text/x-python",
   "name": "python",
   "nbconvert_exporter": "python",
   "pygments_lexer": "ipython3",
   "version": "3.12.3"
  }
 },
 "nbformat": 4,
 "nbformat_minor": 2
}

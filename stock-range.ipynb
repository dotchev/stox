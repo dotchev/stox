{
 "cells": [
  {
   "cell_type": "code",
   "execution_count": 19,
   "metadata": {},
   "outputs": [],
   "source": [
    "import pandas as pd\n",
    "import yfinance as yf\n",
    "from datetime import date"
   ]
  },
  {
   "cell_type": "code",
   "execution_count": 20,
   "metadata": {},
   "outputs": [
    {
     "name": "stderr",
     "output_type": "stream",
     "text": [
      "$USD: possibly delisted; no price data found  (1d 2023-1-1 -> 2025-02-22)\n"
     ]
    },
    {
     "name": "stdout",
     "output_type": "stream",
     "text": [
      "Loading USD history from file\n"
     ]
    }
   ],
   "source": [
    "symbol = 'USD'\n",
    "calendar_days = 174\n",
    "\n",
    "start_date = '2023-1-1'\n",
    "trading_days = round(calendar_days * 252 / 365)\n",
    "sma_days = trading_days\n",
    "tickerData = yf.Ticker(symbol)\n",
    "history = tickerData.history(interval='1d', start=start_date, end=date.today())\n",
    "if symbol == 'USD':\n",
    "  print('Loading USD history from file')\n",
    "  history = pd.read_csv('data/USD-daily.csv').set_index('Date')\n",
    "history['SMA'] = history['Close'].rolling(window=sma_days).mean()\n",
    "history['SMA_dist'] = history.Close / history.SMA - 1"
   ]
  },
  {
   "cell_type": "code",
   "execution_count": 22,
   "metadata": {},
   "outputs": [
    {
     "name": "stdout",
     "output_type": "stream",
     "text": [
      "USD\n",
      "Start:    1/3/2023 16:00:00\n",
      "Price:    $62.81 (P14%)\n",
      "SMA 120d: $63.76\n",
      "P    50%: $73.63 (SMA120+15.5%)\n",
      "P    30%: $67.87 (SMA120+6.4%)\n",
      "P    25%: $66.56 (SMA120+4.4%)\n",
      "P    10%: $61.34 (SMA120-3.8%)\n",
      "P     5%: $56.93 (SMA120-10.7%)\n"
     ]
    }
   ],
   "source": [
    "last_sma = history.SMA.iloc[-1]\n",
    "last_close = history.Close.iloc[-1]\n",
    "\n",
    "sma_dist = history.SMA_dist.dropna()\n",
    "sma_range = (sma_dist <= sma_dist.iloc[-1]).mean()\n",
    "\n",
    "print(symbol)\n",
    "print(f'Start:    {history.index[0]}')\n",
    "print(f'Price:    ${last_close:.2f} (P{sma_range:.0%})')\n",
    "print(f'SMA {sma_days:3d}d: ${last_sma:.2f}')\n",
    "\n",
    "for q in [0.5, 0.3, 0.25, 0.1, 0.05]:\n",
    "  dist = sma_dist.quantile(q)\n",
    "  price = last_sma * (1 + dist)\n",
    "  print(f'P   {q:4.0%}: ${price:5.2f} (SMA{sma_days}{dist:+.1%})')\n"
   ]
  }
 ],
 "metadata": {
  "kernelspec": {
   "display_name": ".venv",
   "language": "python",
   "name": "python3"
  },
  "language_info": {
   "codemirror_mode": {
    "name": "ipython",
    "version": 3
   },
   "file_extension": ".py",
   "mimetype": "text/x-python",
   "name": "python",
   "nbconvert_exporter": "python",
   "pygments_lexer": "ipython3",
   "version": "3.12.3"
  }
 },
 "nbformat": 4,
 "nbformat_minor": 2
}

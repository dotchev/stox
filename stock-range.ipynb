{
 "cells": [
  {
   "cell_type": "code",
   "execution_count": 11,
   "metadata": {},
   "outputs": [],
   "source": [
    "import pandas as pd\n",
    "from datetime import date\n",
    "from yfetch import get_stock_history"
   ]
  },
  {
   "cell_type": "code",
   "execution_count": 12,
   "metadata": {},
   "outputs": [
    {
     "name": "stdout",
     "output_type": "stream",
     "text": [
      "Fetched history for NVDA (1256 rows)\n"
     ]
    }
   ],
   "source": [
    "symbol = 'NVDA'\n",
    "calendar_days = 91\n",
    "trading_days = 200 #round(calendar_days * 252 / 365)\n",
    "\n",
    "sma_days = trading_days\n",
    "history = get_stock_history(symbol)\n",
    "history['SMA'] = history['Close'].rolling(window=sma_days).mean()\n",
    "history['SMA_dist'] = history.Close / history.SMA - 1"
   ]
  },
  {
   "cell_type": "code",
   "execution_count": 13,
   "metadata": {},
   "outputs": [
    {
     "name": "stdout",
     "output_type": "stream",
     "text": [
      "NVDA\n",
      "Start:    2020-06-29 00:00:00-04:00\n",
      "Price:    $157.75 (P43%)\n",
      "SMA 200d: $129.18\n",
      "P    90%: $219.42 (SMA200+69.8%)\n",
      "P    80%: $198.64 (SMA200+53.8%)\n",
      "P    75%: $191.76 (SMA200+48.4%)\n",
      "P    70%: $183.86 (SMA200+42.3%)\n",
      "P    60%: $174.03 (SMA200+34.7%)\n",
      "P    50%: $165.45 (SMA200+28.1%)\n",
      "P    40%: $153.91 (SMA200+19.1%)\n",
      "P    30%: $139.61 (SMA200+8.1%)\n",
      "P    25%: $131.30 (SMA200+1.6%)\n",
      "P    20%: $118.56 (SMA200-8.2%)\n",
      "P    10%: $ 98.88 (SMA200-23.5%)\n",
      "P     5%: $ 86.85 (SMA200-32.8%)\n"
     ]
    }
   ],
   "source": [
    "last_sma = history.SMA.iloc[-1]\n",
    "last_close = history.Close.iloc[-1]\n",
    "\n",
    "sma_dist = history.SMA_dist.dropna()\n",
    "sma_range = (sma_dist <= sma_dist.iloc[-1]).mean()\n",
    "\n",
    "print(symbol)\n",
    "print(f'Start:    {history.index[0]}')\n",
    "print(f'Price:    ${last_close:.2f} (P{sma_range:.0%})')\n",
    "print(f'SMA {sma_days:3d}d: ${last_sma:.2f}')\n",
    "\n",
    "for q in [0.90, 0.80, 0.75, 0.70, 0.60, 0.50, 0.40, 0.30, 0.25, 0.20, 0.10, 0.05]:\n",
    "  dist = sma_dist.quantile(q)\n",
    "  price = last_sma * (1 + dist)\n",
    "  print(f'P   {q:4.0%}: ${price:6.2f} (SMA{sma_days}{dist:+.1%})')"
   ]
  },
  {
   "cell_type": "code",
   "execution_count": 14,
   "metadata": {},
   "outputs": [
    {
     "name": "stdout",
     "output_type": "stream",
     "text": [
      "NVDA @ $200.00 => T200=81%\n"
     ]
    }
   ],
   "source": [
    "price = 200\n",
    "d = price / last_sma - 1\n",
    "t = (sma_dist <= d).mean()\n",
    "print(f'{symbol} @ ${price:.2f} => T{trading_days}={t:.0%}')"
   ]
  }
 ],
 "metadata": {
  "kernelspec": {
   "display_name": ".venv",
   "language": "python",
   "name": "python3"
  },
  "language_info": {
   "codemirror_mode": {
    "name": "ipython",
    "version": 3
   },
   "file_extension": ".py",
   "mimetype": "text/x-python",
   "name": "python",
   "nbconvert_exporter": "python",
   "pygments_lexer": "ipython3",
   "version": "3.12.3"
  }
 },
 "nbformat": 4,
 "nbformat_minor": 2
}

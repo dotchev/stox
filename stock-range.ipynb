{
 "cells": [
  {
   "cell_type": "code",
   "execution_count": 1,
   "metadata": {},
   "outputs": [],
   "source": [
    "import pandas as pd\n",
    "import yfinance as yf\n",
    "from datetime import date"
   ]
  },
  {
   "cell_type": "code",
   "execution_count": 2,
   "metadata": {},
   "outputs": [],
   "source": [
    "symbol = 'SNOW'\n",
    "calendar_days = 191\n",
    "\n",
    "start_date = '2023-1-1'\n",
    "trading_days = round(calendar_days * 252 / 365)\n",
    "sma_days = trading_days\n",
    "tickerData = yf.Ticker(symbol)\n",
    "history = tickerData.history(interval='1d', start=start_date, end=date.today())\n",
    "history['SMA'] = history['Close'].rolling(window=sma_days).mean()\n",
    "history['SMA_dist'] = history.Close / history.SMA - 1"
   ]
  },
  {
   "cell_type": "code",
   "execution_count": 5,
   "metadata": {},
   "outputs": [
    {
     "name": "stdout",
     "output_type": "stream",
     "text": [
      "SNOW\n",
      "Start:   2023-01-03\n",
      "Price:   $182.88 (P96%)\n",
      "SMA 132d: $136.35\n",
      "P    50%: $127.66 (SMA132-6.4%)\n",
      "P    25%: $116.02 (SMA132-14.9%)\n",
      "P    10%: $106.59 (SMA132-21.8%)\n",
      "P     5%: $102.95 (SMA132-24.5%)\n"
     ]
    }
   ],
   "source": [
    "last_sma = history.SMA.iloc[-1]\n",
    "last_price = history.Close.iloc[-1]\n",
    "\n",
    "sma_dist = history.SMA_dist.dropna()\n",
    "sma_range = (sma_dist <= sma_dist.iloc[-1]).mean()\n",
    "\n",
    "print(symbol)\n",
    "print(f'Start:   {history.index[0].date()}')\n",
    "print(f'Price:   ${last_price:.2f} (P{sma_range:.0%})')\n",
    "print(f'SMA {sma_days:3d}d: ${last_sma:.2f}')\n",
    "\n",
    "for q in [0.5, 0.25, 0.1, 0.05]:\n",
    "  dist = sma_dist.quantile(q)\n",
    "  price = last_sma * (1 + dist)\n",
    "  print(f'P   {q:4.0%}: ${price:5.2f} (SMA{sma_days}{dist:+.1%})')\n"
   ]
  }
 ],
 "metadata": {
  "kernelspec": {
   "display_name": ".venv",
   "language": "python",
   "name": "python3"
  },
  "language_info": {
   "codemirror_mode": {
    "name": "ipython",
    "version": 3
   },
   "file_extension": ".py",
   "mimetype": "text/x-python",
   "name": "python",
   "nbconvert_exporter": "python",
   "pygments_lexer": "ipython3",
   "version": "3.12.3"
  }
 },
 "nbformat": 4,
 "nbformat_minor": 2
}

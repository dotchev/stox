{
 "cells": [
  {
   "cell_type": "code",
   "execution_count": 3,
   "metadata": {},
   "outputs": [],
   "source": [
    "import pandas as pd\n",
    "import yfinance as yf\n",
    "import matplotlib.pyplot as plt\n",
    "from statistics import mean\n",
    "from datetime import date"
   ]
  },
  {
   "cell_type": "code",
   "execution_count": 4,
   "metadata": {},
   "outputs": [
    {
     "data": {
      "application/vnd.microsoft.datawrangler.viewer.v0+json": {
       "columns": [
        {
         "name": "index",
         "rawType": "int64",
         "type": "integer"
        },
        {
         "name": "symbol",
         "rawType": "object",
         "type": "string"
        },
        {
         "name": "weeks",
         "rawType": "int64",
         "type": "integer"
        },
        {
         "name": "change",
         "rawType": "float64",
         "type": "float"
        },
        {
         "name": "std",
         "rawType": "float64",
         "type": "float"
        },
        {
         "name": "score",
         "rawType": "float64",
         "type": "float"
        }
       ],
       "conversionMethod": "pd.DataFrame",
       "ref": "4c3d8929-10f8-40ea-92bb-494b86ff0348",
       "rows": [
        [
         "10",
         "FNGS",
         "20",
         "0.05341623284833116",
         "0.07915709686110406",
         "0.6748129348662185"
        ],
        [
         "9",
         "FNGU",
         "20",
         "0.11943484862018758",
         "0.22841410480303243",
         "0.5228873616328529"
        ],
        [
         "1",
         "QQQ",
         "20",
         "0.016847059391261247",
         "0.03748143752235153",
         "0.449477408149427"
        ],
        [
         "2",
         "TOPT",
         "20",
         "0.01841677502244339",
         "0.04323837192517514",
         "0.4259359037457281"
        ],
        [
         "4",
         "IGM",
         "20",
         "0.01989620509060308",
         "0.04734997327159419",
         "0.42019464248650484"
        ],
        [
         "3",
         "QTOP",
         "20",
         "0.019219841041803822",
         "0.046825822156908774",
         "0.41045389395193116"
        ],
        [
         "11",
         "MAGS",
         "20",
         "0.037431083608571364",
         "0.09327565768513917",
         "0.40129530616576875"
        ],
        [
         "0",
         "SPY",
         "20",
         "0.008090700712950554",
         "0.02234890723200418",
         "0.36201773218533356"
        ],
        [
         "12",
         "MAGX",
         "20",
         "0.05734182421863472",
         "0.18716983001429707",
         "0.3063625383121555"
        ],
        [
         "13",
         "MAG7.L",
         "20",
         "0.0719779221025029",
         "0.4738742096673643",
         "0.1518924656250606"
        ],
        [
         "8",
         "TQQQ",
         "20",
         "0.015987373878455672",
         "0.11178911902572966",
         "0.14301368521184946"
        ],
        [
         "5",
         "XLKS.MI",
         "20",
         "0.007163586972728675",
         "0.06925082613825602",
         "0.10344406517875918"
        ],
        [
         "6",
         "SMH",
         "20",
         "0.001333448846932448",
         "0.056342719457087985",
         "0.023666746294488606"
        ],
        [
         "7",
         "USD",
         "20",
         "-0.05716152203621749",
         "0.14636957275872417",
         "-0.390528720955158"
        ]
       ],
       "shape": {
        "columns": 5,
        "rows": 14
       }
      },
      "text/html": [
       "<div>\n",
       "<style scoped>\n",
       "    .dataframe tbody tr th:only-of-type {\n",
       "        vertical-align: middle;\n",
       "    }\n",
       "\n",
       "    .dataframe tbody tr th {\n",
       "        vertical-align: top;\n",
       "    }\n",
       "\n",
       "    .dataframe thead th {\n",
       "        text-align: right;\n",
       "    }\n",
       "</style>\n",
       "<table border=\"1\" class=\"dataframe\">\n",
       "  <thead>\n",
       "    <tr style=\"text-align: right;\">\n",
       "      <th></th>\n",
       "      <th>symbol</th>\n",
       "      <th>weeks</th>\n",
       "      <th>change</th>\n",
       "      <th>std</th>\n",
       "      <th>score</th>\n",
       "    </tr>\n",
       "  </thead>\n",
       "  <tbody>\n",
       "    <tr>\n",
       "      <th>10</th>\n",
       "      <td>FNGS</td>\n",
       "      <td>20</td>\n",
       "      <td>0.053416</td>\n",
       "      <td>0.079157</td>\n",
       "      <td>0.674813</td>\n",
       "    </tr>\n",
       "    <tr>\n",
       "      <th>9</th>\n",
       "      <td>FNGU</td>\n",
       "      <td>20</td>\n",
       "      <td>0.119435</td>\n",
       "      <td>0.228414</td>\n",
       "      <td>0.522887</td>\n",
       "    </tr>\n",
       "    <tr>\n",
       "      <th>1</th>\n",
       "      <td>QQQ</td>\n",
       "      <td>20</td>\n",
       "      <td>0.016847</td>\n",
       "      <td>0.037481</td>\n",
       "      <td>0.449477</td>\n",
       "    </tr>\n",
       "    <tr>\n",
       "      <th>2</th>\n",
       "      <td>TOPT</td>\n",
       "      <td>20</td>\n",
       "      <td>0.018417</td>\n",
       "      <td>0.043238</td>\n",
       "      <td>0.425936</td>\n",
       "    </tr>\n",
       "    <tr>\n",
       "      <th>4</th>\n",
       "      <td>IGM</td>\n",
       "      <td>20</td>\n",
       "      <td>0.019896</td>\n",
       "      <td>0.047350</td>\n",
       "      <td>0.420195</td>\n",
       "    </tr>\n",
       "    <tr>\n",
       "      <th>3</th>\n",
       "      <td>QTOP</td>\n",
       "      <td>20</td>\n",
       "      <td>0.019220</td>\n",
       "      <td>0.046826</td>\n",
       "      <td>0.410454</td>\n",
       "    </tr>\n",
       "    <tr>\n",
       "      <th>11</th>\n",
       "      <td>MAGS</td>\n",
       "      <td>20</td>\n",
       "      <td>0.037431</td>\n",
       "      <td>0.093276</td>\n",
       "      <td>0.401295</td>\n",
       "    </tr>\n",
       "    <tr>\n",
       "      <th>0</th>\n",
       "      <td>SPY</td>\n",
       "      <td>20</td>\n",
       "      <td>0.008091</td>\n",
       "      <td>0.022349</td>\n",
       "      <td>0.362018</td>\n",
       "    </tr>\n",
       "    <tr>\n",
       "      <th>12</th>\n",
       "      <td>MAGX</td>\n",
       "      <td>20</td>\n",
       "      <td>0.057342</td>\n",
       "      <td>0.187170</td>\n",
       "      <td>0.306363</td>\n",
       "    </tr>\n",
       "    <tr>\n",
       "      <th>13</th>\n",
       "      <td>MAG7.L</td>\n",
       "      <td>20</td>\n",
       "      <td>0.071978</td>\n",
       "      <td>0.473874</td>\n",
       "      <td>0.151892</td>\n",
       "    </tr>\n",
       "    <tr>\n",
       "      <th>8</th>\n",
       "      <td>TQQQ</td>\n",
       "      <td>20</td>\n",
       "      <td>0.015987</td>\n",
       "      <td>0.111789</td>\n",
       "      <td>0.143014</td>\n",
       "    </tr>\n",
       "    <tr>\n",
       "      <th>5</th>\n",
       "      <td>XLKS.MI</td>\n",
       "      <td>20</td>\n",
       "      <td>0.007164</td>\n",
       "      <td>0.069251</td>\n",
       "      <td>0.103444</td>\n",
       "    </tr>\n",
       "    <tr>\n",
       "      <th>6</th>\n",
       "      <td>SMH</td>\n",
       "      <td>20</td>\n",
       "      <td>0.001333</td>\n",
       "      <td>0.056343</td>\n",
       "      <td>0.023667</td>\n",
       "    </tr>\n",
       "    <tr>\n",
       "      <th>7</th>\n",
       "      <td>USD</td>\n",
       "      <td>20</td>\n",
       "      <td>-0.057162</td>\n",
       "      <td>0.146370</td>\n",
       "      <td>-0.390529</td>\n",
       "    </tr>\n",
       "  </tbody>\n",
       "</table>\n",
       "</div>"
      ],
      "text/plain": [
       "     symbol  weeks    change       std     score\n",
       "10     FNGS     20  0.053416  0.079157  0.674813\n",
       "9      FNGU     20  0.119435  0.228414  0.522887\n",
       "1       QQQ     20  0.016847  0.037481  0.449477\n",
       "2      TOPT     20  0.018417  0.043238  0.425936\n",
       "4       IGM     20  0.019896  0.047350  0.420195\n",
       "3      QTOP     20  0.019220  0.046826  0.410454\n",
       "11     MAGS     20  0.037431  0.093276  0.401295\n",
       "0       SPY     20  0.008091  0.022349  0.362018\n",
       "12     MAGX     20  0.057342  0.187170  0.306363\n",
       "13   MAG7.L     20  0.071978  0.473874  0.151892\n",
       "8      TQQQ     20  0.015987  0.111789  0.143014\n",
       "5   XLKS.MI     20  0.007164  0.069251  0.103444\n",
       "6       SMH     20  0.001333  0.056343  0.023667\n",
       "7       USD     20 -0.057162  0.146370 -0.390529"
      ]
     },
     "metadata": {},
     "output_type": "display_data"
    }
   ],
   "source": [
    "# start_date = '2020-01-01'\n",
    "# start_date = '2021-01-01' # start of previous cycle\n",
    "# start_date = '2022-01-01' # start of downtrend\n",
    "# start_date = '2023-01-01' # start of uptrend\n",
    "# start_date = '2023-04-10' # start of MAGS history\n",
    "# start_date = '2024-02-28' # start of MAGX history\n",
    "start_date = '2024-10-23' # start of TOPT & QTOP history\n",
    "\n",
    "weeks = 9\n",
    "end_date = date.today()\n",
    "max_days = (end_date - date.fromisoformat(start_date)).days\n",
    "min_history = max_days*0.8/7\n",
    "rows = []\n",
    "for symbol in [\n",
    "    'SPY','QQQ','TOPT','QTOP',\n",
    "    'IGM','XLKS.MI','SMH','USD','TQQQ','FNGU','FNGS','MAGS',\n",
    "    'MAGX','MAG7.L'\n",
    "]:\n",
    "    tickerData = yf.Ticker(symbol)\n",
    "    history = tickerData.history(interval='1wk', start=start_date, end=date.today()) # prices are adjusted for splits\n",
    "    changes = history.Close.pct_change(periods=weeks) if len(history) > min_history else pd.Series([])\n",
    "    rows.append({\n",
    "        'symbol': symbol,\n",
    "        'weeks': len(history),\n",
    "        'change': changes.mean(),\n",
    "        'std': changes.std(),\n",
    "        'score': changes.mean() / changes.std(),\n",
    "    })\n",
    "\n",
    "df = pd.DataFrame(rows).sort_values(by='score', ascending=False)\n",
    "display(df)\n",
    "df.to_csv('data/stocks-9w.csv', index=False)\n"
   ]
  }
 ],
 "metadata": {
  "kernelspec": {
   "display_name": ".venv (3.12.3)",
   "language": "python",
   "name": "python3"
  },
  "language_info": {
   "codemirror_mode": {
    "name": "ipython",
    "version": 3
   },
   "file_extension": ".py",
   "mimetype": "text/x-python",
   "name": "python",
   "nbconvert_exporter": "python",
   "pygments_lexer": "ipython3",
   "version": "3.12.3"
  }
 },
 "nbformat": 4,
 "nbformat_minor": 2
}

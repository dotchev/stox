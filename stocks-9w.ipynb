{
 "cells": [
  {
   "cell_type": "code",
   "execution_count": 9,
   "metadata": {},
   "outputs": [],
   "source": [
    "import pandas as pd\n",
    "import yfinance as yf\n",
    "import matplotlib.pyplot as plt\n",
    "from statistics import mean\n",
    "from datetime import date"
   ]
  },
  {
   "cell_type": "code",
   "execution_count": null,
   "metadata": {},
   "outputs": [
    {
     "name": "stderr",
     "output_type": "stream",
     "text": [
      "$USD: possibly delisted; no price data found  (1wk 2023-01-01 -> 2025-02-23)\n"
     ]
    },
    {
     "name": "stdout",
     "output_type": "stream",
     "text": [
      "Loading USD history from file\n"
     ]
    },
    {
     "data": {
      "application/vnd.microsoft.datawrangler.viewer.v0+json": {
       "columns": [
        {
         "name": "index",
         "rawType": "int64",
         "type": "integer"
        },
        {
         "name": "symbol",
         "rawType": "object",
         "type": "string"
        },
        {
         "name": "weeks",
         "rawType": "int64",
         "type": "integer"
        },
        {
         "name": "change",
         "rawType": "float64",
         "type": "float"
        },
        {
         "name": "std",
         "rawType": "float64",
         "type": "float"
        },
        {
         "name": "score",
         "rawType": "float64",
         "type": "float"
        }
       ],
       "conversionMethod": "pd.DataFrame",
       "ref": "00eb6891-07c7-4118-bde9-8796eb6fa77c",
       "rows": [
        [
         "9",
         "MAGS",
         "98",
         "0.07863138729129351",
         "0.07507810012279101",
         "1.0473278780721818"
        ],
        [
         "8",
         "FNGS",
         "112",
         "0.09013255229258976",
         "0.087976448274868",
         "1.024507741105726"
        ],
        [
         "2",
         "IGM",
         "112",
         "0.06668401361599804",
         "0.06684686628578163",
         "0.9975637950014387"
        ],
        [
         "3",
         "XLKS.MI",
         "112",
         "0.07086599117277527",
         "0.07308387230640395",
         "0.9696529334908498"
        ],
        [
         "1",
         "QQQ",
         "112",
         "0.0550848157761858",
         "0.05729733790503181",
         "0.9613852543635939"
        ],
        [
         "0",
         "SPY",
         "112",
         "0.03876578588382492",
         "0.041726498209712144",
         "0.9290447928075092"
        ],
        [
         "12",
         "NVDA",
         "112",
         "0.20247549173398585",
         "0.2241834055597198",
         "0.903168953243726"
        ],
        [
         "7",
         "FNGU",
         "112",
         "0.25143558131710214",
         "0.3016933340374094",
         "0.8334144409233935"
        ],
        [
         "6",
         "TQQQ",
         "112",
         "0.1415862303617141",
         "0.18741091146594643",
         "0.7554855224501754"
        ],
        [
         "5",
         "USD",
         "112",
         "0.20287162947599102",
         "0.2906418784490456",
         "0.6980123805921445"
        ],
        [
         "4",
         "SMH",
         "112",
         "0.07483682297405823",
         "0.11078905113813625",
         "0.6754893394722613"
        ],
        [
         "10",
         "MAGX",
         "52",
         null,
         null,
         null
        ],
        [
         "11",
         "MAG7.L",
         "46",
         null,
         null,
         null
        ]
       ],
       "shape": {
        "columns": 5,
        "rows": 13
       }
      },
      "text/html": [
       "<div>\n",
       "<style scoped>\n",
       "    .dataframe tbody tr th:only-of-type {\n",
       "        vertical-align: middle;\n",
       "    }\n",
       "\n",
       "    .dataframe tbody tr th {\n",
       "        vertical-align: top;\n",
       "    }\n",
       "\n",
       "    .dataframe thead th {\n",
       "        text-align: right;\n",
       "    }\n",
       "</style>\n",
       "<table border=\"1\" class=\"dataframe\">\n",
       "  <thead>\n",
       "    <tr style=\"text-align: right;\">\n",
       "      <th></th>\n",
       "      <th>symbol</th>\n",
       "      <th>weeks</th>\n",
       "      <th>change</th>\n",
       "      <th>std</th>\n",
       "      <th>score</th>\n",
       "    </tr>\n",
       "  </thead>\n",
       "  <tbody>\n",
       "    <tr>\n",
       "      <th>9</th>\n",
       "      <td>MAGS</td>\n",
       "      <td>98</td>\n",
       "      <td>0.078631</td>\n",
       "      <td>0.075078</td>\n",
       "      <td>1.047328</td>\n",
       "    </tr>\n",
       "    <tr>\n",
       "      <th>8</th>\n",
       "      <td>FNGS</td>\n",
       "      <td>112</td>\n",
       "      <td>0.090133</td>\n",
       "      <td>0.087976</td>\n",
       "      <td>1.024508</td>\n",
       "    </tr>\n",
       "    <tr>\n",
       "      <th>2</th>\n",
       "      <td>IGM</td>\n",
       "      <td>112</td>\n",
       "      <td>0.066684</td>\n",
       "      <td>0.066847</td>\n",
       "      <td>0.997564</td>\n",
       "    </tr>\n",
       "    <tr>\n",
       "      <th>3</th>\n",
       "      <td>XLKS.MI</td>\n",
       "      <td>112</td>\n",
       "      <td>0.070866</td>\n",
       "      <td>0.073084</td>\n",
       "      <td>0.969653</td>\n",
       "    </tr>\n",
       "    <tr>\n",
       "      <th>1</th>\n",
       "      <td>QQQ</td>\n",
       "      <td>112</td>\n",
       "      <td>0.055085</td>\n",
       "      <td>0.057297</td>\n",
       "      <td>0.961385</td>\n",
       "    </tr>\n",
       "    <tr>\n",
       "      <th>0</th>\n",
       "      <td>SPY</td>\n",
       "      <td>112</td>\n",
       "      <td>0.038766</td>\n",
       "      <td>0.041726</td>\n",
       "      <td>0.929045</td>\n",
       "    </tr>\n",
       "    <tr>\n",
       "      <th>12</th>\n",
       "      <td>NVDA</td>\n",
       "      <td>112</td>\n",
       "      <td>0.202475</td>\n",
       "      <td>0.224183</td>\n",
       "      <td>0.903169</td>\n",
       "    </tr>\n",
       "    <tr>\n",
       "      <th>7</th>\n",
       "      <td>FNGU</td>\n",
       "      <td>112</td>\n",
       "      <td>0.251436</td>\n",
       "      <td>0.301693</td>\n",
       "      <td>0.833414</td>\n",
       "    </tr>\n",
       "    <tr>\n",
       "      <th>6</th>\n",
       "      <td>TQQQ</td>\n",
       "      <td>112</td>\n",
       "      <td>0.141586</td>\n",
       "      <td>0.187411</td>\n",
       "      <td>0.755486</td>\n",
       "    </tr>\n",
       "    <tr>\n",
       "      <th>5</th>\n",
       "      <td>USD</td>\n",
       "      <td>112</td>\n",
       "      <td>0.202872</td>\n",
       "      <td>0.290642</td>\n",
       "      <td>0.698012</td>\n",
       "    </tr>\n",
       "    <tr>\n",
       "      <th>4</th>\n",
       "      <td>SMH</td>\n",
       "      <td>112</td>\n",
       "      <td>0.074837</td>\n",
       "      <td>0.110789</td>\n",
       "      <td>0.675489</td>\n",
       "    </tr>\n",
       "    <tr>\n",
       "      <th>10</th>\n",
       "      <td>MAGX</td>\n",
       "      <td>52</td>\n",
       "      <td>NaN</td>\n",
       "      <td>NaN</td>\n",
       "      <td>NaN</td>\n",
       "    </tr>\n",
       "    <tr>\n",
       "      <th>11</th>\n",
       "      <td>MAG7.L</td>\n",
       "      <td>46</td>\n",
       "      <td>NaN</td>\n",
       "      <td>NaN</td>\n",
       "      <td>NaN</td>\n",
       "    </tr>\n",
       "  </tbody>\n",
       "</table>\n",
       "</div>"
      ],
      "text/plain": [
       "     symbol  weeks    change       std     score\n",
       "9      MAGS     98  0.078631  0.075078  1.047328\n",
       "8      FNGS    112  0.090133  0.087976  1.024508\n",
       "2       IGM    112  0.066684  0.066847  0.997564\n",
       "3   XLKS.MI    112  0.070866  0.073084  0.969653\n",
       "1       QQQ    112  0.055085  0.057297  0.961385\n",
       "0       SPY    112  0.038766  0.041726  0.929045\n",
       "12     NVDA    112  0.202475  0.224183  0.903169\n",
       "7      FNGU    112  0.251436  0.301693  0.833414\n",
       "6      TQQQ    112  0.141586  0.187411  0.755486\n",
       "5       USD    112  0.202872  0.290642  0.698012\n",
       "4       SMH    112  0.074837  0.110789  0.675489\n",
       "10     MAGX     52       NaN       NaN       NaN\n",
       "11   MAG7.L     46       NaN       NaN       NaN"
      ]
     },
     "metadata": {},
     "output_type": "display_data"
    }
   ],
   "source": [
    "# start_date = '2020-01-01'\n",
    "# start_date = '2021-01-01' # start of previous cycle\n",
    "# start_date = '2022-01-01' # start of downtrend\n",
    "start_date = '2023-01-01' # start of uptrend\n",
    "# start_date = '2023-04-10' # start of MAGS history\n",
    "# start_date = '2024-02-28' # start of MAGX history\n",
    "\n",
    "weeks = 9\n",
    "end_date = date.today()\n",
    "max_days = (end_date - date.fromisoformat(start_date)).days\n",
    "min_history = max_days*0.8/7\n",
    "rows = []\n",
    "for symbol in [\n",
    "    'SPY','QQQ','IGM','XLKS.MI','SMH','USD','TQQQ','FNGU','FNGS','MAGS',\n",
    "    'MAGX','MAG7.L'\n",
    "]:\n",
    "    tickerData = yf.Ticker(symbol)\n",
    "    history = tickerData.history(interval='1wk', start=start_date, end=date.today()) # prices are adjusted for splits\n",
    "    if symbol == 'USD':\n",
    "        print('Loading USD history from file')\n",
    "        history = pd.read_csv('data/USD-weekly.csv').set_index('Date')\n",
    "    changes = history.Close.pct_change(periods=weeks) if len(history) > min_history else pd.Series([])\n",
    "    rows.append({\n",
    "        'symbol': symbol,\n",
    "        'weeks': len(history),\n",
    "        'change': changes.mean(),\n",
    "        'std': changes.std(),\n",
    "        'score': changes.mean() / changes.std(),\n",
    "    })\n",
    "\n",
    "df = pd.DataFrame(rows).sort_values(by='score', ascending=False)\n",
    "display(df)\n",
    "df.to_csv('data/stocks-9w.csv', index=False)\n"
   ]
  }
 ],
 "metadata": {
  "kernelspec": {
   "display_name": ".venv",
   "language": "python",
   "name": "python3"
  },
  "language_info": {
   "codemirror_mode": {
    "name": "ipython",
    "version": 3
   },
   "file_extension": ".py",
   "mimetype": "text/x-python",
   "name": "python",
   "nbconvert_exporter": "python",
   "pygments_lexer": "ipython3",
   "version": "3.12.3"
  }
 },
 "nbformat": 4,
 "nbformat_minor": 2
}

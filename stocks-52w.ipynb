{
 "cells": [
  {
   "cell_type": "code",
   "execution_count": 15,
   "metadata": {},
   "outputs": [],
   "source": [
    "import pandas as pd\n",
    "import yfinance as yf\n",
    "import matplotlib.pyplot as plt\n",
    "from statistics import mean\n",
    "from datetime import date"
   ]
  },
  {
   "cell_type": "code",
   "execution_count": 16,
   "metadata": {},
   "outputs": [
    {
     "data": {
      "text/html": [
       "<div>\n",
       "<style scoped>\n",
       "    .dataframe tbody tr th:only-of-type {\n",
       "        vertical-align: middle;\n",
       "    }\n",
       "\n",
       "    .dataframe tbody tr th {\n",
       "        vertical-align: top;\n",
       "    }\n",
       "\n",
       "    .dataframe thead th {\n",
       "        text-align: right;\n",
       "    }\n",
       "</style>\n",
       "<table border=\"1\" class=\"dataframe\">\n",
       "  <thead>\n",
       "    <tr style=\"text-align: right;\">\n",
       "      <th></th>\n",
       "      <th>symbol</th>\n",
       "      <th>weeks</th>\n",
       "      <th>change</th>\n",
       "      <th>std</th>\n",
       "      <th>score</th>\n",
       "    </tr>\n",
       "  </thead>\n",
       "  <tbody>\n",
       "    <tr>\n",
       "      <th>0</th>\n",
       "      <td>MSFT</td>\n",
       "      <td>98</td>\n",
       "      <td>0.391335</td>\n",
       "      <td>0.153815</td>\n",
       "      <td>2.544188</td>\n",
       "    </tr>\n",
       "    <tr>\n",
       "      <th>2</th>\n",
       "      <td>MSF3.L</td>\n",
       "      <td>98</td>\n",
       "      <td>1.101865</td>\n",
       "      <td>0.699211</td>\n",
       "      <td>1.575869</td>\n",
       "    </tr>\n",
       "    <tr>\n",
       "      <th>1</th>\n",
       "      <td>MSF2.L</td>\n",
       "      <td>98</td>\n",
       "      <td>0.009755</td>\n",
       "      <td>0.975577</td>\n",
       "      <td>0.009999</td>\n",
       "    </tr>\n",
       "  </tbody>\n",
       "</table>\n",
       "</div>"
      ],
      "text/plain": [
       "   symbol  weeks    change       std     score\n",
       "0    MSFT     98  0.391335  0.153815  2.544188\n",
       "2  MSF3.L     98  1.101865  0.699211  1.575869\n",
       "1  MSF2.L     98  0.009755  0.975577  0.009999"
      ]
     },
     "metadata": {},
     "output_type": "display_data"
    }
   ],
   "source": [
    "# start_date = '2021-1-1' # start of previous cycle\n",
    "# start_date = '2022-1-1' # start of downtrend\n",
    "start_date = '2023-1-1' # start of uptrend\n",
    "# start_date = '2023-4-10' # start of MAGS history\n",
    "# start_date = '2024-2-28' # start of MAGX history\n",
    "weeks = 52\n",
    "rows = []\n",
    "for symbol in [\n",
    "    'MSFT','MSF2.L','MSF3.L',\n",
    "    # 'SPY','QQQ','IGM','XLKS.MI','SMH','USD','TQQQ','FNGU','FNGS','MAGS','NVD3.L','QQQ5.L','SP5Y.L','SMH3.L',\n",
    "    # 'MAGX','MAG7.L'\n",
    "]:\n",
    "    tickerData = yf.Ticker(symbol)\n",
    "    history = tickerData.history(interval='1wk', start=start_date, end=date.today()) # prices are adjusted for splits\n",
    "    changes = history.Close.pct_change(periods=weeks)\n",
    "    rows.append({\n",
    "        'symbol': symbol,\n",
    "        'weeks': len(history),\n",
    "        'change': changes.mean(),\n",
    "        'std': changes.std(),\n",
    "        'score': changes.mean() / changes.std(),\n",
    "    })\n",
    "\n",
    "df = pd.DataFrame(rows).sort_values(by='score', ascending=False)\n",
    "display(df)\n",
    "df.to_csv('data/stocks-52w.csv', index=False)\n"
   ]
  }
 ],
 "metadata": {
  "kernelspec": {
   "display_name": ".venv",
   "language": "python",
   "name": "python3"
  },
  "language_info": {
   "codemirror_mode": {
    "name": "ipython",
    "version": 3
   },
   "file_extension": ".py",
   "mimetype": "text/x-python",
   "name": "python",
   "nbconvert_exporter": "python",
   "pygments_lexer": "ipython3",
   "version": "3.12.3"
  }
 },
 "nbformat": 4,
 "nbformat_minor": 2
}

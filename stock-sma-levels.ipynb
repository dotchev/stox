{
 "cells": [
  {
   "cell_type": "code",
   "execution_count": 1,
   "metadata": {},
   "outputs": [],
   "source": [
    "from itertools import groupby\n",
    "from datetime import date\n",
    "import pandas as pd\n",
    "from yfetch import get_stock_history\n",
    "from colors import *\n"
   ]
  },
  {
   "cell_type": "code",
   "execution_count": 2,
   "metadata": {},
   "outputs": [
    {
     "name": "stdout",
     "output_type": "stream",
     "text": [
      "NVDA history: 1256d\n",
      "Last close: 177.99\n"
     ]
    }
   ],
   "source": [
    "symbol = 'NVDA'\n",
    "\n",
    "history = get_stock_history(symbol, interval='1d')\n",
    "print(f'{symbol} history: {len(history)}d')\n",
    "\n",
    "last_close = history.Close.iloc[-1]\n",
    "print(f'Last close: {last_close:.2f}')"
   ]
  },
  {
   "cell_type": "code",
   "execution_count": 3,
   "metadata": {},
   "outputs": [
    {
     "name": "stdout",
     "output_type": "stream",
     "text": [
      " Cal   Tr\n",
      "days days    SMA\n",
      "\u001b[92m   7    5 177.20\u001b[0m\n",
      "\u001b[91m  14   10 179.53\u001b[0m\n",
      "\u001b[91m  21   15 179.76\u001b[0m\n",
      "\u001b[91m  28   20 178.98\u001b[0m\n",
      "\u001b[92m  35   25 177.44\u001b[0m\n",
      "\u001b[92m  42   30 176.25\u001b[0m\n",
      "\u001b[92m  49   35 174.22\u001b[0m\n",
      "\u001b[92m  56   40 172.08\u001b[0m\n",
      "\u001b[92m  63   45 169.52\u001b[0m\n",
      "\u001b[92m  70   50 167.00\u001b[0m\n",
      "\u001b[92m  77   55 164.74\u001b[0m\n",
      "\u001b[92m  84   60 162.60\u001b[0m\n",
      "\u001b[92m  91   65 160.34\u001b[0m\n",
      "\u001b[92m  98   70 158.53\u001b[0m\n",
      "\u001b[92m 105   75 156.02\u001b[0m\n",
      "\u001b[92m 112   80 153.30\u001b[0m\n",
      "\u001b[92m 119   85 150.61\u001b[0m\n",
      "\u001b[92m 126   90 147.95\u001b[0m\n",
      "\u001b[92m 133   95 145.85\u001b[0m\n",
      "\u001b[92m 140  100 143.70\u001b[0m\n",
      "\u001b[92m 147  105 142.22\u001b[0m\n",
      "\u001b[92m 154  110 141.13\u001b[0m\n",
      "\u001b[92m 161  115 140.05\u001b[0m\n",
      "\u001b[92m 168  120 138.91\u001b[0m\n",
      "\u001b[92m 175  125 138.29\u001b[0m\n",
      "\u001b[92m 182  130 138.22\u001b[0m\n",
      "\u001b[92m 189  135 138.08\u001b[0m\n",
      "\u001b[92m 196  140 137.56\u001b[0m\n",
      "\u001b[92m 203  145 137.07\u001b[0m\n",
      "\u001b[92m 210  150 137.27\u001b[0m\n",
      "\u001b[92m 217  155 137.17\u001b[0m\n",
      "\u001b[92m 224  160 137.33\u001b[0m\n",
      "\u001b[92m 231  165 137.34\u001b[0m\n",
      "\u001b[92m 238  170 137.21\u001b[0m\n",
      "\u001b[92m 245  175 137.17\u001b[0m\n",
      "\u001b[92m 252  180 137.31\u001b[0m\n",
      "\u001b[92m 259  185 137.30\u001b[0m\n",
      "\u001b[92m 266  190 137.48\u001b[0m\n",
      "\u001b[92m 273  195 137.69\u001b[0m\n",
      "\u001b[92m 280  200 137.84\u001b[0m\n",
      "\u001b[92m 287  205 137.84\u001b[0m\n",
      "\u001b[92m 294  210 137.93\u001b[0m\n",
      "\u001b[92m 301  215 137.89\u001b[0m\n",
      "\u001b[92m 308  220 137.77\u001b[0m\n",
      "\u001b[92m 315  225 137.40\u001b[0m\n",
      "\u001b[92m 322  230 137.04\u001b[0m\n",
      "\u001b[92m 329  235 136.59\u001b[0m\n",
      "\u001b[92m 336  240 136.12\u001b[0m\n",
      "\u001b[92m 343  245 135.56\u001b[0m\n",
      "\u001b[92m 350  250 135.36\u001b[0m\n",
      "\u001b[92m 357  255 135.19\u001b[0m\n",
      "\u001b[92m 364  260 134.78\u001b[0m\n"
     ]
    }
   ],
   "source": [
    "print(' Cal   Tr')\n",
    "print('days days    SMA')\n",
    "for w in range(1, 53):\n",
    "    cal_days = w * 7\n",
    "    tr_days = w * 5\n",
    "    if tr_days > len(history):\n",
    "        break\n",
    "\n",
    "    sma = history.Close[-tr_days:].mean()\n",
    "    color = GREEN if sma < last_close else RED\n",
    "    print(f'{color}{cal_days:4} {tr_days:4} {sma:6.2f}{RESET}')"
   ]
  }
 ],
 "metadata": {
  "kernelspec": {
   "display_name": ".venv (3.12.3)",
   "language": "python",
   "name": "python3"
  },
  "language_info": {
   "codemirror_mode": {
    "name": "ipython",
    "version": 3
   },
   "file_extension": ".py",
   "mimetype": "text/x-python",
   "name": "python",
   "nbconvert_exporter": "python",
   "pygments_lexer": "ipython3",
   "version": "3.12.3"
  }
 },
 "nbformat": 4,
 "nbformat_minor": 2
}

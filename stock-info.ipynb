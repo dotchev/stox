{
 "cells": [
  {
   "cell_type": "code",
   "execution_count": 2,
   "metadata": {},
   "outputs": [],
   "source": [
    "import yfinance as yf\n",
    "import pprint\n"
   ]
  },
  {
   "cell_type": "code",
   "execution_count": 3,
   "metadata": {},
   "outputs": [
    {
     "name": "stdout",
     "output_type": "stream",
     "text": [
      "VUG\tUSD\t   292,144M\tVanguard Growth Index Fund ETF Shares\n",
      "VOOG\tUSD\t    16,054M\tVanguard S&P 500 Growth Index Fund ETF Shares\n"
     ]
    }
   ],
   "source": [
    "\n",
    "for symbol in [\n",
    "    'VUG', 'VOOG'\n",
    "    # 'MAGS', 'MAGX', 'MAG7.L', 'NVD3.L', 'QQQ5.L', 'SMH3.L', 'SP5Y.L'\n",
    "    # 'SPY', 'SSO','XS2D.L','UPRO','SPXL','3USL.MI','SPYU','SP5Y.L',\n",
    "    # 'MSF3.L','MSF2.L'\n",
    "]:\n",
    "    ticker = yf.Ticker(symbol)\n",
    "    info = ticker.info\n",
    "    print(f\"{symbol}\\t{info['currency']}\\t{info['totalAssets']/1e6:10,.0f}M\\t{info['longName']}\")"
   ]
  },
  {
   "cell_type": "code",
   "execution_count": 4,
   "metadata": {},
   "outputs": [
    {
     "data": {
      "text/plain": [
       "{'longBusinessSummary': 'The fund invests in financial instruments that ProShare Advisors believes, in combination, should produce daily returns consistent with the Daily Target. The index includes 100 of the largest domestic and international non-financial companies listed on The Nasdaq Stock Market based on market capitalization. The fund is non-diversified.',\n",
       " 'maxAge': 86400,\n",
       " 'priceHint': 2,\n",
       " 'previousClose': 88.79,\n",
       " 'open': 88.81,\n",
       " 'dayLow': 88.6,\n",
       " 'dayHigh': 90.17,\n",
       " 'regularMarketPreviousClose': 88.79,\n",
       " 'regularMarketOpen': 88.81,\n",
       " 'regularMarketDayLow': 88.6,\n",
       " 'regularMarketDayHigh': 90.17,\n",
       " 'trailingPE': 36.96231,\n",
       " 'volume': 37836421,\n",
       " 'regularMarketVolume': 37836421,\n",
       " 'averageVolume': 45764255,\n",
       " 'averageVolume10days': 44942050,\n",
       " 'averageDailyVolume10Day': 44942050,\n",
       " 'bid': 89.82,\n",
       " 'ask': 89.85,\n",
       " 'bidSize': 2000,\n",
       " 'askSize': 400,\n",
       " 'yield': 0.0121,\n",
       " 'totalAssets': 25401296896,\n",
       " 'fiftyTwoWeekLow': 48.8,\n",
       " 'fiftyTwoWeekHigh': 93.79,\n",
       " 'fiftyDayAverage': 84.1312,\n",
       " 'twoHundredDayAverage': 73.4539,\n",
       " 'navPrice': 88.8977,\n",
       " 'currency': 'USD',\n",
       " 'category': 'Trading--Leveraged Equity',\n",
       " 'ytdReturn': 0.1220776,\n",
       " 'beta3Year': 3.46,\n",
       " 'fundFamily': 'ProShares',\n",
       " 'fundInceptionDate': 1265673600,\n",
       " 'legalType': 'Exchange Traded Fund',\n",
       " 'threeYearAverageReturn': 0.20024599,\n",
       " 'fiveYearAverageReturn': 0.2649742,\n",
       " 'exchange': 'NGM',\n",
       " 'quoteType': 'ETF',\n",
       " 'symbol': 'TQQQ',\n",
       " 'underlyingSymbol': 'TQQQ',\n",
       " 'shortName': 'ProShares UltraPro QQQ',\n",
       " 'longName': 'ProShares UltraPro QQQ',\n",
       " 'firstTradeDateEpochUtc': 1265898600,\n",
       " 'timeZoneFullName': 'America/New_York',\n",
       " 'timeZoneShortName': 'EST',\n",
       " 'uuid': 'e44544e4-318f-3f5a-8077-5d451edcee89',\n",
       " 'messageBoardId': 'finmb_98126597',\n",
       " 'gmtOffSetMilliseconds': -18000000,\n",
       " 'trailingPegRatio': None}"
      ]
     },
     "metadata": {},
     "output_type": "display_data"
    }
   ],
   "source": [
    "ticker = yf.Ticker('TQQQ')\n",
    "display(ticker.info)"
   ]
  }
 ],
 "metadata": {
  "kernelspec": {
   "display_name": ".venv",
   "language": "python",
   "name": "python3"
  },
  "language_info": {
   "codemirror_mode": {
    "name": "ipython",
    "version": 3
   },
   "file_extension": ".py",
   "mimetype": "text/x-python",
   "name": "python",
   "nbconvert_exporter": "python",
   "pygments_lexer": "ipython3",
   "version": "3.12.3"
  }
 },
 "nbformat": 4,
 "nbformat_minor": 2
}

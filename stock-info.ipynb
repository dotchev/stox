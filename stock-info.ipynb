{
 "cells": [
  {
   "cell_type": "code",
   "execution_count": 1,
   "metadata": {},
   "outputs": [],
   "source": [
    "import yfinance as yf\n",
    "import pprint\n"
   ]
  },
  {
   "cell_type": "code",
   "execution_count": 7,
   "metadata": {},
   "outputs": [
    {
     "name": "stdout",
     "output_type": "stream",
     "text": [
      "VUG\tUSD\t   281,727M\tVanguard Growth Index Fund ETF Shares\n",
      "VOOG\tUSD\t    14,357M\tVanguard S&P 500 Growth Index Fund ETF Shares\n"
     ]
    }
   ],
   "source": [
    "\n",
    "for symbol in [\n",
    "    'VUG', 'VOOG'\n",
    "    # 'MAGS', 'MAGX', 'MAG7.L', 'NVD3.L', 'QQQ5.L', 'SMH3.L', 'SP5Y.L'\n",
    "    # 'SPY', 'SSO','XS2D.L','UPRO','SPXL','3USL.MI','SPYU','SP5Y.L',\n",
    "    # 'MSF3.L','MSF2.L'\n",
    "]:\n",
    "    ticker = yf.Ticker(symbol)\n",
    "    info = ticker.info\n",
    "    print(f\"{symbol}\\t{info['currency']}\\t{info['totalAssets']/1e6:10,.0f}M\\t{info['longName']}\")"
   ]
  },
  {
   "cell_type": "code",
   "execution_count": 3,
   "metadata": {},
   "outputs": [
    {
     "data": {
      "text/plain": [
       "{'longBusinessSummary': 'The Trust seeks to achieve its investment objective by holding a portfolio of the common stocks that are included in the index (the “Portfolio”), with the weight of each stock in the Portfolio substantially corresponding to the weight of such stock in the index.',\n",
       " 'maxAge': 86400,\n",
       " 'priceHint': 2,\n",
       " 'previousClose': 604.21,\n",
       " 'open': 606.0,\n",
       " 'dayLow': 605.21,\n",
       " 'dayHigh': 607.7795,\n",
       " 'regularMarketPreviousClose': 604.21,\n",
       " 'regularMarketOpen': 606.0,\n",
       " 'regularMarketDayLow': 605.21,\n",
       " 'regularMarketDayHigh': 607.7795,\n",
       " 'trailingPE': 28.191597,\n",
       " 'volume': 21399074,\n",
       " 'regularMarketVolume': 21399074,\n",
       " 'averageVolume': 43682001,\n",
       " 'averageVolume10days': 32952430,\n",
       " 'averageDailyVolume10Day': 32952430,\n",
       " 'bid': 607.63,\n",
       " 'ask': 607.62,\n",
       " 'bidSize': 1100,\n",
       " 'askSize': 1100,\n",
       " 'yield': 0.0116,\n",
       " 'totalAssets': 627773800448,\n",
       " 'fiftyTwoWeekLow': 466.43,\n",
       " 'fiftyTwoWeekHigh': 609.07,\n",
       " 'fiftyDayAverage': 589.1958,\n",
       " 'twoHundredDayAverage': 549.4304,\n",
       " 'trailingAnnualDividendRate': 5.662,\n",
       " 'trailingAnnualDividendYield': 0.009370914,\n",
       " 'navPrice': 604.32336,\n",
       " 'currency': 'USD',\n",
       " 'category': 'Large Blend',\n",
       " 'ytdReturn': 0.2832173,\n",
       " 'beta3Year': 1.0,\n",
       " 'fundFamily': 'SPDR State Street Global Advisors',\n",
       " 'fundInceptionDate': 727660800,\n",
       " 'legalType': 'Exchange Traded Fund',\n",
       " 'threeYearAverageReturn': 0.1062078,\n",
       " 'fiveYearAverageReturn': 0.1553147,\n",
       " 'exchange': 'PCX',\n",
       " 'quoteType': 'ETF',\n",
       " 'symbol': 'SPY',\n",
       " 'underlyingSymbol': 'SPY',\n",
       " 'shortName': 'SPDR S&P 500',\n",
       " 'longName': 'SPDR S&P 500 ETF Trust',\n",
       " 'firstTradeDateEpochUtc': 728317800,\n",
       " 'timeZoneFullName': 'America/New_York',\n",
       " 'timeZoneShortName': 'EST',\n",
       " 'uuid': 'e97de790-7e95-3762-8917-c59fcab3735e',\n",
       " 'messageBoardId': 'finmb_6160262',\n",
       " 'gmtOffSetMilliseconds': -18000000,\n",
       " 'trailingPegRatio': None}"
      ]
     },
     "metadata": {},
     "output_type": "display_data"
    }
   ],
   "source": [
    "ticker = yf.Ticker('SPY')\n",
    "display(ticker.info)"
   ]
  }
 ],
 "metadata": {
  "kernelspec": {
   "display_name": ".venv",
   "language": "python",
   "name": "python3"
  },
  "language_info": {
   "codemirror_mode": {
    "name": "ipython",
    "version": 3
   },
   "file_extension": ".py",
   "mimetype": "text/x-python",
   "name": "python",
   "nbconvert_exporter": "python",
   "pygments_lexer": "ipython3",
   "version": "3.12.3"
  }
 },
 "nbformat": 4,
 "nbformat_minor": 2
}

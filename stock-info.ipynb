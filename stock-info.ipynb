{
 "cells": [
  {
   "cell_type": "code",
   "execution_count": 1,
   "metadata": {},
   "outputs": [],
   "source": [
    "import yfinance as yf\n",
    "import pprint\n"
   ]
  },
  {
   "cell_type": "code",
   "execution_count": 2,
   "metadata": {},
   "outputs": [
    {
     "name": "stdout",
     "output_type": "stream",
     "text": [
      "SPY\tUSD\t585,431,908,352\tSPDR S&P 500 ETF Trust\n",
      "SSO\tUSD\t  5,191,311,872\tProShares Ultra S&P500\n",
      "XS2D.L\tUSD\t    380,156,480\tXtrackers S&P 500 2x Leveraged Daily Swap UCITS ETF 1C\n",
      "UPRO\tUSD\t  3,787,277,312\tProShares UltraPro S&P500\n",
      "SPXL\tUSD\t  4,891,050,496\tDirexion Daily S&P500 Bull 3X Shares\n",
      "3USL.MI\tEUR\t    126,570,960\tWisdomTree S&P 500 3x Daily Leveraged\n",
      "SPYU\tUSD\t    153,278,624\tMAX S&P 500 4X Leveraged ETN\n",
      "SP5Y.L\tUSD\t      3,204,631\tLeverage Shares 5x Long US 500 ETP Securities\n",
      "MSF3.L\tUSD\t      8,591,568\tLeverage Shares 3x Microsoft ETP Securities\n",
      "MSF2.L\tUSD\t      3,458,869\tLeverage Shares 2x Microsoft ETP Securities A\n"
     ]
    }
   ],
   "source": [
    "\n",
    "for symbol in [\n",
    "    # 'MAGS', 'MAGX', 'MAG7.L', 'NVD3.L', 'QQQ5.L', 'SMH3.L', 'SP5Y.L'\n",
    "    'SPY', 'SSO','XS2D.L','UPRO','SPXL','3USL.MI','SPYU','SP5Y.L',\n",
    "    'MSF3.L','MSF2.L'\n",
    "]:\n",
    "    ticker = yf.Ticker(symbol)\n",
    "    info = ticker.info\n",
    "    print(f\"{symbol}\\t{info['currency']}\\t{info['totalAssets']:15,}\\t{info['longName']}\")"
   ]
  },
  {
   "cell_type": "code",
   "execution_count": 3,
   "metadata": {},
   "outputs": [
    {
     "data": {
      "text/plain": [
       "{'longBusinessSummary': 'The Trust seeks to achieve its investment objective by holding a portfolio of the common stocks that are included in the index (the “Portfolio”), with the weight of each stock in the Portfolio substantially corresponding to the weight of such stock in the index.',\n",
       " 'maxAge': 86400,\n",
       " 'priceHint': 2,\n",
       " 'previousClose': 593.35,\n",
       " 'open': 589.72,\n",
       " 'dayLow': 583.86,\n",
       " 'dayHigh': 590.2,\n",
       " 'regularMarketPreviousClose': 593.35,\n",
       " 'regularMarketOpen': 589.72,\n",
       " 'regularMarketDayLow': 583.86,\n",
       " 'regularMarketDayHigh': 590.2,\n",
       " 'trailingPE': 29.506851,\n",
       " 'volume': 74173565,\n",
       " 'regularMarketVolume': 74173565,\n",
       " 'averageVolume': 45865401,\n",
       " 'averageVolume10days': 48236000,\n",
       " 'averageDailyVolume10Day': 48236000,\n",
       " 'bid': 586.13,\n",
       " 'ask': 586.3,\n",
       " 'bidSize': 1000,\n",
       " 'askSize': 1000,\n",
       " 'yield': 0.0123000005,\n",
       " 'totalAssets': 585431908352,\n",
       " 'fiftyTwoWeekLow': 450.52,\n",
       " 'fiftyTwoWeekHigh': 600.17,\n",
       " 'fiftyDayAverage': 575.601,\n",
       " 'twoHundredDayAverage': 540.01984,\n",
       " 'trailingAnnualDividendRate': 5.662,\n",
       " 'trailingAnnualDividendYield': 0.009542429,\n",
       " 'navPrice': 595.5265,\n",
       " 'currency': 'USD',\n",
       " 'category': 'Large Blend',\n",
       " 'ytdReturn': 0.2649526,\n",
       " 'beta3Year': 1.0,\n",
       " 'fundFamily': 'SPDR State Street Global Advisors',\n",
       " 'fundInceptionDate': 727660800,\n",
       " 'legalType': 'Exchange Traded Fund',\n",
       " 'threeYearAverageReturn': 0.0993969,\n",
       " 'fiveYearAverageReturn': 0.1587605,\n",
       " 'exchange': 'PCX',\n",
       " 'quoteType': 'ETF',\n",
       " 'symbol': 'SPY',\n",
       " 'underlyingSymbol': 'SPY',\n",
       " 'shortName': 'SPDR S&P 500',\n",
       " 'longName': 'SPDR S&P 500 ETF Trust',\n",
       " 'firstTradeDateEpochUtc': 728317800,\n",
       " 'timeZoneFullName': 'America/New_York',\n",
       " 'timeZoneShortName': 'EST',\n",
       " 'uuid': 'e97de790-7e95-3762-8917-c59fcab3735e',\n",
       " 'messageBoardId': 'finmb_6160262',\n",
       " 'gmtOffSetMilliseconds': -18000000,\n",
       " 'trailingPegRatio': None}"
      ]
     },
     "metadata": {},
     "output_type": "display_data"
    }
   ],
   "source": [
    "ticker = yf.Ticker('SPY')\n",
    "display(ticker.info)"
   ]
  }
 ],
 "metadata": {
  "kernelspec": {
   "display_name": ".venv",
   "language": "python",
   "name": "python3"
  },
  "language_info": {
   "codemirror_mode": {
    "name": "ipython",
    "version": 3
   },
   "file_extension": ".py",
   "mimetype": "text/x-python",
   "name": "python",
   "nbconvert_exporter": "python",
   "pygments_lexer": "ipython3",
   "version": "3.12.3"
  }
 },
 "nbformat": 4,
 "nbformat_minor": 2
}

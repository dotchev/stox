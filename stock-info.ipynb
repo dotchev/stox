{
 "cells": [
  {
   "cell_type": "code",
   "execution_count": 9,
   "metadata": {},
   "outputs": [],
   "source": [
    "import yfinance as yf\n",
    "import pprint\n"
   ]
  },
  {
   "cell_type": "code",
   "execution_count": 21,
   "metadata": {},
   "outputs": [
    {
     "name": "stdout",
     "output_type": "stream",
     "text": [
      "MAGS USD Roundhill Magnificent Seven ETF\n",
      "MAGX USD Roundhill Daily 2X Long Magnificent Seven ETF\n",
      "MAG7.L USD Leverage Shares 5x Long Magnificent 7 ETP Securities\n",
      "NVD3.L USD Leverage Shares 3x NVIDIA ETP Securities\n",
      "QQQ5.L USD Leverage Shares 5x Long US Tech 100 ETP Securities\n"
     ]
    }
   ],
   "source": [
    "\n",
    "for symbol in ['MAGS','MAGX','MAG7.L','NVD3.L','QQQ5.L']:\n",
    "  ticker = yf.Ticker(symbol)\n",
    "  print(symbol, ticker.info['currency'], ticker.info['longName'])"
   ]
  }
 ],
 "metadata": {
  "kernelspec": {
   "display_name": "Python 3",
   "language": "python",
   "name": "python3"
  },
  "language_info": {
   "codemirror_mode": {
    "name": "ipython",
    "version": 3
   },
   "file_extension": ".py",
   "mimetype": "text/x-python",
   "name": "python",
   "nbconvert_exporter": "python",
   "pygments_lexer": "ipython3",
   "version": "3.10.12"
  }
 },
 "nbformat": 4,
 "nbformat_minor": 2
}

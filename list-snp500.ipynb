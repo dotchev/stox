{
 "cells": [
  {
   "cell_type": "code",
   "execution_count": 3,
   "id": "fad2beea",
   "metadata": {},
   "outputs": [],
   "source": [
    "import pandas as pd\n",
    "\n",
    "# URL of Wikipedia page with S&P 500 companies\n",
    "url = \"https://en.wikipedia.org/wiki/List_of_S%26P_500_companies\"\n",
    "# Read the HTML tables from the page\n",
    "tables = pd.read_html(url)\n",
    "# The first table contains the S&P 500 constituents\n",
    "sp500_df = tables[0]\n",
    "# Sort by Symbol for consistency\n",
    "sp500_df = sp500_df.sort_values(by=\"Symbol\")\n",
    "# Save to CSV\n",
    "sp500_df.to_csv(\"data/sp500_stocks.csv\", index=False)\n"
   ]
  }
 ],
 "metadata": {
  "kernelspec": {
   "display_name": ".venv",
   "language": "python",
   "name": "python3"
  },
  "language_info": {
   "codemirror_mode": {
    "name": "ipython",
    "version": 3
   },
   "file_extension": ".py",
   "mimetype": "text/x-python",
   "name": "python",
   "nbconvert_exporter": "python",
   "pygments_lexer": "ipython3",
   "version": "3.12.3"
  }
 },
 "nbformat": 4,
 "nbformat_minor": 5
}

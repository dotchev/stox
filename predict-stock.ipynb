{
 "cells": [
  {
   "cell_type": "code",
   "execution_count": 14,
   "metadata": {},
   "outputs": [],
   "source": [
    "import pandas as pd\n",
    "import yfinance as yf\n",
    "from datetime import date"
   ]
  },
  {
   "cell_type": "code",
   "execution_count": 15,
   "metadata": {},
   "outputs": [],
   "source": [
    "symbol = 'SMH'\n",
    "calendar_days = 19\n",
    "\n",
    "start_date = '2023-1-1' # start of uptrend\n",
    "sma_days = 200\n",
    "\n",
    "trading_days = round(calendar_days * 252 / 365)\n",
    "tickerData = yf.Ticker(symbol)\n",
    "history = tickerData.history(interval='1d', start=start_date, end=date.today()) # prices are adjusted for splits\n",
    "history['SMA'] = history['Close'].rolling(window=sma_days).mean()\n",
    "history['SMA_dist'] = history.Close / history.SMA - 1\n",
    "history['Change'] = history.Close.pct_change(periods=trading_days)\n",
    "\n",
    "# display(history)"
   ]
  },
  {
   "cell_type": "code",
   "execution_count": 16,
   "metadata": {},
   "outputs": [
    {
     "name": "stdout",
     "output_type": "stream",
     "text": [
      "SMH\n",
      "last price: $242.13\n",
      "SMA 200d: $237.80\n",
      "Mean SMA dist: +20.14%\n",
      "Norm price: $285.71\n",
      "Mean change over 13d: 2.52%\n",
      "Price after 19d: $292.90\n"
     ]
    }
   ],
   "source": [
    "last_price = history.Close.iloc[-1]\n",
    "last_sma = history.SMA.iloc[-1]\n",
    "mean_dist = history.SMA_dist.mean()\n",
    "norm_price = last_sma * (1 + mean_dist)\n",
    "mean_change = history.Change.mean()\n",
    "future_price = norm_price * (1 + mean_change)\n",
    "\n",
    "print(symbol)\n",
    "print(f'last price: ${last_price:.2f}')\n",
    "print(f'SMA {sma_days}d: ${last_sma:.2f}')\n",
    "print(f'Mean SMA dist: {mean_dist:+.2%}')\n",
    "print(f'Norm price: ${norm_price:.2f}')\n",
    "print(f'Mean change over {trading_days}d: {mean_change:.2%}')\n",
    "print(f'Price after {calendar_days}d: ${future_price:.2f}')"
   ]
  }
 ],
 "metadata": {
  "kernelspec": {
   "display_name": ".venv",
   "language": "python",
   "name": "python3"
  },
  "language_info": {
   "codemirror_mode": {
    "name": "ipython",
    "version": 3
   },
   "file_extension": ".py",
   "mimetype": "text/x-python",
   "name": "python",
   "nbconvert_exporter": "python",
   "pygments_lexer": "ipython3",
   "version": "3.12.3"
  }
 },
 "nbformat": 4,
 "nbformat_minor": 2
}

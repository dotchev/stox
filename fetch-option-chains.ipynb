{
 "cells": [
  {
   "cell_type": "code",
   "execution_count": 2,
   "id": "bfa25f28",
   "metadata": {},
   "outputs": [
    {
     "name": "stdout",
     "output_type": "stream",
     "text": [
      "Fetching option chains for MAGS...\n",
      "Fetched 8 expirations for MAGS\n",
      "Fetching option chains for FNGS...\n",
      "Fetched 5 expirations for FNGS\n",
      "Fetching option chains for SPMO...\n",
      "Fetched 4 expirations for SPMO\n",
      "Fetching option chains for NVDA...\n",
      "Fetched 20 expirations for NVDA\n"
     ]
    }
   ],
   "source": [
    "from yfetch import get_option_chains\n",
    "\n",
    "symbols = ['MAGS', 'FNGS', 'SPMO', 'NVDA']\n",
    "\n",
    "for symbol in symbols:\n",
    "    print(f\"Fetching option chains for {symbol}...\")\n",
    "    options = get_option_chains(symbol)\n",
    "    print(f\"Fetched {len(options.chains)} expirations for {symbol}\")"
   ]
  }
 ],
 "metadata": {
  "kernelspec": {
   "display_name": ".venv (3.12.3)",
   "language": "python",
   "name": "python3"
  },
  "language_info": {
   "codemirror_mode": {
    "name": "ipython",
    "version": 3
   },
   "file_extension": ".py",
   "mimetype": "text/x-python",
   "name": "python",
   "nbconvert_exporter": "python",
   "pygments_lexer": "ipython3",
   "version": "3.12.3"
  }
 },
 "nbformat": 4,
 "nbformat_minor": 5
}

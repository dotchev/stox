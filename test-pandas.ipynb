{
 "cells": [
  {
   "cell_type": "code",
   "execution_count": 3,
   "metadata": {},
   "outputs": [
    {
     "name": "stdout",
     "output_type": "stream",
     "text": [
      "True\n"
     ]
    }
   ],
   "source": [
    "import pandas as pd\n",
    "\n",
    "# Sample DataFrame\n",
    "data = {'A': [1, 2, 3, 4], 'B': [1, 2, 0, 4], 'C': [0, 1, 2, 3]}\n",
    "df = pd.DataFrame(data)\n",
    "\n",
    "# Check if values in columns A and B are equal in any row\n",
    "equal_rows = (df['A'] == df['B'])\n",
    "\n",
    "# Check if values in column B are greater than values in column C\n",
    "greater_rows = (df['B'] > df['C'])\n",
    "\n",
    "# Combine both conditions\n",
    "combined_condition = equal_rows & greater_rows\n",
    "\n",
    "# Check if any row satisfies both conditions\n",
    "result = combined_condition.any()\n",
    "\n",
    "print(result)\n"
   ]
  }
 ],
 "metadata": {
  "kernelspec": {
   "display_name": "Python 3",
   "language": "python",
   "name": "python3"
  },
  "language_info": {
   "codemirror_mode": {
    "name": "ipython",
    "version": 3
   },
   "file_extension": ".py",
   "mimetype": "text/x-python",
   "name": "python",
   "nbconvert_exporter": "python",
   "pygments_lexer": "ipython3",
   "version": "3.10.12"
  }
 },
 "nbformat": 4,
 "nbformat_minor": 2
}
